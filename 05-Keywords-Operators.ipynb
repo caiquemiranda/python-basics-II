{
 "cells": [
  {
   "cell_type": "code",
   "execution_count": 1,
   "metadata": {},
   "outputs": [
    {
     "name": "stdout",
     "output_type": "stream",
     "text": [
      "Versão de Python Neste Jupyter Notebook: 3.10.5\n"
     ]
    }
   ],
   "source": [
    "# Versão da Linguagem Python\n",
    "\n",
    "from platform import python_version\n",
    "print('Versão de Python Neste Jupyter Notebook:', python_version())"
   ]
  },
  {
   "cell_type": "code",
   "execution_count": 2,
   "metadata": {},
   "outputs": [],
   "source": [
    "import warnings\n",
    "warnings.filterwarnings('ignore')"
   ]
  },
  {
   "attachments": {},
   "cell_type": "markdown",
   "metadata": {},
   "source": [
    "### Python for Machine Learning"
   ]
  },
  {
   "cell_type": "code",
   "execution_count": 3,
   "metadata": {},
   "outputs": [
    {
     "data": {
      "text/plain": [
       "True"
      ]
     },
     "execution_count": 3,
     "metadata": {},
     "output_type": "execute_result"
    }
   ],
   "source": [
    "(5 > 3) and (4 > 2)"
   ]
  },
  {
   "cell_type": "code",
   "execution_count": 4,
   "metadata": {},
   "outputs": [],
   "source": [
    "import calendar as c"
   ]
  },
  {
   "cell_type": "code",
   "execution_count": 5,
   "metadata": {},
   "outputs": [
    {
     "data": {
      "text/plain": [
       "False"
      ]
     },
     "execution_count": 5,
     "metadata": {},
     "output_type": "execute_result"
    }
   ],
   "source": [
    "c.isleap(2019)"
   ]
  },
  {
   "cell_type": "code",
   "execution_count": 6,
   "metadata": {},
   "outputs": [],
   "source": [
    "stock = 'GOOG'"
   ]
  },
  {
   "cell_type": "code",
   "execution_count": 7,
   "metadata": {},
   "outputs": [],
   "source": [
    "assert stock == 'GOOG'"
   ]
  },
  {
   "cell_type": "code",
   "execution_count": 8,
   "metadata": {},
   "outputs": [
    {
     "ename": "AssertionError",
     "evalue": "",
     "output_type": "error",
     "traceback": [
      "\u001b[1;31m---------------------------------------------------------------------------\u001b[0m",
      "\u001b[1;31mAssertionError\u001b[0m                            Traceback (most recent call last)",
      "\u001b[1;32md:\\GIT-repository\\github-python-basics-II\\python-basics-II\\05-Keywords-Operators.ipynb Cell 9\u001b[0m in \u001b[0;36m<cell line: 1>\u001b[1;34m()\u001b[0m\n\u001b[1;32m----> <a href='vscode-notebook-cell:/d%3A/GIT-repository/github-python-basics-II/python-basics-II/05-Keywords-Operators.ipynb#X55sZmlsZQ%3D%3D?line=0'>1</a>\u001b[0m \u001b[39massert\u001b[39;00m stock \u001b[39m==\u001b[39m \u001b[39m'\u001b[39m\u001b[39mAAPL\u001b[39m\u001b[39m'\u001b[39m\n",
      "\u001b[1;31mAssertionError\u001b[0m: "
     ]
    }
   ],
   "source": [
    "assert stock == 'AAPL'"
   ]
  },
  {
   "cell_type": "code",
   "execution_count": null,
   "metadata": {},
   "outputs": [],
   "source": [
    "# The break keyword is used to break a for loop and while loop.\n",
    "# A for loop that will print from 0 to 9\n",
    "# Loop will break when 'i' will be greater than 3\n",
    "for i in range(10):\n",
    "    if i > 3:\n",
    "        break\n",
    "    print(i)"
   ]
  },
  {
   "cell_type": "code",
   "execution_count": null,
   "metadata": {},
   "outputs": [],
   "source": [
    "# The class keyword is used to create a class.\n",
    "class stock():\n",
    "    name = 'AAPL'\n",
    "    price = 224.61"
   ]
  },
  {
   "cell_type": "code",
   "execution_count": null,
   "metadata": {},
   "outputs": [],
   "source": [
    "s1 = stock()"
   ]
  },
  {
   "cell_type": "code",
   "execution_count": null,
   "metadata": {},
   "outputs": [],
   "source": [
    "s1.name"
   ]
  },
  {
   "cell_type": "code",
   "execution_count": null,
   "metadata": {},
   "outputs": [],
   "source": [
    "s1.price"
   ]
  },
  {
   "cell_type": "code",
   "execution_count": null,
   "metadata": {},
   "outputs": [],
   "source": [
    "# The continue keyword is used to end the current iteration in a for loop or while loop, and continues to the next iteration.\n",
    "# A for loop to print 0 to 9\n",
    "# When `i` will be 4, iteration will continue without\n",
    "# checking further\n",
    "\n",
    "for i in range(9):\n",
    "    \n",
    "    if i == 4:\n",
    "        continue\n",
    "    \n",
    "    else:\n",
    "        print(i)"
   ]
  },
  {
   "cell_type": "code",
   "execution_count": null,
   "metadata": {},
   "outputs": [],
   "source": [
    "# The def keyword is used to create/define a function within Python.\n",
    "\n",
    "def python_function():\n",
    "    print"
   ]
  },
  {
   "cell_type": "code",
   "execution_count": null,
   "metadata": {},
   "outputs": [],
   "source": [
    "# The del keyword is used to delete objects. It can also be used to delete variables, lists, or elements from data structures, etc.\n",
    "# Define the variable 'a'\n",
    "a = 'Hello'"
   ]
  },
  {
   "cell_type": "code",
   "execution_count": null,
   "metadata": {},
   "outputs": [],
   "source": [
    "# Delete the variable 'a'\n",
    "del(a)"
   ]
  },
  {
   "cell_type": "code",
   "execution_count": null,
   "metadata": {},
   "outputs": [],
   "source": [
    "# Print the variable 'a'. Python will throw an error as the\n",
    "# variable 'a' does not exist.\n",
    "a"
   ]
  },
  {
   "cell_type": "code",
   "execution_count": null,
   "metadata": {},
   "outputs": [],
   "source": [
    "number = 5"
   ]
  },
  {
   "cell_type": "code",
   "execution_count": null,
   "metadata": {},
   "outputs": [],
   "source": [
    "if number < 5:\n",
    "    print('Number is less than 5')\n",
    "\n",
    "elif number == 5:\n",
    "    print('Number is equal to 5')\n",
    "\n",
    "else:\n",
    "    print('Number is greater than 5')"
   ]
  },
  {
   "cell_type": "code",
   "execution_count": null,
   "metadata": {},
   "outputs": [],
   "source": [
    "# Python will throw an error here because the variable 'y'\n",
    "# is not defined\n",
    "\n",
    "try:\n",
    "    y > 5\n",
    "except:\n",
    "    print('Something went wrong.')"
   ]
  },
  {
   "cell_type": "code",
   "execution_count": null,
   "metadata": {},
   "outputs": [],
   "source": [
    "# The finally keyword is used to try...except block to define a block of code that will run no matter if the try block raises an error or not. This can be useful to close objects and clean up resources.\n",
    "# Code in the 'finally' block will execute whether or not\n",
    "# the code in the 'try' block raises an error\n",
    "try:\n",
    "    y > 5\n",
    "\n",
    "except:\n",
    "    print('Something went wrong.')\n",
    "finally:\n",
    "    print('The try...except code is finished')"
   ]
  },
  {
   "cell_type": "code",
   "execution_count": null,
   "metadata": {},
   "outputs": [],
   "source": [
    "# The False keyword is used to represent the boolean result false. It evaluates to 0 when it is cast to an integer value.\n",
    "buy_flag = False\n",
    "int(False)"
   ]
  },
  {
   "cell_type": "code",
   "execution_count": null,
   "metadata": {},
   "outputs": [],
   "source": [
    "# The True keyword is used to represent the boolean result true. It evaluates to 1 when cast to an integer value.\n",
    "buy_flag = True\n",
    "int(True)"
   ]
  },
  {
   "cell_type": "code",
   "execution_count": null,
   "metadata": {},
   "outputs": [],
   "source": [
    "# The for keyword is used to define/create a for loop.\n",
    "for i in range(5):\n",
    "    print(i)"
   ]
  },
  {
   "cell_type": "code",
   "execution_count": null,
   "metadata": {},
   "outputs": [],
   "source": [
    "# The import keyword is used to import external libraries and modules in to current program code.\n",
    "\n",
    "import pandas\n",
    "import numpy"
   ]
  },
  {
   "cell_type": "code",
   "execution_count": null,
   "metadata": {},
   "outputs": [],
   "source": [
    "# The from keyword is used while importing modules and libraries in Python. It is used to import specific modules from the libraries.\n",
    "\n",
    "# Importing DataFrame module from the pandas library\n",
    "from pandas import DataFrame\n",
    "\n",
    "# Importing time module from the datetime package\n",
    "from datetime import time\n",
    "\n",
    "# Importing floor function from the math module\n",
    "from math import floor"
   ]
  },
  {
   "cell_type": "code",
   "execution_count": null,
   "metadata": {},
   "outputs": [],
   "source": [
    "# The global keyword is used to declare a global variables to be used from non-global scope.\n",
    "ticker = 'GOOG'\n",
    "\n",
    "def stocks():\n",
    "    global ticker\n",
    "    # Redeclaring or assigning new value 'MSFT' to\n",
    "     # global variable 'ticker'\n",
    "    \n",
    "    ticker = 'MSFT'\n",
    "\n",
    "stocks()\n",
    "print(ticker)"
   ]
  },
  {
   "cell_type": "code",
   "execution_count": null,
   "metadata": {},
   "outputs": [],
   "source": [
    "# The in keyword is used to check if a value is present in a sequence. It is also used to iterate through a sequence in a for loop.\n",
    "\n",
    "stock_list = ['GOOG', 'MSFT', 'NFLX', 'TSLA']\n",
    "'GOOG' in stock_list"
   ]
  },
  {
   "cell_type": "code",
   "execution_count": null,
   "metadata": {},
   "outputs": [],
   "source": [
    "'AMZN' in stock_list"
   ]
  },
  {
   "cell_type": "code",
   "execution_count": null,
   "metadata": {},
   "outputs": [],
   "source": [
    "# The is keyword is used to test if two variables refers to the same object in Python. It returns true if two variables are same objects, false otherwise.\n",
    "\n",
    "stock_list = ['GOOG', 'MSFT', 'NFLX', 'TSLA']"
   ]
  },
  {
   "cell_type": "code",
   "execution_count": null,
   "metadata": {},
   "outputs": [],
   "source": [
    "y = stock_list"
   ]
  },
  {
   "cell_type": "code",
   "execution_count": null,
   "metadata": {},
   "outputs": [],
   "source": [
    "# Checks whether the 'stock_list' and 'y' are same or not\n",
    "stock_list is y"
   ]
  },
  {
   "cell_type": "code",
   "execution_count": null,
   "metadata": {},
   "outputs": [],
   "source": [
    "y is stock_list"
   ]
  },
  {
   "cell_type": "code",
   "execution_count": null,
   "metadata": {},
   "outputs": [],
   "source": [
    "# Reversing elements in the 'stock_list' also reverses\n",
    "# elements in the 'y' as both are same\n",
    "\n",
    "stock_list.reverse()"
   ]
  },
  {
   "cell_type": "code",
   "execution_count": null,
   "metadata": {},
   "outputs": [],
   "source": [
    "y"
   ]
  },
  {
   "cell_type": "code",
   "execution_count": null,
   "metadata": {},
   "outputs": [],
   "source": [
    "# The lambda keyword is used to create a small anonymous function in Python. It can take multiple arguments but accepts only a single expression.\n",
    "# Creates an anonymous function that adds two values\n",
    "# provided by 'x' and 'y'\n",
    "\n",
    "addition = lambda x, y : x + y"
   ]
  },
  {
   "cell_type": "code",
   "execution_count": null,
   "metadata": {},
   "outputs": [],
   "source": [
    "addition(5, 2)"
   ]
  },
  {
   "cell_type": "code",
   "execution_count": null,
   "metadata": {},
   "outputs": [],
   "source": [
    "# The None keyword is used to define a null value, or no value at all. It\n",
    "# is not same as 0, False, or an empty string. None is represented by a datatype of NoneType.\n",
    "x = None"
   ]
  },
  {
   "cell_type": "code",
   "execution_count": null,
   "metadata": {},
   "outputs": [],
   "source": [
    "type(x)"
   ]
  },
  {
   "cell_type": "code",
   "execution_count": null,
   "metadata": {},
   "outputs": [],
   "source": [
    "# The nonlocal keyword is used to declare a variable that is not local. \n",
    "# It is used to work with variables inside nested functions, where the\n",
    "# variable should not belong to the inner function.\n",
    "# Instead of creating a new variable 'x' within the\n",
    "# 'nested_function' block, it will use the variable 'x'\n",
    "# defined in the 'main function'\n",
    "\n",
    "def main_function():\n",
    "    x = \"MSFT\"\n",
    "    def nested_function():\n",
    "        nonlocal x\n",
    "        x = \"GOOG\"\n",
    "    nested_function()\n",
    "    return x\n",
    "\n",
    "print(main_function())"
   ]
  },
  {
   "cell_type": "code",
   "execution_count": null,
   "metadata": {},
   "outputs": [],
   "source": [
    "# The not keyword is a logical operator similar to the and operator. It returns the boolean value True if an expression is not true, False otherwise.\n",
    "buy = False\n",
    "not buy"
   ]
  },
  {
   "cell_type": "code",
   "execution_count": null,
   "metadata": {},
   "outputs": [],
   "source": [
    "# The or keyword is a logical operator used to check multiple conditional statements and it returns True if at least one statement is True, False otherwise.\n",
    "(5 > 3) or (4 < 2)"
   ]
  },
  {
   "cell_type": "code",
   "execution_count": null,
   "metadata": {},
   "outputs": [],
   "source": [
    "# The pass keyword is used as a placeholder for a null statement. It does nothing when used. If we have empty function definition,\n",
    "# Python will return an error. Hence, it can be used as a placeholder in an empty function.\n",
    "def empty_function():\n",
    "\n",
    "empty_function()"
   ]
  },
  {
   "cell_type": "code",
   "execution_count": null,
   "metadata": {},
   "outputs": [],
   "source": [
    "def empty_function():\n",
    "    pass\n",
    "\n",
    "empty_function()"
   ]
  },
  {
   "cell_type": "code",
   "execution_count": null,
   "metadata": {},
   "outputs": [],
   "source": [
    "# The raise keyword is used to raise an error explicitly in a code.\n",
    "\n",
    "x = 'Python'\n",
    "if not type(x) is int:\n",
    "    raise TypeError('Only integers are allowed')"
   ]
  },
  {
   "cell_type": "code",
   "execution_count": null,
   "metadata": {},
   "outputs": [],
   "source": [
    "# The return keyword is used to return a value from a function or method.\n",
    "def addition(a, b):\n",
    "    return a + b"
   ]
  },
  {
   "cell_type": "code",
   "execution_count": null,
   "metadata": {},
   "outputs": [],
   "source": [
    "addition(2, 3)"
   ]
  },
  {
   "cell_type": "code",
   "execution_count": null,
   "metadata": {},
   "outputs": [],
   "source": [
    "# The with keyword is used to wrap the execution of a block with methods defined by a context manager1. It simplifies exception handling by encapsulating common preparation and cleanup tasks. For example,\n",
    "# the open() function is a context manager in itself, which allows opening a file, keeping it open as long as the execution is in context of the with, and closing it as soon as we leave the context. So simply\n",
    "# put, some resources are acquired by the with statement and released when we leave the with context.\n",
    "\n",
    "# Open the file 'abc.txt' using the 'with' keyword in the\n",
    "\n",
    "# append mode\n",
    "with open('data/abc.txt', 'a') as file:\n",
    "    # Append the file\n",
    "    file.write('Hello Python')"
   ]
  },
  {
   "cell_type": "code",
   "execution_count": null,
   "metadata": {},
   "outputs": [],
   "source": [
    "# We do not need to close the file as it will be called\n",
    "# automatically as soon as we leave the 'with' block\n",
    "# Open the file in the read mode\n",
    "\n",
    "with open('abc.txt', 'r') as file:\n",
    "    print(file.readline())"
   ]
  },
  {
   "attachments": {},
   "cell_type": "markdown",
   "metadata": {},
   "source": [
    "### Operators"
   ]
  },
  {
   "attachments": {},
   "cell_type": "markdown",
   "metadata": {},
   "source": [
    "#### Arithmetic operators"
   ]
  },
  {
   "cell_type": "code",
   "execution_count": null,
   "metadata": {},
   "outputs": [],
   "source": [
    "# + : This is an addition operator used to perform the addition between values.\n",
    "\n",
    "5 + 3"
   ]
  },
  {
   "cell_type": "code",
   "execution_count": null,
   "metadata": {},
   "outputs": [],
   "source": [
    "# - : This is a subtraction operator used to perform the subtraction between operands.\n",
    "5 - 2"
   ]
  },
  {
   "cell_type": "code",
   "execution_count": null,
   "metadata": {},
   "outputs": [],
   "source": [
    "# / : This is a division operator which performs the division operation and returns a float output.\n",
    "\n",
    "10 / 2"
   ]
  },
  {
   "cell_type": "code",
   "execution_count": null,
   "metadata": {},
   "outputs": [],
   "source": [
    "# % : This is a modulus operator. It returns the remainder of the division operation.\n",
    "16 % 5"
   ]
  },
  {
   "cell_type": "code",
   "execution_count": null,
   "metadata": {},
   "outputs": [],
   "source": [
    "# ** : This operator is used to perform the exponentiation operation,\n",
    "# sometimes referred to as the raised to power operation. This essentially\n",
    "# performs the operation of raising one quantity to the power of another quantity.\n",
    "\n",
    "2 ** 3"
   ]
  },
  {
   "cell_type": "code",
   "execution_count": null,
   "metadata": {},
   "outputs": [],
   "source": [
    "3 ** 2"
   ]
  },
  {
   "cell_type": "code",
   "execution_count": null,
   "metadata": {},
   "outputs": [],
   "source": [
    "# // : This operator is used to perform the floor division operation and it returns the integer output.\n",
    "# Floor division operation\n",
    "10 // 4"
   ]
  },
  {
   "cell_type": "code",
   "execution_count": null,
   "metadata": {},
   "outputs": [],
   "source": [
    "# Normal division operation\n",
    "10 / 4"
   ]
  },
  {
   "attachments": {},
   "cell_type": "markdown",
   "metadata": {},
   "source": [
    "#### Comparison operators"
   ]
  },
  {
   "cell_type": "code",
   "execution_count": null,
   "metadata": {},
   "outputs": [],
   "source": [
    "a = 5\n"
   ]
  },
  {
   "cell_type": "code",
   "execution_count": null,
   "metadata": {},
   "outputs": [],
   "source": [
    "b = 3"
   ]
  },
  {
   "cell_type": "code",
   "execution_count": null,
   "metadata": {},
   "outputs": [],
   "source": [
    "x = 5"
   ]
  },
  {
   "cell_type": "code",
   "execution_count": null,
   "metadata": {},
   "outputs": [],
   "source": [
    "y = 8"
   ]
  },
  {
   "cell_type": "code",
   "execution_count": null,
   "metadata": {},
   "outputs": [],
   "source": [
    "# == : This is an equal to operator used to check whether two values are\n",
    "# equal or not. It returns true if values are equal, false otherwise.\n",
    "\n",
    "a == x"
   ]
  },
  {
   "cell_type": "code",
   "execution_count": null,
   "metadata": {},
   "outputs": [],
   "source": [
    "a == b"
   ]
  },
  {
   "cell_type": "code",
   "execution_count": null,
   "metadata": {},
   "outputs": [],
   "source": [
    "# != : This is a not equal to operator and works exactly opposite to the\n",
    "# above discussed equal to operator. It returns True if values are not\n",
    "# equal, and false otherwise.\n",
    "\n",
    "a != x"
   ]
  },
  {
   "cell_type": "code",
   "execution_count": null,
   "metadata": {},
   "outputs": [],
   "source": [
    "a != b"
   ]
  },
  {
   "cell_type": "code",
   "execution_count": null,
   "metadata": {},
   "outputs": [],
   "source": [
    "# > : This is a greater than operator used to check whether one value is\n",
    "# greater than another value. It returns true if the first value is greater\n",
    "# compared to the latter, false otherwise.\n",
    "\n",
    "y > x"
   ]
  },
  {
   "cell_type": "code",
   "execution_count": null,
   "metadata": {},
   "outputs": [],
   "source": [
    "b > y"
   ]
  },
  {
   "cell_type": "code",
   "execution_count": null,
   "metadata": {},
   "outputs": [],
   "source": [
    "# < : This is a less than operator used to check whether one value is less\n",
    "# than another value. It returns true if the first value is less compared\n",
    "# to the latter, false otherwise.\n",
    "\n",
    "y < x"
   ]
  },
  {
   "cell_type": "code",
   "execution_count": null,
   "metadata": {},
   "outputs": [],
   "source": [
    "b < y"
   ]
  },
  {
   "cell_type": "code",
   "execution_count": null,
   "metadata": {},
   "outputs": [],
   "source": [
    "# >= : This is a greater than or equal to operator used to check whether\n",
    "# one value is greater than or equal to another value or not. It returns\n",
    "# true if the first value is either greater than or equal to the latter value, false otherwise.\n",
    "\n",
    "a >= x"
   ]
  },
  {
   "cell_type": "code",
   "execution_count": null,
   "metadata": {},
   "outputs": [],
   "source": [
    "y >= a"
   ]
  },
  {
   "cell_type": "code",
   "execution_count": null,
   "metadata": {},
   "outputs": [],
   "source": [
    "b >= x"
   ]
  },
  {
   "cell_type": "code",
   "execution_count": null,
   "metadata": {},
   "outputs": [],
   "source": [
    "# <= : This is a less than or equal to operator used to check whether one\n",
    "# value is less than or equal to another value or not. It returns true\n",
    "# if the first value is either less than or equal to the latter value, false otherwise.\n",
    "\n",
    "a <= x"
   ]
  },
  {
   "cell_type": "code",
   "execution_count": null,
   "metadata": {},
   "outputs": [],
   "source": [
    "y <= a"
   ]
  },
  {
   "cell_type": "code",
   "execution_count": null,
   "metadata": {},
   "outputs": [],
   "source": [
    "b <= x"
   ]
  },
  {
   "attachments": {},
   "cell_type": "markdown",
   "metadata": {},
   "source": [
    "#### Logical operators"
   ]
  },
  {
   "cell_type": "code",
   "execution_count": null,
   "metadata": {},
   "outputs": [],
   "source": [
    "# and : This operator compares multiple conditional statements and returns\n",
    "# true if all statements results in true, and false if any statement is false.\n",
    "\n",
    "5 == 5 and 3 < 5"
   ]
  },
  {
   "cell_type": "code",
   "execution_count": null,
   "metadata": {},
   "outputs": [],
   "source": [
    "8 >= 8 and 5 < 5"
   ]
  },
  {
   "cell_type": "code",
   "execution_count": null,
   "metadata": {},
   "outputs": [],
   "source": [
    "5 > 3 and 8 == 8 and 3 <= 5"
   ]
  },
  {
   "cell_type": "code",
   "execution_count": null,
   "metadata": {},
   "outputs": [],
   "source": [
    "# or : This operator compares multiple conditional statements and returns\n",
    "# true if at least one of the statements is true, and false if all statements are false.\n",
    "\n",
    "5 == 5 or 3 > 5"
   ]
  },
  {
   "cell_type": "code",
   "execution_count": null,
   "metadata": {},
   "outputs": [],
   "source": [
    "3 <= 3 or 5 < 3 or 8 < 5"
   ]
  },
  {
   "cell_type": "code",
   "execution_count": null,
   "metadata": {},
   "outputs": [],
   "source": [
    "3 < 3 or 5 < 3 or 8 < 5"
   ]
  },
  {
   "cell_type": "code",
   "execution_count": null,
   "metadata": {},
   "outputs": [],
   "source": [
    "# not : This operator reverses the result. It returns true if the result is false, and vice versa.\n",
    "3 == 3"
   ]
  },
  {
   "cell_type": "code",
   "execution_count": null,
   "metadata": {},
   "outputs": [],
   "source": [
    "not 3 == 3"
   ]
  },
  {
   "cell_type": "code",
   "execution_count": null,
   "metadata": {},
   "outputs": [],
   "source": [
    "3 != 3"
   ]
  },
  {
   "cell_type": "code",
   "execution_count": null,
   "metadata": {},
   "outputs": [],
   "source": [
    "not 3 != 3"
   ]
  },
  {
   "attachments": {},
   "cell_type": "markdown",
   "metadata": {},
   "source": [
    "#### Bitwise operator"
   ]
  },
  {
   "cell_type": "code",
   "execution_count": null,
   "metadata": {},
   "outputs": [],
   "source": [
    "# & : This is a bitwise AND operator that returns 1 only if both of its\n",
    "# inputs are 1, 0 otherwise. Below is the truth table for the & operator with four bits.\n",
    "\n",
    "# We can compute the bitwise & operation between 201 and 15 as follows:\n",
    "\n",
    "201 & 15"
   ]
  },
  {
   "cell_type": "code",
   "execution_count": null,
   "metadata": {},
   "outputs": [],
   "source": [
    "# | : This is a bitwise OR operator that returns 1 if any of its inputs are 1,\n",
    "# 0 otherwise. Below is the truth table for the | operator with four bits.\n",
    "\n",
    "201 | 15"
   ]
  },
  {
   "cell_type": "code",
   "execution_count": null,
   "metadata": {},
   "outputs": [],
   "source": [
    "# ^ : This is a bitwise XOR operator that returns 1 only if any one of its\n",
    "# input is 1, 0 otherwise. Below is the truth table for the XOR operation.\n",
    "\n",
    "201 ^ 15"
   ]
  },
  {
   "cell_type": "code",
   "execution_count": null,
   "metadata": {},
   "outputs": [],
   "source": [
    "# ~ : This is a bitwise NOT operator. It is an unary operator that take\n",
    "# only one input and inverts all the bits of an input, and returns the\n",
    "# inverted bits. Consider the following truth table"
   ]
  },
  {
   "cell_type": "code",
   "execution_count": null,
   "metadata": {},
   "outputs": [],
   "source": [
    "# << : This is a bitwise left shift operator. It takes two inputs: number to\n",
    "# operate on and number of bits to shift. It shifts bits to the left by pushing\n",
    "# zeros in from the right and let the leftmost bits fall off. Consider the\n",
    "# following example:\n",
    "\n",
    "15 << 2"
   ]
  },
  {
   "cell_type": "code",
   "execution_count": null,
   "metadata": {},
   "outputs": [],
   "source": [
    "# >> : Similar to the left shift operator, we have a shift right operator \n",
    "# that shifts bits right and fills zero on the left. While shifting bits to\n",
    "# right, it let the rightmost bits fall off and add new zeros to the left.\n",
    "\n",
    "201 >> 2"
   ]
  },
  {
   "attachments": {},
   "cell_type": "markdown",
   "metadata": {},
   "source": [
    "#### Assignment operators"
   ]
  },
  {
   "cell_type": "code",
   "execution_count": null,
   "metadata": {},
   "outputs": [],
   "source": [
    "# = : This operator assigns the value on its right side to the operand on its left.\n",
    "a = 5"
   ]
  },
  {
   "cell_type": "code",
   "execution_count": null,
   "metadata": {},
   "outputs": [],
   "source": [
    "b = 3"
   ]
  },
  {
   "cell_type": "code",
   "execution_count": null,
   "metadata": {},
   "outputs": [],
   "source": [
    "a, b = 5, 3"
   ]
  },
  {
   "cell_type": "code",
   "execution_count": null,
   "metadata": {},
   "outputs": [],
   "source": [
    "# Error line. Number of operands on both sides should\n",
    "# be same.\n",
    "a, b = 5, 3, 8"
   ]
  },
  {
   "cell_type": "code",
   "execution_count": null,
   "metadata": {},
   "outputs": [],
   "source": [
    "# += : This operator adds the operand on the right side with the operand on the left side and assigns the result back to the same operand on the left side.\n",
    "a += 2\n",
    "print(a)"
   ]
  },
  {
   "cell_type": "code",
   "execution_count": null,
   "metadata": {},
   "outputs": [],
   "source": [
    "# The above operation is same as the one mentioned below\n",
    "a = a + 2"
   ]
  },
  {
   "cell_type": "code",
   "execution_count": null,
   "metadata": {},
   "outputs": [],
   "source": [
    "# -= : This operator subtracts the operand on the right side with the operand on the left side and assigns the result back to the same operand on the left side.\n",
    "a -= 2\n",
    "print(a)"
   ]
  },
  {
   "cell_type": "code",
   "execution_count": null,
   "metadata": {},
   "outputs": [],
   "source": [
    "# *= : This operator multiplies the operand on the right side with the operand on the left side and assigns the result back to the same operand on the left side.\n",
    "a *= 2\n",
    "print(a)"
   ]
  },
  {
   "cell_type": "code",
   "execution_count": null,
   "metadata": {},
   "outputs": [],
   "source": [
    "# /= : This operator divides the operand on the left side by the operand on the right side and assigns the result back to the same operand on the left side.\n",
    "a /= 3\n",
    "print(a)"
   ]
  },
  {
   "cell_type": "code",
   "execution_count": null,
   "metadata": {},
   "outputs": [],
   "source": [
    "# %= : This operator performs the division operation between operands and assigns the remainder to the operand on the left.\n",
    "a = 10\n",
    "a %= 3\n",
    "print(a)"
   ]
  },
  {
   "cell_type": "code",
   "execution_count": null,
   "metadata": {},
   "outputs": [],
   "source": [
    "# **= : This operator performs the exponential operation between operands and assigns the result to the operand on the left.\n",
    "a **= 3\n",
    "print(a)"
   ]
  },
  {
   "cell_type": "code",
   "execution_count": null,
   "metadata": {},
   "outputs": [],
   "source": [
    "# //= : This operator divides the left operand with the right operand and then assigns the result (floored to immediate integer) to the operand on the left.\n",
    "a = 10\n",
    "a //= 4\n",
    "print(a)"
   ]
  },
  {
   "cell_type": "code",
   "execution_count": null,
   "metadata": {},
   "outputs": [],
   "source": [
    "# &= : This operator performs the bitwise ’AND’ operation between the operands and then assigns the result to the operand on the left side.\n",
    "a = 0\n",
    "a &= 1\n",
    "\n",
    "# & operation results into 0 as one operand is 0 and\n",
    "# the other is 1.\n",
    "print(a)"
   ]
  },
  {
   "cell_type": "code",
   "execution_count": null,
   "metadata": {},
   "outputs": [],
   "source": [
    "# |= : This operator performs the bitwise ’OR’ operation between the operands and then assigns the result to the operand on the left side.\n",
    "a = 0\n",
    "a |= 1"
   ]
  },
  {
   "cell_type": "code",
   "execution_count": null,
   "metadata": {},
   "outputs": [],
   "source": [
    "# | operation results into 1\n",
    "print(a)"
   ]
  },
  {
   "cell_type": "code",
   "execution_count": null,
   "metadata": {},
   "outputs": [],
   "source": [
    "# ^= : This operator performs the bitwise ’XOR’ operation between the operands and then assigns the result to the operand on the left side.\n",
    "a = 1\n",
    "a ^= 1"
   ]
  },
  {
   "cell_type": "code",
   "execution_count": null,
   "metadata": {},
   "outputs": [],
   "source": [
    "# ^ operation results into 0 as both operands will be 1\n",
    "print(a)"
   ]
  },
  {
   "cell_type": "code",
   "execution_count": null,
   "metadata": {},
   "outputs": [],
   "source": [
    "# >>= : This operator shifts bits of the left operand to the right specified by the right operand and then assigns the new value to the operand on the left side.\n",
    "a = 32\n",
    "a >>= 2\n",
    "print(a)"
   ]
  },
  {
   "cell_type": "code",
   "execution_count": null,
   "metadata": {},
   "outputs": [],
   "source": [
    "# <<= : This operator shifts bits of the left operand to the left specified by the left operand and then assigns the new value to the operand on the left side.\n",
    "a = 8\n",
    "a <<= 2\n",
    "print(a)"
   ]
  },
  {
   "attachments": {},
   "cell_type": "markdown",
   "metadata": {},
   "source": [
    "#### Membership operators"
   ]
  },
  {
   "cell_type": "code",
   "execution_count": null,
   "metadata": {},
   "outputs": [],
   "source": [
    "# in : This operator returns True if a value exists in a sequence, False otherwise.\n",
    "stock_list = ['GOOG', 'MSFT', 'AMZN', 'NFLX']\n",
    "'GOOG' in stock_list"
   ]
  },
  {
   "cell_type": "code",
   "execution_count": null,
   "metadata": {},
   "outputs": [],
   "source": [
    "'AAPL' in stock_list"
   ]
  },
  {
   "cell_type": "code",
   "execution_count": null,
   "metadata": {},
   "outputs": [],
   "source": [
    "# not in : This operator returns True if a value does not exists in a sequence, False otherwise.\n",
    "'AAPL' not in stock_list"
   ]
  },
  {
   "cell_type": "code",
   "execution_count": null,
   "metadata": {},
   "outputs": [],
   "source": [
    "'GOOG' not in stock_list"
   ]
  },
  {
   "attachments": {},
   "cell_type": "markdown",
   "metadata": {},
   "source": [
    "#### Identity operators"
   ]
  },
  {
   "cell_type": "code",
   "execution_count": null,
   "metadata": {},
   "outputs": [],
   "source": [
    "# is : This operator returns True if both operands are identical, False otherwise.\n",
    "a = 3"
   ]
  },
  {
   "cell_type": "code",
   "execution_count": null,
   "metadata": {},
   "outputs": [],
   "source": [
    "b = a"
   ]
  },
  {
   "cell_type": "code",
   "execution_count": null,
   "metadata": {},
   "outputs": [],
   "source": [
    "# True as both variables refers to same value in\n",
    "# the memory\n",
    "\n",
    "a is b"
   ]
  },
  {
   "cell_type": "code",
   "execution_count": null,
   "metadata": {},
   "outputs": [],
   "source": [
    "x = 3"
   ]
  },
  {
   "cell_type": "code",
   "execution_count": null,
   "metadata": {},
   "outputs": [],
   "source": [
    "# True as Python will create new reference of variable 'x'\n",
    "# to value 3 on the same memory location\n",
    "\n",
    "x is a"
   ]
  },
  {
   "cell_type": "code",
   "execution_count": null,
   "metadata": {},
   "outputs": [],
   "source": [
    "# is not : This operator returns True if both operands are not on same memory location, False otherwise.\n",
    "\n",
    "stock_list = ['AMZN', 'NFLX']\n",
    "my_list = ['AMZN', 'NFLX']"
   ]
  },
  {
   "cell_type": "code",
   "execution_count": null,
   "metadata": {},
   "outputs": [],
   "source": [
    "stock_list is my_list"
   ]
  },
  {
   "cell_type": "code",
   "execution_count": null,
   "metadata": {},
   "outputs": [],
   "source": [
    "# Though both lists are identical, they will not be stored\n",
    "# at the same memory location as lists are mutable.\n",
    "\n",
    "stock_list is not my_list"
   ]
  },
  {
   "attachments": {},
   "cell_type": "markdown",
   "metadata": {},
   "source": [
    "#### Operator Precedence"
   ]
  },
  {
   "cell_type": "code",
   "execution_count": null,
   "metadata": {},
   "outputs": [],
   "source": [
    "2 + 5 - 3 + 1"
   ]
  },
  {
   "cell_type": "code",
   "execution_count": null,
   "metadata": {},
   "outputs": [],
   "source": [
    "2 + 5 * 3"
   ]
  },
  {
   "attachments": {},
   "cell_type": "markdown",
   "metadata": {},
   "source": [
    "|Operators | Precedence|\n",
    "|--|--|\n",
    "|() |Parentheses|\n",
    "|** |Exponential|\n",
    "|+, -, ~ | Positive, Negative, Bitwise NOT|\n",
    "|*, /, //, % | Multiplication, Division, Floor Division, Modulus|\n",
    "|+, - |Addition, Subtraction|\n",
    "|<< , >> |Bitwise Left, Bitwise Right|\n",
    "|& |Bitwise AND\n",
    "|^ |Bitwise XOR\n",
    "|! |Bitwise OR|\n",
    "|==, !=, >, >=, <, <=, is, is not, in, not in |Comparison, Identity, Membership Operators| \n",
    "|not |Logical NOT|\n",
    "|and |Logical AND|\n",
    "|or |Logical OR|"
   ]
  },
  {
   "cell_type": "code",
   "execution_count": null,
   "metadata": {},
   "outputs": [],
   "source": [
    "(5 / 2) * (2 + 5)"
   ]
  },
  {
   "cell_type": "code",
   "execution_count": null,
   "metadata": {},
   "outputs": [],
   "source": [
    "%reload_ext watermark\n",
    "%watermark -a \"Caique Miranda\" -gu \"caiquemiranda\" -iv"
   ]
  },
  {
   "attachments": {},
   "cell_type": "markdown",
   "metadata": {},
   "source": [
    "### End."
   ]
  }
 ],
 "metadata": {
  "kernelspec": {
   "display_name": "Python 3",
   "language": "python",
   "name": "python3"
  },
  "language_info": {
   "codemirror_mode": {
    "name": "ipython",
    "version": 3
   },
   "file_extension": ".py",
   "mimetype": "text/x-python",
   "name": "python",
   "nbconvert_exporter": "python",
   "pygments_lexer": "ipython3",
   "version": "3.10.5"
  },
  "orig_nbformat": 4,
  "vscode": {
   "interpreter": {
    "hash": "74af3d2f25f1e46ebd2903d59225d79e4675ec224d56c01fc30cd168c2010d53"
   }
  }
 },
 "nbformat": 4,
 "nbformat_minor": 2
}
