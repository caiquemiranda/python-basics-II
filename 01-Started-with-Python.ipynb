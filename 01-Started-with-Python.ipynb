{
 "cells": [
  {
   "cell_type": "code",
   "execution_count": 7,
   "metadata": {},
   "outputs": [
    {
     "name": "stdout",
     "output_type": "stream",
     "text": [
      "Versão de Python Neste Jupyter Notebook: 3.10.5\n"
     ]
    }
   ],
   "source": [
    "# Versão da Linguagem Python\n",
    "\n",
    "from platform import python_version\n",
    "print('Versão de Python Neste Jupyter Notebook:', python_version())"
   ]
  },
  {
   "cell_type": "code",
   "execution_count": 8,
   "metadata": {},
   "outputs": [],
   "source": [
    "import warnings\n",
    "warnings.filterwarnings('ignore')"
   ]
  },
  {
   "attachments": {},
   "cell_type": "markdown",
   "metadata": {},
   "source": [
    "### Introdução ao Python"
   ]
  },
  {
   "attachments": {},
   "cell_type": "markdown",
   "metadata": {},
   "source": [
    "Como vimos na seção anterior, o Python oferece diferentes versões, vem em uma variedade de distribuições e é adequado para uma infinidade de combinações de plataformas e dispositivos. Graças à sua versatilidade, podemos usar o Python para codificar praticamente qualquer tarefa que possamos pensar logicamente. Uma das tarefas mais importantes que um computador executa é a computação matemática. Python fornece uma interface direta para essa funcionalidade fundamental dos computadores modernos. Na verdade, uma introdução ao Python poderia ser iniciada mostrando como ele pode ser usado como uma ferramenta para cálculos matemáticos simples."
   ]
  },
  {
   "attachments": {},
   "cell_type": "markdown",
   "metadata": {},
   "source": [
    "#### Python como uma calculadora0"
   ]
  },
  {
   "attachments": {},
   "cell_type": "markdown",
   "metadata": {},
   "source": [
    "A maneira mais fácil de realizar cálculos matemáticos usando Python é usar o Console, que pode ser usado como uma calculadora sofisticada. Para começar com as operações matemáticas mais simples, como adição, subtração, multiplicação e divisão, podemos começar usando o Python Console usando as seguintes expressões."
   ]
  },
  {
   "cell_type": "code",
   "execution_count": null,
   "metadata": {},
   "outputs": [],
   "source": [
    "# Adição\n",
    "\n",
    "5 + 3"
   ]
  },
  {
   "cell_type": "code",
   "execution_count": null,
   "metadata": {},
   "outputs": [],
   "source": [
    "# Subtração\n",
    "\n",
    "5 - 3"
   ]
  },
  {
   "cell_type": "code",
   "execution_count": null,
   "metadata": {},
   "outputs": [],
   "source": [
    "# Multiplicação\n",
    "\n",
    "5 * 3"
   ]
  },
  {
   "cell_type": "code",
   "execution_count": null,
   "metadata": {},
   "outputs": [],
   "source": [
    "# Divisão\n",
    "\n",
    "5 / 3"
   ]
  },
  {
   "cell_type": "code",
   "execution_count": null,
   "metadata": {},
   "outputs": [],
   "source": [
    "# Modulo\n",
    "\n",
    "5 % 2"
   ]
  },
  {
   "attachments": {},
   "cell_type": "markdown",
   "metadata": {},
   "source": [
    "<b>NOTA :</b> O conteúdo após os símbolos # são comentários e podem ser ignorados ao digitar os exemplos. Examinaremos os comentários com mais detalhes nas seções posteriores. Aqui, refere-se a uma entrada fornecida ao interpretador Python e representa a saída retornada pelo interpretador. Aqui usamos o console IPython para executar as operações matemáticas acima. Eles também podem ser executados no Python IDLE (Integrated Development and Learning Environment) (também conhecido como The Shell), no console Python ou no notebook Jupyter de maneira semelhante. Basicamente, temos uma série de interfaces para escolher e os programadores escolhem o que acham mais confortável. Vamos nos ater à interface Python Console para escrever e executar nosso código Python neste manual. Para ser claro, cada uma das interfaces mencionadas acima nos conecta ao interpretador Python (que faz o trabalho pesado computacional nos bastidores)."
   ]
  },
  {
   "attachments": {},
   "cell_type": "markdown",
   "metadata": {},
   "source": [
    "Vamos dissecar os exemplos acima. Uma expressão Python simples é semelhante a uma expressão matemática. Consiste em alguns números, conectados por um operador matemático. Na terminologia de programação, os números (isso inclui números inteiros, bem como números com partes fracionárias, por exemplo, 5, 3,89) são chamados de literais numéricos. Um operador (por exemplo, , , ) indica uma operação matemática entre seus operandos e, portanto, o valor da expressão. O processo de derivação do valor de uma expressão é chamado de avaliação da expressão. Quando uma expressão matemática é inserida, o interpretador Python avalia automaticamente e exibe seu valor"
   ]
  },
  {
   "attachments": {},
   "cell_type": "markdown",
   "metadata": {},
   "source": [
    "Semelhante ao operador de divisão, também temos o operador de divisão inteira. A principal diferença é que o primeiro gera o valor decimal conhecido como float, que pode ser visto no exemplo acima, e o último gera um valor inteiro, ou seja, sem nenhuma parte fracionária. Discutiremos sobre o tipo de dados com mais detalhes nas próximas seções. Be low é um exemplo de uma divisão inteira em que o Python retorna o valor de saída sem nenhum decimal."
   ]
  },
  {
   "cell_type": "code",
   "execution_count": null,
   "metadata": {},
   "outputs": [],
   "source": [
    "5 // 3"
   ]
  },
  {
   "attachments": {},
   "cell_type": "markdown",
   "metadata": {},
   "source": [
    "Também podemos usar expressões como operandos em expressões compostas mais longas. Por exemplo,"
   ]
  },
  {
   "cell_type": "code",
   "execution_count": null,
   "metadata": {},
   "outputs": [],
   "source": [
    "# Expressão composta \n",
    "\n",
    "5 + 3 - 3 + 4"
   ]
  },
  {
   "attachments": {},
   "cell_type": "markdown",
   "metadata": {},
   "source": [
    "No exemplo acima, a ordem de avaliação é da esquerda para a direita, resultando na avaliação da expressão primeiro. Seu valor é \n",
    "então combinado com o próximo operando pelo operador, avaliando o valor da expressão composta. Esse valor, por sua vez, é combinado com o último literal pelo operador, terminando com o valor da expressão inteira."
   ]
  },
  {
   "attachments": {},
   "cell_type": "markdown",
   "metadata": {},
   "source": [
    "No exemplo, os operadores são aplicados da esquerda para a direita, pois e têm a mesma prioridade. Para uma expressão onde temos mais de um operador, não é necessário que todos os operadores tenham a mesma prioridade. Considere o seguinte exemplo,"
   ]
  },
  {
   "cell_type": "code",
   "execution_count": null,
   "metadata": {},
   "outputs": [],
   "source": [
    "5 + 3 * 3 - 4"
   ]
  },
  {
   "attachments": {},
   "cell_type": "markdown",
   "metadata": {},
   "source": [
    "Aqui, a expressão acima avaliada como porque o operador tem uma prioridade mais alta em comparação com os operadores e. A expressão é avaliada primeiro resultando no valor que será combinado com o operando pelo operador produzindo o valor de . Esse valor, por sua vez, é combinado com o próximo operando pelo operador, o que resulta no valor final de . A ordem na qual os operadores são aplicados é chamada operador precedente. Em Python, os operadores matemáticos seguem a precedência natural observada na matemática. "
   ]
  },
  {
   "attachments": {},
   "cell_type": "markdown",
   "metadata": {},
   "source": [
    "Semelhante às funções matemáticas, o Python permite o uso de colchetes e especificar manualmente a ordem de avaliação, como a ilustrada abaixo:"
   ]
  },
  {
   "cell_type": "code",
   "execution_count": null,
   "metadata": {},
   "outputs": [],
   "source": [
    "# Parênteses\n",
    "\n",
    "(5 + 3) * (3 - 4)"
   ]
  },
  {
   "attachments": {},
   "cell_type": "markdown",
   "metadata": {},
   "source": [
    "A expressão acima avaliada para o valor, pois definimos explicitamente a precedência para a expressão a ser avaliada primeiro, resultando no valor seguido pela produção do valor e, finalmente, combinamos os dois valores e com o operador, resultando no valor final a ser ."
   ]
  },
  {
   "attachments": {},
   "cell_type": "markdown",
   "metadata": {},
   "source": [
    "Nos exemplos acima, um operador conecta dois operandos e, portanto, eles são chamados de operadores binários. Em contraste, os operadores também podem ser unários, que usam apenas um operando. Tal operador é conhecido como negação."
   ]
  },
  {
   "cell_type": "code",
   "execution_count": null,
   "metadata": {},
   "outputs": [],
   "source": [
    "# Negação\n",
    "\n",
    "- (5 + 3)"
   ]
  },
  {
   "attachments": {},
   "cell_type": "markdown",
   "metadata": {},
   "source": [
    "Primeiro, calculamos a expressão resultante no valor e, em segundo lugar, negamos com o operador produzindo o valor final de ."
   ]
  },
  {
   "attachments": {},
   "cell_type": "markdown",
   "metadata": {},
   "source": [
    "##### Expressões de Ponto Flutuante(`float()`)"
   ]
  },
  {
   "attachments": {},
   "cell_type": "markdown",
   "metadata": {},
   "source": [
    "Quaisquer exemplos que vimos até agora foram executados em inteiros também para produzir inteiros. Observe que, para a expressão, obteríamos um número real como saída, mesmo que os operandos sejam inteiros. Na ciência da computação, os números reais são normalmente chamados de números de ponto flutuante. Por exemplo:"
   ]
  },
  {
   "cell_type": "code",
   "execution_count": null,
   "metadata": {},
   "outputs": [],
   "source": [
    "# Adição de float\n",
    "\n",
    "5.0 + 3"
   ]
  },
  {
   "cell_type": "code",
   "execution_count": null,
   "metadata": {},
   "outputs": [],
   "source": [
    "# Multiplicação de float\n",
    "\n",
    "5.0 * 3"
   ]
  },
  {
   "cell_type": "code",
   "execution_count": null,
   "metadata": {},
   "outputs": [],
   "source": [
    "# Exponencial de float\n",
    "\n",
    "5.0 ** 3"
   ]
  },
  {
   "cell_type": "code",
   "execution_count": null,
   "metadata": {},
   "outputs": [],
   "source": [
    "36 ** 0.5"
   ]
  },
  {
   "attachments": {},
   "cell_type": "markdown",
   "metadata": {},
   "source": [
    "Para o exemplo acima, a última parte calcula a raiz quadrada positiva de ."
   ]
  },
  {
   "attachments": {},
   "cell_type": "markdown",
   "metadata": {},
   "source": [
    "Python fornece uma opção muito conveniente para verificar o tipo de número, seja uma saída de uma expressão ou o próprio operando."
   ]
  },
  {
   "cell_type": "code",
   "execution_count": null,
   "metadata": {},
   "outputs": [],
   "source": [
    "type(5)"
   ]
  },
  {
   "cell_type": "code",
   "execution_count": null,
   "metadata": {},
   "outputs": [],
   "source": [
    "type(5.0)"
   ]
  },
  {
   "cell_type": "code",
   "execution_count": null,
   "metadata": {},
   "outputs": [],
   "source": [
    "type(5.0 ** 3)"
   ]
  },
  {
   "attachments": {},
   "cell_type": "markdown",
   "metadata": {},
   "source": [
    "O comando `type(x)` retorna o tipo de `x`. Este comando é uma função em Python onde é uma função interna em Python. Podemos chamar uma função com um argumento específico para obter um valor de retorno. No exemplo acima, chamar um tipo de função com o argumento retorna o valor que significa um inteiro. As chamadas de função também podem ser consideradas como uma expressão semelhante a expressões matemáticas, com um nome de função seguido por uma lista de argumentos separados por vírgula entre parênteses. O valor de uma expressão de chamada de função é o valor de retorno da função. Seguindo o mesmo exemplo discutido acima, type é o nome da função, que recebe um único argumento e retorna o tipo de argumento. Como resultado, a chamada à função `type(5.0)` retorna o valor como um `float`."
   ]
  },
  {
   "attachments": {},
   "cell_type": "markdown",
   "metadata": {},
   "source": [
    "Também podemos converter o tipo de um argumento usando as seguintes funções integradas. Por exemplo, "
   ]
  },
  {
   "cell_type": "code",
   "execution_count": null,
   "metadata": {},
   "outputs": [],
   "source": [
    "float(5)"
   ]
  },
  {
   "cell_type": "code",
   "execution_count": null,
   "metadata": {},
   "outputs": [],
   "source": [
    "type(float(5))"
   ]
  },
  {
   "cell_type": "code",
   "execution_count": null,
   "metadata": {},
   "outputs": [],
   "source": [
    "int(5.9)"
   ]
  },
  {
   "cell_type": "code",
   "execution_count": null,
   "metadata": {},
   "outputs": [],
   "source": [
    "type(int(5.9))"
   ]
  },
  {
   "attachments": {},
   "cell_type": "markdown",
   "metadata": {},
   "source": [
    "Como pode ser visto no exemplo acima, usando a chamada de função, que recebe um único argumento, podemos converter uma entrada inteira em um valor flutuante. Além disso, verificamos usando a função type. Da mesma forma, temos uma função com a qual podemos alterar uma entrada flutuante para o valor inteiro. Durante o processo de conversão, a função int apenas ignora a parte fracionária do valor de entrada. No último exemplo, o valor de retorno de even though é numericamente mais próximo do inteiro 6. Para conversão de ponto flutuante por arredondamento de um inteiro, podemos usar a função."
   ]
  },
  {
   "cell_type": "code",
   "execution_count": null,
   "metadata": {},
   "outputs": [],
   "source": [
    "round(5.9)"
   ]
  },
  {
   "cell_type": "code",
   "execution_count": null,
   "metadata": {},
   "outputs": [],
   "source": [
    "round(5.2)"
   ]
  },
  {
   "attachments": {},
   "cell_type": "markdown",
   "metadata": {},
   "source": [
    "Uma chamada para a função retornará um valor numericamente mais próximo do argumento. Ele também pode arredondar para um número específico de dígitos após a vírgula decimal no argumento. Em seguida, precisamos especificar dois argumentos para a chamada de função, com o segundo argumento especificando o número de dígitos a serem mantidos após o ponto decimal. Os exemplos a seguir ilustram o mesmo. Uma vírgula é usada para separar os argumentos na chamada da função."
   ]
  },
  {
   "cell_type": "code",
   "execution_count": null,
   "metadata": {},
   "outputs": [],
   "source": [
    "round(5.98765, 2)"
   ]
  },
  {
   "cell_type": "code",
   "execution_count": null,
   "metadata": {},
   "outputs": [],
   "source": [
    "round(5.98765, 1)"
   ]
  },
  {
   "attachments": {},
   "cell_type": "markdown",
   "metadata": {},
   "source": [
    "Another useful function is abs, which takes one numerical argument and\n",
    "returns its absolute value."
   ]
  },
  {
   "cell_type": "code",
   "execution_count": null,
   "metadata": {},
   "outputs": [],
   "source": [
    "abs(-5)"
   ]
  },
  {
   "cell_type": "code",
   "execution_count": null,
   "metadata": {},
   "outputs": [],
   "source": [
    "abs(5)"
   ]
  },
  {
   "cell_type": "code",
   "execution_count": null,
   "metadata": {},
   "outputs": [],
   "source": [
    "abs(5.0)"
   ]
  },
  {
   "attachments": {},
   "cell_type": "markdown",
   "metadata": {},
   "source": [
    "We can also express a floating point expression using scientific notation in\n",
    "the following manner."
   ]
  },
  {
   "cell_type": "code",
   "execution_count": null,
   "metadata": {},
   "outputs": [],
   "source": [
    "5e1"
   ]
  },
  {
   "cell_type": "code",
   "execution_count": null,
   "metadata": {},
   "outputs": [],
   "source": [
    "5e-1"
   ]
  },
  {
   "cell_type": "code",
   "execution_count": null,
   "metadata": {},
   "outputs": [],
   "source": [
    "5E2"
   ]
  },
  {
   "attachments": {},
   "cell_type": "markdown",
   "metadata": {},
   "source": [
    "#### Noções básicas de Python"
   ]
  },
  {
   "attachments": {},
   "cell_type": "markdown",
   "metadata": {},
   "source": [
    "Acabamos de concluir uma breve visão geral de algumas funcionalidades do Python. Vamos agora nos familiarizar com os fundamentos do Python."
   ]
  },
  {
   "attachments": {},
   "cell_type": "markdown",
   "metadata": {},
   "source": [
    "##### Constantes Literais"
   ]
  },
  {
   "attachments": {},
   "cell_type": "markdown",
   "metadata": {},
   "source": [
    "Vimos literais e seu uso nos exemplos acima. Aqui definimos o que são. Alguns exemplos mais concretos de literais numéricos são ou string literais são ...ou ..."
   ]
  },
  {
   "attachments": {},
   "cell_type": "markdown",
   "metadata": {},
   "source": [
    "É chamado de literal porque usamos seu valor literalmente. O número sempre representa a si mesmo e nada mais – é uma constante porque seu valor não pode ser alterado. Da mesma forma, o valor representa a si mesmo. Portanto, diz-se que tudo isso é uma constante literal."
   ]
  },
  {
   "attachments": {},
   "cell_type": "markdown",
   "metadata": {},
   "source": [
    "##### Números"
   ]
  },
  {
   "attachments": {},
   "cell_type": "markdown",
   "metadata": {},
   "source": [
    "We have already covered numbers in detail in the above section. Here we\n",
    "will discuss it in brief. Numbers can be broadly classified into two types -\n",
    "integer and float."
   ]
  },
  {
   "attachments": {},
   "cell_type": "markdown",
   "metadata": {},
   "source": [
    "Examples of an integer number (int for short) are - 5, 3, 2, etc. It is just a\n",
    "whole number."
   ]
  },
  {
   "attachments": {},
   "cell_type": "markdown",
   "metadata": {},
   "source": [
    "Examples of a floating point number (floats for short) are - 2.98745, 5.5,\n",
    "5e-1, etc. Here, e refers to the power of 10. We can write either e or E, both\n",
    "work just fine."
   ]
  },
  {
   "attachments": {},
   "cell_type": "markdown",
   "metadata": {},
   "source": [
    "NOTE: As compared to other programming languages, we do\n",
    "not have separate long or double. In Python, int can be of any\n",
    "length."
   ]
  },
  {
   "attachments": {},
   "cell_type": "markdown",
   "metadata": {},
   "source": [
    "##### Strings"
   ]
  },
  {
   "attachments": {},
   "cell_type": "markdown",
   "metadata": {},
   "source": [
    "Simply put, a string is a sequence of characters. We use strings almost\n",
    "everywhere in Python code. Python supports both ASCII and Unicode\n",
    "strings. Let us explore strings in more detail."
   ]
  },
  {
   "attachments": {},
   "cell_type": "markdown",
   "metadata": {},
   "source": [
    "Single Quote - We can specify a string using single quotes such as 'Python\n",
    "is an easy programming language!'. All spaces and tabs within the\n",
    "quotes are preserved as-is."
   ]
  },
  {
   "attachments": {},
   "cell_type": "markdown",
   "metadata": {},
   "source": [
    "Double Quotes - We can also specify string using double quotes such as\n",
    "\"Yes! Indeed, Python is easy.\". Double quotes work the same way\n",
    "single quotes works. Either can be used."
   ]
  },
  {
   "attachments": {},
   "cell_type": "markdown",
   "metadata": {},
   "source": [
    "Triple Quotes - This is used as a delimiter to mark the start and end of a\n",
    "comment. We explain it in greater detail in the next topic."
   ]
  },
  {
   "attachments": {},
   "cell_type": "markdown",
   "metadata": {},
   "source": [
    "Strings are immutable - This means once we have created a string we cannot\n",
    "change it. Consider the following example."
   ]
  },
  {
   "cell_type": "code",
   "execution_count": null,
   "metadata": {},
   "outputs": [],
   "source": [
    "nome_mes = 'Jevereiro'"
   ]
  },
  {
   "cell_type": "code",
   "execution_count": null,
   "metadata": {},
   "outputs": [],
   "source": [
    "# Seremos apresentados a um erro nesta linha.\n",
    "\n",
    "nome_mes[0] = 'F'"
   ]
  },
  {
   "attachments": {},
   "cell_type": "markdown",
   "metadata": {},
   "source": [
    "Here, month_name is a variable that is used to hold the value\n",
    "Fanuary. Variables can be thought of as a container with a name\n",
    "that is used to hold the value. We will discuss variables in detail\n",
    "in the upcoming sections."
   ]
  },
  {
   "attachments": {},
   "cell_type": "markdown",
   "metadata": {},
   "source": [
    "In the above example, we initialize variable month_name with an incorrect\n",
    "month name Fanuary. Later, we try to correct it by replacing the letter F\n",
    "with J, where we have been presented with the TypeError telling us that\n",
    "strings do not support change operation."
   ]
  },
  {
   "attachments": {},
   "cell_type": "markdown",
   "metadata": {},
   "source": [
    "##### Comentários"
   ]
  },
  {
   "attachments": {},
   "cell_type": "markdown",
   "metadata": {},
   "source": [
    "Já vimos comentários antes. Os comentários são usados para anotar códigos e não são interpretados pelo Python. Os comentários em Python começam com o caractere hash e terminam no final da linha física do código. Um comentário pode aparecer no início de uma linha ou após um espaço em branco ou código, mas não dentro de uma string literal. Um caractere hash dentro de uma string literal é apenas um caractere hash. Esse tipo de comentário também é conhecido como comentário de linha única."
   ]
  },
  {
   "attachments": {},
   "cell_type": "markdown",
   "metadata": {},
   "source": [
    "A outra maneira de anotar o código é usando um comentário de várias linhas que serve como referência ou documentação para que \n",
    "outras pessoas entendam o código."
   ]
  },
  {
   "attachments": {},
   "cell_type": "markdown",
   "metadata": {},
   "source": [
    "Vamos dar uma olhada no comentário de linha única no exemplo a seguir."
   ]
  },
  {
   "cell_type": "code",
   "execution_count": null,
   "metadata": {},
   "outputs": [],
   "source": [
    "# A linha seguinte adiciona dois números inteiros.\n",
    "\n",
    "5 + 3"
   ]
  },
  {
   "attachments": {},
   "cell_type": "markdown",
   "metadata": {},
   "source": [
    "Podemos escrever um comentário após a linha de código para anotar o que uma determinada linha faz, conforme descrito no exemplo a seguir."
   ]
  },
  {
   "cell_type": "code",
   "execution_count": null,
   "metadata": {},
   "outputs": [],
   "source": [
    "5 + 3 # Adicionar dois literais."
   ]
  },
  {
   "cell_type": "code",
   "execution_count": null,
   "metadata": {},
   "outputs": [],
   "source": [
    "# Isso também é um comentário!"
   ]
  },
  {
   "attachments": {},
   "cell_type": "markdown",
   "metadata": {},
   "source": [
    "O Python não oferece suporte a comentários de várias linhas/blocos. No entanto, podemos estender comentários em várias linhas usando a mesma notação que usamos para comentários de linha única. Os comentários em bloco destinam-se ao mesmo nível do código. Cada linha de um comentário de bloco começa com um e um único espaço."
   ]
  },
  {
   "cell_type": "code",
   "execution_count": null,
   "metadata": {},
   "outputs": [],
   "source": [
    "# Este é um exemplo de comentário de várias linhas\n",
    "# em Python que abrange várias linhas e\n",
    "# descreve o código. Ele pode ser usado para\n",
    "# anote qualquer coisa como o nome do autor, revisões,\n",
    "# a finalidade de um script, etc. Ele usa um delimitador\n",
    "# para marcar seu início e fim."
   ]
  },
  {
   "attachments": {},
   "cell_type": "markdown",
   "metadata": {},
   "source": [
    "É sempre uma boa prática de programação intercalar generosamente nosso código com comentários. Lembre-se: o código diz como, o comentário diz o porquê."
   ]
  },
  {
   "attachments": {},
   "cell_type": "markdown",
   "metadata": {},
   "source": [
    "##### Função `print()`"
   ]
  },
  {
   "attachments": {},
   "cell_type": "markdown",
   "metadata": {},
   "source": [
    "A Função `print()` unção é uma ferramenta muito versátil que é usada para imprimir qualquer coisa em python."
   ]
  },
  {
   "attachments": {},
   "cell_type": "markdown",
   "metadata": {},
   "source": [
    "Vamos visitar alguns exemplos para entender como o a função `print()` funciona"
   ]
  },
  {
   "cell_type": "code",
   "execution_count": null,
   "metadata": {},
   "outputs": [],
   "source": [
    "# Simple print function\n",
    "\n",
    "print(\"Hello World!\")"
   ]
  },
  {
   "cell_type": "code",
   "execution_count": null,
   "metadata": {},
   "outputs": [],
   "source": [
    "# Concatenating string and integer literal\n",
    "\n",
    "print(\"Janeiro\", 2010)"
   ]
  },
  {
   "cell_type": "code",
   "execution_count": null,
   "metadata": {},
   "outputs": [],
   "source": [
    "# Concatenating two strings\n",
    "\n",
    "print(\"AAPL\", \"is the stock ticker of Apple Inc.\")"
   ]
  },
  {
   "cell_type": "code",
   "execution_count": null,
   "metadata": {},
   "outputs": [],
   "source": [
    "# Concatenating a variable and string.\n",
    "# Here, stock_name is a variable containing stock name.\n",
    "\n",
    "nome_ativo = 'MSFT'\n",
    "\n",
    "print(nome_ativo + \" is the stock name of Microsoft Corporation.\")"
   ]
  },
  {
   "attachments": {},
   "cell_type": "markdown",
   "metadata": {},
   "source": [
    "Como podemos ver nos exemplos acima, pode ser usado de várias maneiras. Podemos usá-lo para imprimir\n",
    "uma instrução simples, concatenar com um literal, concatenar duas strings ou combinar uma string com\n",
    "uma variável. Uma maneira comum de usar a função é f-strings ou literal de string formatada."
   ]
  },
  {
   "cell_type": "code",
   "execution_count": null,
   "metadata": {},
   "outputs": [],
   "source": [
    "# f-strings\n",
    "nome_ativo = 'AAPL'\n",
    "\n",
    "print(f'The stock ticker for Apple Inc is {nome_ativo}.')"
   ]
  },
  {
   "attachments": {},
   "cell_type": "markdown",
   "metadata": {},
   "source": [
    "A string acima é chamada literal de string formatada. Tais strings são precedidas pela letra que indica que\n",
    "deve ser formatada quando usamos nomes de variáveis entre colchetes. aqui está um nome de variável\n",
    "contendo o símbolo de uma ação."
   ]
  },
  {
   "attachments": {},
   "cell_type": "markdown",
   "metadata": {},
   "source": [
    "Mais uma maneira de imprimir uma string é usando o estilo de formatação %."
   ]
  },
  {
   "cell_type": "code",
   "execution_count": null,
   "metadata": {},
   "outputs": [],
   "source": [
    "# %-formatting strings\n",
    "nome_ativo = 'AAPL'\n",
    "preco = 226.41\n",
    "\n",
    "print(\"%s is currently trading at %.2f.\" %(nome_ativo, preco))"
   ]
  },
  {
   "attachments": {},
   "cell_type": "markdown",
   "metadata": {},
   "source": [
    "Aqui, imprimimos o preço de negociação atual da ação. Um nome de ação é\n",
    "armazenado na variável e seu preço é armazenado na variável é usada\n",
    "para especificar uma string literal e é usada para especificar float literal.\n",
    "Usamos para limitar dois dígitos após o ponto decimal."
   ]
  },
  {
   "attachments": {},
   "cell_type": "markdown",
   "metadata": {},
   "source": [
    "##### Função `format()`"
   ]
  },
  {
   "attachments": {},
   "cell_type": "markdown",
   "metadata": {},
   "source": [
    "Outra função útil para imprimir e construir string para saída é function.\n",
    "Usando esta função, podemos construir uma string a partir de formação como variáveis. Considere o trecho de código a seguir."
   ]
  },
  {
   "cell_type": "code",
   "execution_count": null,
   "metadata": {},
   "outputs": [],
   "source": [
    "nome_ativo = 'AAPL'\n",
    "preco = 226.41\n",
    "\n",
    "print('We are interested in {x} which is currently trading at {y}'.format(x=nome_ativo, y=preco))"
   ]
  },
  {
   "attachments": {},
   "cell_type": "markdown",
   "metadata": {},
   "source": [
    "O código acima primeiro preparará uma string internamente substituindo os espaços\n",
    "reservados e por variáveis, respectivamente, e então imprimirá a saída final como\n",
    "uma única string. Em vez de usar espaços reservados, também podemos construir\n",
    "uma string da seguinte maneira:"
   ]
  },
  {
   "cell_type": "code",
   "execution_count": null,
   "metadata": {},
   "outputs": [],
   "source": [
    "print('We are interested in {0} which is currently trading at {1}'.format(nome_ativo, preco))"
   ]
  },
  {
   "attachments": {},
   "cell_type": "markdown",
   "metadata": {},
   "source": [
    "Aqui, a saída será semelhante à ilustração acima. Uma string pode ser\n",
    "construída usando certas especificações e a função pode ser chamada para\n",
    "substituir essas especificações pelos argumentos correspondentes da função.\n",
    "No exemplo acima, será substituído por variável e da mesma forma, obterá um\n",
    "valor de . Os números fornecidos dentro da especificação são opcionais e,\n",
    "portanto, também podemos escrever a mesma declaração da seguinte forma que fornecerá a mesma saída exata mostrada acima."
   ]
  },
  {
   "attachments": {},
   "cell_type": "markdown",
   "metadata": {},
   "source": [
    "#### Sequência de Escape"
   ]
  },
  {
   "attachments": {},
   "cell_type": "markdown",
   "metadata": {},
   "source": [
    "Os caracteres de escape geralmente são usados para executar determinadas tarefas e\n",
    "seu uso no código direciona o compilador a executar uma ação adequada mapeada para\n",
    "esse caractere."
   ]
  },
  {
   "attachments": {},
   "cell_type": "markdown",
   "metadata": {},
   "source": [
    "Suponha que queremos escrever uma `That's really easy..` string entre aspas duplas , poderíamos escrevê-la como,\n",
    "mas e se escrevermos a mesma string entre aspas simples, como se não\n",
    "pudéssemos escrevê-la porque temos três e o interpretador Python\n",
    "ficará confuso sobre onde a string começa e termina. Portanto, precisamos especificar\n",
    "que a string não termina em na string, em vez disso, é uma parte da string. Podemos\n",
    "conseguir isso usando a sequência de escape. Podemos especificá-lo usando um\n",
    "(caractere de barra invertida). Por exemplo,"
   ]
  },
  {
   "cell_type": "code",
   "execution_count": null,
   "metadata": {},
   "outputs": [],
   "source": [
    "'That\\'s really easy.'"
   ]
  },
  {
   "attachments": {},
   "cell_type": "markdown",
   "metadata": {},
   "source": [
    "Aqui, precedemos com um caractere para indicar que faz parte da string. Da mesma\n",
    "forma, precisamos usar uma sequência de escape para aspas duplas se quisermos\n",
    "escrever uma string entre aspas duplas. Além disso, podemos incluir o caractere de\n",
    "barra invertida em uma string usando . Podemos dividir uma única linha em várias\n",
    "linhas usando a sequência de escape."
   ]
  },
  {
   "cell_type": "code",
   "execution_count": null,
   "metadata": {},
   "outputs": [],
   "source": [
    "In []: print('That is really easy.\\nYes, it really is.')\n",
    "Out[]: That is really easy."
   ]
  },
  {
   "attachments": {},
   "cell_type": "markdown",
   "metadata": {},
   "source": [
    "Outro caractere de escape útil é deixar\n",
    "espaços de tabulação entre as strings. seqüência de escape da tabulação. É usado para"
   ]
  },
  {
   "cell_type": "code",
   "execution_count": null,
   "metadata": {},
   "outputs": [],
   "source": [
    "In []: print('AAPL.\\tNIFTY50.\\tDJIA.\\tNIKKEI225.')\n",
    "Out[]: AAPL. NIFTY50. DJIA. NIKKEI225."
   ]
  },
  {
   "attachments": {},
   "cell_type": "markdown",
   "metadata": {},
   "source": [
    "Em uma string, se formos mencionar um único no final da linha, isso indica que a string continua na próxima linha e nenhuma nova linha é adicionada. Considere o exemplo abaixo:"
   ]
  },
  {
   "cell_type": "code",
   "execution_count": null,
   "metadata": {},
   "outputs": [],
   "source": [
    "In []: print('AAPL is the ticker for Apple Inc. \\\n",
    "...: It is a technology company.')\n",
    "Out[]: AAPL is the ticker for Apple Inc. It is a\n",
    "technology company."
   ]
  },
  {
   "attachments": {},
   "cell_type": "markdown",
   "metadata": {},
   "source": [
    "Da mesma forma, existem muitas outras sequências de escape que podem ser\n",
    "encontradas na documentação oficial do Python1 ."
   ]
  },
  {
   "attachments": {},
   "cell_type": "markdown",
   "metadata": {},
   "source": [
    "#### Indentation(Recuo)"
   ]
  },
  {
   "attachments": {},
   "cell_type": "markdown",
   "metadata": {},
   "source": [
    "Espaços em branco são importantes em Python. O espaço em branco no início de uma\n",
    "linha é chamado de recuo. É usado para marcar o início de um novo bloco de código.\n",
    "Um bloco ou bloco de código é um grupo de instruções em um programa ou script. Os\n",
    "espaços iniciais no início de uma linha são usados para determinar o nível de indentação,\n",
    "que por sua vez é usado para determinar o agrupamento de instruções. Além disso,\n",
    "declarações que vão juntas devem ter o mesmo nível de recuo. Um recuo errado gera o erro. Por exemplo,"
   ]
  },
  {
   "cell_type": "code",
   "execution_count": null,
   "metadata": {},
   "outputs": [],
   "source": [
    "stock_name = 'AAPL'\n",
    "# Incorrect indentation. Note a whitespace at\n",
    "# the beginning of line.\n",
    "print('Stock name is', stock_name)\n",
    "# Correct indentation.\n",
    "print('Stock name is', stock_name)"
   ]
  },
  {
   "attachments": {},
   "cell_type": "markdown",
   "metadata": {},
   "source": [
    "Ao executar o código a seguir, seremos apresentados ao seguinte erro"
   ]
  },
  {
   "attachments": {},
   "cell_type": "markdown",
   "metadata": {},
   "source": [
    "O erro nos indica que a sintaxe do programa é inválida. Ou seja, o programa não está escrito\n",
    "corretamente. Não podemos indentar novos blocos de declarações arbitrariamente. A\n",
    "indentação é amplamente usada para definir um novo bloco durante a definição de funções,\n",
    "declaração de fluxo de controle, etc., que discutiremos em detalhes nos próximos capítulos."
   ]
  },
  {
   "attachments": {},
   "cell_type": "markdown",
   "metadata": {},
   "source": [
    "NOTA: Usamos quatro espaços ou espaço de tabulação para recuo. A maioria dos editores modernos faz isso automaticamente para nós."
   ]
  },
  {
   "attachments": {},
   "cell_type": "markdown",
   "metadata": {},
   "source": [
    "##### Principais conclusões"
   ]
  },
  {
   "attachments": {},
   "cell_type": "markdown",
   "metadata": {},
   "source": [
    "1. O Python fornece uma interface direta conhecida como Python Console para interagir\n",
    "e executar o código diretamente. A versão avançada do console Python é o console\n",
    "IPython (Interactive Python).\n",
    "2. Um número inteiro é chamado de inteiro e um número fracionário é chamado de tipos\n",
    "um flutuador. Eles são r epresentados por e int and float data types respectively.\n",
    "3. As expressões são avaliadas da esquerda para a direita em Python. Uma expressão\n",
    "com um valor flutuante como entrada retornará a saída flutuante.\n",
    "4. Strings são imutáveis em Python. Eles são escritos usando aspas simples ou duplas\n",
    "e são representados por tipo de dados. Qualquer caractere entre aspas é considerado\n",
    "uma string.\n",
    "5. Os comentários são usados para anotar o código. Em Python, o caractere marca o\n",
    "início de um comentário de uma única linha. Python descarta qualquer coisa escrita\n",
    "após o `#.`\n",
    "6. Os comentários de várias linhas estão entre aspas triplas simples ou duplas. Eles\n",
    "começam e terminam com \"\"\" ou \"'.\n",
    "7. Use the type() function to determine the type of data, print() to\n",
    "print on the standard output device and format() to format the output.\n",
    "8. Use o caractere de escape para escapar de certos caracteres dentro de uma string.  Eles podem ser usados para marcar a tabulação dentro de uma linha, uma nova linha dentro de uma string e\n",
    "assim por diante.\n",
    "9. Blocos de código são separados usando indentação em Python. As instruções de\n",
    "código que vão juntas em um único bloco devem ter o mesmo nível de indentação.\n",
    "Caso contrário, Python irá gerar um"
   ]
  },
  {
   "cell_type": "code",
   "execution_count": 62,
   "metadata": {},
   "outputs": [
    {
     "name": "stdout",
     "output_type": "stream",
     "text": [
      "Author: Caique Miranda\n",
      "\n",
      "Github username: caiquemiranda\n",
      "\n",
      "sys: 3.10.5 (tags/v3.10.5:f377153, Jun  6 2022, 16:14:13) [MSC v.1929 64 bit (AMD64)]\n",
      "\n"
     ]
    }
   ],
   "source": [
    "%reload_ext watermark\n",
    "%watermark -a \"Caique Miranda\" -gu \"caiquemiranda\" -iv"
   ]
  },
  {
   "attachments": {},
   "cell_type": "markdown",
   "metadata": {},
   "source": [
    "### End."
   ]
  }
 ],
 "metadata": {
  "kernelspec": {
   "display_name": "Python 3",
   "language": "python",
   "name": "python3"
  },
  "language_info": {
   "codemirror_mode": {
    "name": "ipython",
    "version": 3
   },
   "file_extension": ".py",
   "mimetype": "text/x-python",
   "name": "python",
   "nbconvert_exporter": "python",
   "pygments_lexer": "ipython3",
   "version": "3.10.5"
  },
  "orig_nbformat": 4,
  "vscode": {
   "interpreter": {
    "hash": "74af3d2f25f1e46ebd2903d59225d79e4675ec224d56c01fc30cd168c2010d53"
   }
  }
 },
 "nbformat": 4,
 "nbformat_minor": 2
}
