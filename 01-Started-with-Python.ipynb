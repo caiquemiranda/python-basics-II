{
 "cells": [
  {
   "cell_type": "code",
   "execution_count": 7,
   "metadata": {},
   "outputs": [
    {
     "name": "stdout",
     "output_type": "stream",
     "text": [
      "Versão de Python Neste Jupyter Notebook: 3.10.5\n"
     ]
    }
   ],
   "source": [
    "# Versão da Linguagem Python\n",
    "\n",
    "from platform import python_version\n",
    "print('Versão de Python Neste Jupyter Notebook:', python_version())"
   ]
  },
  {
   "cell_type": "code",
   "execution_count": 8,
   "metadata": {},
   "outputs": [],
   "source": [
    "import warnings\n",
    "warnings.filterwarnings('ignore')"
   ]
  },
  {
   "attachments": {},
   "cell_type": "markdown",
   "metadata": {},
   "source": [
    "### Introdução ao Python"
   ]
  },
  {
   "attachments": {},
   "cell_type": "markdown",
   "metadata": {},
   "source": [
    "Como vimos na seção anterior, o Python oferece diferentes versões, vem em uma\n",
    "variedade de distribuições e é adequado para uma infinidade de combinações de\n",
    "plataformas e dispositivos. Graças à sua versatilidade, podemos usar o Python para\n",
    "codificar praticamente qualquer tarefa que possamos pensar logicamente. Uma das\n",
    "tarefas mais importantes que um computador executa é a computação matemática.\n",
    "Python fornece uma interface direta para essa funcionalidade fundamental dos\n",
    "computadores modernos. Na verdade, uma introdução ao Python poderia ser iniciada\n",
    "mostrando como ele pode ser usado como uma ferramenta para cálculos matemáticos simples."
   ]
  },
  {
   "attachments": {},
   "cell_type": "markdown",
   "metadata": {},
   "source": [
    "#### Python como uma calculadora"
   ]
  },
  {
   "attachments": {},
   "cell_type": "markdown",
   "metadata": {},
   "source": [
    "A maneira mais fácil de realizar cálculos matemáticos usando Python é usar o Console,\n",
    "que pode ser usado como uma calculadora sofisticada. Para começar com as operações\n",
    "matemáticas mais simples, como adição, subtração, multiplicação e divisão, podemos\n",
    "começar usando o Python Console usando as seguintes expressões."
   ]
  },
  {
   "attachments": {},
   "cell_type": "markdown",
   "metadata": {},
   "source": [
    "NOTA: O conteúdo após os símbolos # são comentários e podem\n",
    "ser ignorados ao digitar os exemplos. Examinaremos os comentários\n",
    "com mais detalhes nas seções posteriores. Aqui, refere-se a uma\n",
    "entrada fornecida ao interpretador Python e representa a saída\n",
    "retornada pelo interpretador. Aqui usamos o console IPython para\n",
    "executar as operações matemáticas acima. Eles também podem ser\n",
    "executados no Python IDLE (Integrated Development and Learning\n",
    "Environment) (também conhecido como The Shell), no console\n",
    "Python ou no notebook Jupyter de maneira semelhante. Basicamente,\n",
    "temos uma série de interfaces para escolher e os programadores\n",
    "escolhem o que acham mais confortável. Vamos nos ater à interface\n",
    "Python Console para escrever e executar nosso código Python neste manual. Para ser claro, cada uma das interfaces mencionadas acima nos\n",
    "conecta ao interpretador Python (que faz o trabalho pesado\n",
    "computacional nos bastidores)."
   ]
  },
  {
   "attachments": {},
   "cell_type": "markdown",
   "metadata": {},
   "source": [
    "Vamos dissecar os exemplos acima. Uma expressão Python simples é\n",
    "semelhante a uma expressão matemática. Consiste em alguns números,\n",
    "conectados por um operador matemático. Na terminologia de programação, os\n",
    "números (isso inclui números inteiros, bem como números com partes\n",
    "fracionárias, por exemplo, 5, 3,89) são chamados de literais numéricos. Um\n",
    "operador (por exemplo, , , ) indica uma operação matemática entre seus\n",
    "operandos e, portanto, o valor da expressão. O processo de derivação do valor\n",
    "de uma expressão é chamado de avaliação da expressão. Quando uma\n",
    "expressão matemática é inserida, o interpretador Python avalia automaticamente e exibe seu valor"
   ]
  },
  {
   "attachments": {},
   "cell_type": "markdown",
   "metadata": {},
   "source": [
    "Semelhante ao operador de divisão, também temos o operador de divisão\n",
    "inteira. A principal diferença é que o primeiro gera o valor decimal conhecido\n",
    "como float, que pode ser visto no exemplo acima, e o último gera um valor\n",
    "inteiro, ou seja, sem nenhuma parte fracionária. Discutiremos sobre o tipo\n",
    "de dados com mais detalhes nas próximas seções. Be\n",
    "low é um exemplo de uma divisão inteira em que o Python retorna o valor\n",
    "de saída sem nenhum decimal."
   ]
  },
  {
   "attachments": {},
   "cell_type": "markdown",
   "metadata": {},
   "source": [
    "Também podemos usar expressões como operandos em expressões compostas mais longas.\n",
    "Por exemplo,"
   ]
  },
  {
   "attachments": {},
   "cell_type": "markdown",
   "metadata": {},
   "source": [
    "No exemplo acima, a ordem de avaliação é da esquerda para a direita,\n",
    "resultando na avaliação da expressão primeiro. Seu valor é então\n",
    "combinado com o próximo operando pelo operador, avaliando o valor\n",
    "da expressão composta. Esse valor, por sua vez, é combinado com o\n",
    "último literal pelo operador, terminando com o valor da expressão inteira."
   ]
  },
  {
   "attachments": {},
   "cell_type": "markdown",
   "metadata": {},
   "source": [
    "No exemplo, os operadores são aplicados da esquerda para a direita, pois\n",
    "e têm a mesma prioridade. Para uma expressão onde temos mais de um\n",
    "operador, não é necessário que todos os operadores tenham a mesma\n",
    "prioridade. Considere o seguinte exemplo,"
   ]
  },
  {
   "attachments": {},
   "cell_type": "markdown",
   "metadata": {},
   "source": [
    "Aqui, a expressão acima avaliada como porque o operador tem uma\n",
    "prioridade mais alta em comparação com os operadores e. A expressão\n",
    "é avaliada primeiro resultando no valor que será combinado com o\n",
    "operando pelo operador produzindo o valor de . Esse valor, por sua vez,\n",
    "é combinado com o próximo operando pelo operador, o que resulta no\n",
    "valor final de . A ordem na qual os operadores são aplicados é chamada operador precedente. Em Python, os operadores matemáticos seguem a\n",
    "precedência natural observada na matemática. "
   ]
  },
  {
   "attachments": {},
   "cell_type": "markdown",
   "metadata": {},
   "source": [
    "Semelhante às funções matemáticas, o Python permite o uso de colchetes e\n",
    "especificar manualmente a ordem de avaliação, como a ilustrada abaixo:"
   ]
  },
  {
   "attachments": {},
   "cell_type": "markdown",
   "metadata": {},
   "source": [
    "A expressão acima avaliada para o valor, pois definimos explicitamente a\n",
    "precedência para a expressão a ser avaliada primeiro, resultando no valor\n",
    "seguido pela produção do valor e, finalmente, combinamos os dois valores e\n",
    "com o operador, resultando no valor final a ser ."
   ]
  },
  {
   "attachments": {},
   "cell_type": "markdown",
   "metadata": {},
   "source": [
    "Nos exemplos acima, um operador conecta dois operandos e, portanto, eles são\n",
    "chamados de operadores binários. Em contraste, os operadores também podem ser\n",
    "unários, que usam apenas um operando. Tal operador é conhecido como negação."
   ]
  },
  {
   "attachments": {},
   "cell_type": "markdown",
   "metadata": {},
   "source": [
    "Primeiro, calculamos a expressão resultante no valor e, em segundo lugar,\n",
    "negamos com o operador produzindo o valor final de ."
   ]
  },
  {
   "attachments": {},
   "cell_type": "markdown",
   "metadata": {},
   "source": [
    "##### Expressões de Ponto Flutuante"
   ]
  },
  {
   "attachments": {},
   "cell_type": "markdown",
   "metadata": {},
   "source": [
    "Quaisquer exemplos que vimos até agora foram executados em inteiros também para\n",
    "produzir inteiros. Observe que, para a expressão, obteríamos um número real como\n",
    "saída, mesmo que os operandos sejam inteiros. Na ciência da computação, os\n",
    "números reais são normalmente chamados de números de ponto flutuante. Por\n",
    "exemplo:"
   ]
  },
  {
   "attachments": {},
   "cell_type": "markdown",
   "metadata": {},
   "source": [
    "Para o exemplo acima, a última parte calcula a raiz quadrada positiva de ."
   ]
  },
  {
   "attachments": {},
   "cell_type": "markdown",
   "metadata": {},
   "source": [
    "Python fornece uma opção muito conveniente para verificar o tipo de número,\n",
    "seja uma saída de uma expressão ou o próprio operando."
   ]
  },
  {
   "attachments": {},
   "cell_type": "markdown",
   "metadata": {},
   "source": [
    "O comando retorna o tipo de . Este comando é uma função em Python onde é\n",
    "uma função interna em Python. Podemos chamar uma função com um argumento\n",
    "específico para obter um valor de retorno. No exemplo acima, chamar um tipo de\n",
    "função com o argumento retorna o valor que significa um inteiro. As chamadas\n",
    "de função também podem ser consideradas como uma expressão semelhante a\n",
    "expressões matemáticas, com um nome de função seguido por uma lista de\n",
    "argumentos separados por vírgula entre parênteses. O valor de uma expressão\n",
    "de chamada de função é o valor de retorno da função. Seguindo o mesmo\n",
    "exemplo discutido acima, type é o nome da função, que recebe um único\n",
    "argumento e retorna o tipo de argumento. Como resultado, a chamada à função\n",
    "retorna o valor como um"
   ]
  },
  {
   "attachments": {},
   "cell_type": "markdown",
   "metadata": {},
   "source": [
    "Também podemos converter o tipo de um argumento usando as seguintes funções\n",
    "integradas. Por exemplo, "
   ]
  },
  {
   "attachments": {},
   "cell_type": "markdown",
   "metadata": {},
   "source": [
    "Como pode ser visto no exemplo acima, usando a chamada de função, que recebe um\n",
    "único argumento, podemos converter uma entrada inteira em um valor flutuante."
   ]
  },
  {
   "attachments": {},
   "cell_type": "markdown",
   "metadata": {},
   "source": [
    "Além disso, verificamos usando a função type. Da mesma forma, temos uma\n",
    "função com a qual podemos alterar uma entrada flutuante para o valor inteiro."
   ]
  },
  {
   "attachments": {},
   "cell_type": "markdown",
   "metadata": {},
   "source": [
    "Durante o processo de conversão, a função int apenas ignora a parte fracionária\n",
    "do valor de entrada. No último exemplo, o valor de retorno de\n",
    "even though é numericamente mais próximo do inteiro 6. Para conversão de ponto\n",
    "flutuante por arredondamento de um inteiro, podemos usar a função."
   ]
  },
  {
   "attachments": {},
   "cell_type": "markdown",
   "metadata": {},
   "source": [
    "Uma chamada para a função retornará um valor numericamente mais próximo do\n",
    "argumento. Ele também pode arredondar para um número específico de dígitos após\n",
    "a vírgula decimal no argumento. Em seguida, precisamos especificar dois argumentos\n",
    "para a chamada de função, com o segundo argumento especificando o número de\n",
    "dígitos a serem mantidos após o ponto decimal. Os exemplos a seguir ilustram o\n",
    "mesmo. Uma vírgula é usada para separar os argumentos na chamada da função."
   ]
  },
  {
   "attachments": {},
   "cell_type": "markdown",
   "metadata": {},
   "source": [
    "### Noções básicas de Python"
   ]
  },
  {
   "attachments": {},
   "cell_type": "markdown",
   "metadata": {},
   "source": [
    "Acabamos de concluir uma breve visão geral de algumas funcionalidades do Python. Vamos agora nos familiarizar com os fundamentos do Python."
   ]
  },
  {
   "attachments": {},
   "cell_type": "markdown",
   "metadata": {},
   "source": [
    "#### Constantes Literais"
   ]
  },
  {
   "attachments": {},
   "cell_type": "markdown",
   "metadata": {},
   "source": [
    "Vimos literais e seu uso nos exemplos acima. Aqui definimos o que são.\n",
    "Alguns exemplos mais concretos de literais numéricos são ou string\n",
    "literais são ...ou ..."
   ]
  },
  {
   "attachments": {},
   "cell_type": "markdown",
   "metadata": {},
   "source": [
    "É chamado de literal porque usamos seu valor literalmente. O número sempre\n",
    "representa a si mesmo e nada mais – é uma constante porque seu valor não pode ser\n",
    "alterado. Da mesma forma, o valor representa a si mesmo. Portanto, diz-se que tudo\n",
    "isso é uma constante literal."
   ]
  },
  {
   "attachments": {},
   "cell_type": "markdown",
   "metadata": {},
   "source": [
    "##### Números"
   ]
  },
  {
   "attachments": {},
   "cell_type": "markdown",
   "metadata": {},
   "source": [
    "Já cobrimos os números em detalhes na seção acima. Aqui vamos discuti-lo em breve.\n",
    "Os números podem ser amplamente classificados em dois tipos - inteiros e flutuantes."
   ]
  },
  {
   "attachments": {},
   "cell_type": "markdown",
   "metadata": {},
   "source": [
    "... code"
   ]
  },
  {
   "attachments": {},
   "cell_type": "markdown",
   "metadata": {},
   "source": [
    "##### Strings"
   ]
  },
  {
   "attachments": {},
   "cell_type": "markdown",
   "metadata": {},
   "source": [
    "Simplificando, uma string é uma sequência de caracteres. Usamos strings em quase\n",
    "todos os lugares no código Python. O Python suporta strings ASCII e Unicode. Vamos\n",
    "explorar as strings com mais detalhes."
   ]
  },
  {
   "cell_type": "markdown",
   "metadata": {},
   "source": []
  },
  {
   "attachments": {},
   "cell_type": "markdown",
   "metadata": {},
   "source": [
    "Aspas triplas - Usadas como delimitador para marcar o início e o fim de um comentário.\n",
    "Explicamos com mais detalhes no próximo tópico."
   ]
  },
  {
   "attachments": {},
   "cell_type": "markdown",
   "metadata": {},
   "source": [
    "As strings são imutáveis - Isso significa que, depois de criarmos uma string, não\n",
    "podemos alterá-la. Considere o seguinte exemplo."
   ]
  },
  {
   "attachments": {},
   "cell_type": "markdown",
   "metadata": {},
   "source": [
    "##### Comentários"
   ]
  },
  {
   "attachments": {},
   "cell_type": "markdown",
   "metadata": {},
   "source": [
    "Já vimos comentários antes. Os comentários são usados para anotar códigos e não\n",
    "são interpretados pelo Python. Os comentários em Python começam com o caractere\n",
    "hash e terminam no final da linha física do código. Um comentário pode aparecer no\n",
    "início de uma linha ou após um espaço em branco ou código, mas não dentro de\n",
    "uma string literal. Um caractere hash dentro de uma string literal é apenas um\n",
    "caractere hash. Esse tipo de comentário também é conhecido como comentário de\n",
    "linha única."
   ]
  },
  {
   "attachments": {},
   "cell_type": "markdown",
   "metadata": {},
   "source": [
    "A outra maneira de anotar o código é usando um comentário de várias linhas que\n",
    "serve como referência ou documentação para que outras pessoas entendam o código."
   ]
  },
  {
   "attachments": {},
   "cell_type": "markdown",
   "metadata": {},
   "source": [
    "Vamos dar uma olhada no comentário de linha única no exemplo a seguir."
   ]
  },
  {
   "attachments": {},
   "cell_type": "markdown",
   "metadata": {},
   "source": [
    "Podemos escrever um comentário após a linha de código para anotar o que uma determinada\n",
    "linha faz, conforme descrito no exemplo a seguir."
   ]
  },
  {
   "attachments": {},
   "cell_type": "markdown",
   "metadata": {},
   "source": [
    "O Python não oferece suporte a comentários de várias linhas/blocos. No entanto, podemos\n",
    "estender comentários em várias linhas usando a mesma notação que usamos para comentários\n",
    "de linha única. Os comentários em bloco destinam-se ao mesmo nível do código. Cada linha de\n",
    "um comentário de bloco começa com um e um único espaço."
   ]
  },
  {
   "attachments": {},
   "cell_type": "markdown",
   "metadata": {},
   "source": [
    "É sempre uma boa prática de programação intercalar generosamente nosso código\n",
    "com comentários. Lembre-se: o código diz como, o comentário diz o porquê."
   ]
  },
  {
   "attachments": {},
   "cell_type": "markdown",
   "metadata": {},
   "source": [
    "##### Função"
   ]
  },
  {
   "cell_type": "markdown",
   "metadata": {},
   "source": []
  },
  {
   "cell_type": "markdown",
   "metadata": {},
   "source": []
  },
  {
   "cell_type": "code",
   "execution_count": 9,
   "metadata": {},
   "outputs": [
    {
     "data": {
      "text/plain": [
       "8"
      ]
     },
     "execution_count": 9,
     "metadata": {},
     "output_type": "execute_result"
    }
   ],
   "source": [
    "# Addition\n",
    "5 + 3"
   ]
  },
  {
   "cell_type": "code",
   "execution_count": 10,
   "metadata": {},
   "outputs": [
    {
     "data": {
      "text/plain": [
       "2"
      ]
     },
     "execution_count": 10,
     "metadata": {},
     "output_type": "execute_result"
    }
   ],
   "source": [
    "# Subtraction\n",
    "5 - 3"
   ]
  },
  {
   "cell_type": "code",
   "execution_count": 11,
   "metadata": {},
   "outputs": [
    {
     "data": {
      "text/plain": [
       "15"
      ]
     },
     "execution_count": 11,
     "metadata": {},
     "output_type": "execute_result"
    }
   ],
   "source": [
    "# Multiplication\n",
    "5 * 3"
   ]
  },
  {
   "cell_type": "code",
   "execution_count": 12,
   "metadata": {},
   "outputs": [
    {
     "data": {
      "text/plain": [
       "1.6666666666666667"
      ]
     },
     "execution_count": 12,
     "metadata": {},
     "output_type": "execute_result"
    }
   ],
   "source": [
    "# Division\n",
    "5 / 3"
   ]
  },
  {
   "cell_type": "code",
   "execution_count": 13,
   "metadata": {},
   "outputs": [
    {
     "data": {
      "text/plain": [
       "1"
      ]
     },
     "execution_count": 13,
     "metadata": {},
     "output_type": "execute_result"
    }
   ],
   "source": [
    "# Modulo\n",
    "5 % 2"
   ]
  },
  {
   "cell_type": "code",
   "execution_count": 14,
   "metadata": {},
   "outputs": [
    {
     "data": {
      "text/plain": [
       "1"
      ]
     },
     "execution_count": 14,
     "metadata": {},
     "output_type": "execute_result"
    }
   ],
   "source": [
    "5 // 3"
   ]
  },
  {
   "cell_type": "code",
   "execution_count": 15,
   "metadata": {},
   "outputs": [
    {
     "data": {
      "text/plain": [
       "9"
      ]
     },
     "execution_count": 15,
     "metadata": {},
     "output_type": "execute_result"
    }
   ],
   "source": [
    "# We can also use expressions as operands in longer composite expressions. For example,\n",
    "# Composite expression\n",
    "5 + 3 - 3 + 4"
   ]
  },
  {
   "cell_type": "code",
   "execution_count": 16,
   "metadata": {},
   "outputs": [
    {
     "data": {
      "text/plain": [
       "10"
      ]
     },
     "execution_count": 16,
     "metadata": {},
     "output_type": "execute_result"
    }
   ],
   "source": [
    "5 + 3 * 3 - 4"
   ]
  },
  {
   "cell_type": "code",
   "execution_count": 17,
   "metadata": {},
   "outputs": [
    {
     "data": {
      "text/plain": [
       "-8"
      ]
     },
     "execution_count": 17,
     "metadata": {},
     "output_type": "execute_result"
    }
   ],
   "source": [
    "# Brackets\n",
    "(5 + 3) * (3 - 4)"
   ]
  },
  {
   "cell_type": "code",
   "execution_count": 18,
   "metadata": {},
   "outputs": [
    {
     "data": {
      "text/plain": [
       "-8"
      ]
     },
     "execution_count": 18,
     "metadata": {},
     "output_type": "execute_result"
    }
   ],
   "source": [
    "# Negation\n",
    "- (5 + 3)"
   ]
  },
  {
   "attachments": {},
   "cell_type": "markdown",
   "metadata": {},
   "source": [
    "#### Floating Point Expressions"
   ]
  },
  {
   "cell_type": "code",
   "execution_count": 19,
   "metadata": {},
   "outputs": [
    {
     "data": {
      "text/plain": [
       "8.0"
      ]
     },
     "execution_count": 19,
     "metadata": {},
     "output_type": "execute_result"
    }
   ],
   "source": [
    "# Floating Point Addition\n",
    "5.0 + 3"
   ]
  },
  {
   "cell_type": "code",
   "execution_count": 20,
   "metadata": {},
   "outputs": [
    {
     "data": {
      "text/plain": [
       "15.0"
      ]
     },
     "execution_count": 20,
     "metadata": {},
     "output_type": "execute_result"
    }
   ],
   "source": [
    "# Floating Point Multiplication\n",
    "5.0 * 3"
   ]
  },
  {
   "cell_type": "code",
   "execution_count": 21,
   "metadata": {},
   "outputs": [
    {
     "data": {
      "text/plain": [
       "125.0"
      ]
     },
     "execution_count": 21,
     "metadata": {},
     "output_type": "execute_result"
    }
   ],
   "source": [
    "# Floating Point Exponential\n",
    "5.0 ** 3"
   ]
  },
  {
   "cell_type": "code",
   "execution_count": 22,
   "metadata": {},
   "outputs": [
    {
     "data": {
      "text/plain": [
       "6.0"
      ]
     },
     "execution_count": 22,
     "metadata": {},
     "output_type": "execute_result"
    }
   ],
   "source": [
    "# Floating Point Exponential\n",
    "36 ** 0.5"
   ]
  },
  {
   "cell_type": "code",
   "execution_count": 23,
   "metadata": {},
   "outputs": [
    {
     "data": {
      "text/plain": [
       "int"
      ]
     },
     "execution_count": 23,
     "metadata": {},
     "output_type": "execute_result"
    }
   ],
   "source": [
    "# types\n",
    "type(5)"
   ]
  },
  {
   "cell_type": "code",
   "execution_count": 24,
   "metadata": {},
   "outputs": [
    {
     "data": {
      "text/plain": [
       "float"
      ]
     },
     "execution_count": 24,
     "metadata": {},
     "output_type": "execute_result"
    }
   ],
   "source": [
    "type(5.0)"
   ]
  },
  {
   "cell_type": "code",
   "execution_count": 25,
   "metadata": {},
   "outputs": [
    {
     "data": {
      "text/plain": [
       "float"
      ]
     },
     "execution_count": 25,
     "metadata": {},
     "output_type": "execute_result"
    }
   ],
   "source": [
    "type(5.0 ** 3)"
   ]
  },
  {
   "cell_type": "code",
   "execution_count": 26,
   "metadata": {},
   "outputs": [
    {
     "data": {
      "text/plain": [
       "5.0"
      ]
     },
     "execution_count": 26,
     "metadata": {},
     "output_type": "execute_result"
    }
   ],
   "source": [
    "# convert\n",
    "float(5)"
   ]
  },
  {
   "cell_type": "code",
   "execution_count": 27,
   "metadata": {},
   "outputs": [
    {
     "data": {
      "text/plain": [
       "float"
      ]
     },
     "execution_count": 27,
     "metadata": {},
     "output_type": "execute_result"
    }
   ],
   "source": [
    "type(float(5))"
   ]
  },
  {
   "cell_type": "code",
   "execution_count": 28,
   "metadata": {},
   "outputs": [
    {
     "data": {
      "text/plain": [
       "5"
      ]
     },
     "execution_count": 28,
     "metadata": {},
     "output_type": "execute_result"
    }
   ],
   "source": [
    "int(5.9)"
   ]
  },
  {
   "cell_type": "code",
   "execution_count": 29,
   "metadata": {},
   "outputs": [
    {
     "data": {
      "text/plain": [
       "int"
      ]
     },
     "execution_count": 29,
     "metadata": {},
     "output_type": "execute_result"
    }
   ],
   "source": [
    "type(int(5.9))"
   ]
  },
  {
   "cell_type": "code",
   "execution_count": 30,
   "metadata": {},
   "outputs": [
    {
     "data": {
      "text/plain": [
       "6"
      ]
     },
     "execution_count": 30,
     "metadata": {},
     "output_type": "execute_result"
    }
   ],
   "source": [
    "# round \n",
    "round(5.9)"
   ]
  },
  {
   "cell_type": "code",
   "execution_count": 31,
   "metadata": {},
   "outputs": [
    {
     "data": {
      "text/plain": [
       "5"
      ]
     },
     "execution_count": 31,
     "metadata": {},
     "output_type": "execute_result"
    }
   ],
   "source": [
    "round(5.2)"
   ]
  },
  {
   "cell_type": "code",
   "execution_count": 32,
   "metadata": {},
   "outputs": [
    {
     "data": {
      "text/plain": [
       "5.99"
      ]
     },
     "execution_count": 32,
     "metadata": {},
     "output_type": "execute_result"
    }
   ],
   "source": [
    "round(5.98765, 2)"
   ]
  },
  {
   "cell_type": "code",
   "execution_count": 33,
   "metadata": {},
   "outputs": [
    {
     "data": {
      "text/plain": [
       "6.0"
      ]
     },
     "execution_count": 33,
     "metadata": {},
     "output_type": "execute_result"
    }
   ],
   "source": [
    "round(5.98765, 1)"
   ]
  },
  {
   "cell_type": "code",
   "execution_count": 34,
   "metadata": {},
   "outputs": [
    {
     "data": {
      "text/plain": [
       "5"
      ]
     },
     "execution_count": 34,
     "metadata": {},
     "output_type": "execute_result"
    }
   ],
   "source": [
    "# abs\n",
    "abs(-5)"
   ]
  },
  {
   "cell_type": "code",
   "execution_count": 35,
   "metadata": {},
   "outputs": [
    {
     "data": {
      "text/plain": [
       "5"
      ]
     },
     "execution_count": 35,
     "metadata": {},
     "output_type": "execute_result"
    }
   ],
   "source": [
    "abs(5)"
   ]
  },
  {
   "cell_type": "code",
   "execution_count": 36,
   "metadata": {},
   "outputs": [
    {
     "data": {
      "text/plain": [
       "5.0"
      ]
     },
     "execution_count": 36,
     "metadata": {},
     "output_type": "execute_result"
    }
   ],
   "source": [
    "abs(5.0)"
   ]
  },
  {
   "cell_type": "code",
   "execution_count": 37,
   "metadata": {},
   "outputs": [
    {
     "data": {
      "text/plain": [
       "50.0"
      ]
     },
     "execution_count": 37,
     "metadata": {},
     "output_type": "execute_result"
    }
   ],
   "source": [
    "5e1"
   ]
  },
  {
   "cell_type": "code",
   "execution_count": 38,
   "metadata": {},
   "outputs": [
    {
     "data": {
      "text/plain": [
       "0.5"
      ]
     },
     "execution_count": 38,
     "metadata": {},
     "output_type": "execute_result"
    }
   ],
   "source": [
    "5e-1"
   ]
  },
  {
   "cell_type": "code",
   "execution_count": 39,
   "metadata": {},
   "outputs": [
    {
     "data": {
      "text/plain": [
       "500.0"
      ]
     },
     "execution_count": 39,
     "metadata": {},
     "output_type": "execute_result"
    }
   ],
   "source": [
    "5E2"
   ]
  },
  {
   "attachments": {},
   "cell_type": "markdown",
   "metadata": {},
   "source": [
    "### Python Basics"
   ]
  },
  {
   "cell_type": "code",
   "execution_count": 40,
   "metadata": {},
   "outputs": [],
   "source": [
    "month_name = 'Fanuary'"
   ]
  },
  {
   "cell_type": "code",
   "execution_count": 41,
   "metadata": {},
   "outputs": [
    {
     "ename": "TypeError",
     "evalue": "'str' object does not support item assignment",
     "output_type": "error",
     "traceback": [
      "\u001b[1;31m---------------------------------------------------------------------------\u001b[0m",
      "\u001b[1;31mTypeError\u001b[0m                                 Traceback (most recent call last)",
      "\u001b[1;32md:\\GIT-repository\\github-python-basics-II\\python-basics-II\\01-Started-with-Python.ipynb Cell 38\u001b[0m in \u001b[0;36m<cell line: 2>\u001b[1;34m()\u001b[0m\n\u001b[0;32m      <a href='vscode-notebook-cell:/d%3A/GIT-repository/github-python-basics-II/python-basics-II/01-Started-with-Python.ipynb#Y126sZmlsZQ%3D%3D?line=0'>1</a>\u001b[0m \u001b[39m# We will be presented with an error at this line.\u001b[39;00m\n\u001b[1;32m----> <a href='vscode-notebook-cell:/d%3A/GIT-repository/github-python-basics-II/python-basics-II/01-Started-with-Python.ipynb#Y126sZmlsZQ%3D%3D?line=1'>2</a>\u001b[0m month_name[\u001b[39m0\u001b[39m] \u001b[39m=\u001b[39m \u001b[39m'\u001b[39m\u001b[39mJ\u001b[39m\u001b[39m'\u001b[39m\n",
      "\u001b[1;31mTypeError\u001b[0m: 'str' object does not support item assignment"
     ]
    }
   ],
   "source": [
    "# We will be presented with an error at this line.\n",
    "month_name[0] = 'J'"
   ]
  },
  {
   "cell_type": "code",
   "execution_count": 42,
   "metadata": {},
   "outputs": [
    {
     "data": {
      "text/plain": [
       "8"
      ]
     },
     "execution_count": 42,
     "metadata": {},
     "output_type": "execute_result"
    }
   ],
   "source": [
    "# comments\n",
    "# Following line adds two integer numbers\n",
    "5 + 3"
   ]
  },
  {
   "cell_type": "code",
   "execution_count": 43,
   "metadata": {},
   "outputs": [
    {
     "data": {
      "text/plain": [
       "8"
      ]
     },
     "execution_count": 43,
     "metadata": {},
     "output_type": "execute_result"
    }
   ],
   "source": [
    "5 + 3 # Add two literals"
   ]
  },
  {
   "cell_type": "code",
   "execution_count": 44,
   "metadata": {},
   "outputs": [],
   "source": [
    "# This is also a comment!"
   ]
  },
  {
   "cell_type": "code",
   "execution_count": 45,
   "metadata": {},
   "outputs": [],
   "source": [
    "# This is an example of a multi-line comment\n",
    "# in Python that spans several lines and\n",
    "# describes the code. It can be used to\n",
    "# annotate anything like the author name, revisions,\n",
    "# the purpose of a script, etc. It uses a delimiter\n",
    "# to mark its start and end."
   ]
  },
  {
   "attachments": {},
   "cell_type": "markdown",
   "metadata": {},
   "source": [
    "#### `print()` function"
   ]
  },
  {
   "cell_type": "code",
   "execution_count": 46,
   "metadata": {},
   "outputs": [
    {
     "name": "stdout",
     "output_type": "stream",
     "text": [
      "Hello World!\n"
     ]
    }
   ],
   "source": [
    "# Simple print function\n",
    "print(\"Hello World!\")"
   ]
  },
  {
   "cell_type": "code",
   "execution_count": 47,
   "metadata": {},
   "outputs": [
    {
     "name": "stdout",
     "output_type": "stream",
     "text": [
      "January 2010\n"
     ]
    }
   ],
   "source": [
    "# Concatenating string and integer literal\n",
    "print(\"January\", 2010)"
   ]
  },
  {
   "cell_type": "code",
   "execution_count": 48,
   "metadata": {},
   "outputs": [
    {
     "name": "stdout",
     "output_type": "stream",
     "text": [
      "AAPL is the stock ticker of Apple Inc.\n"
     ]
    }
   ],
   "source": [
    "# Concatenating two strings\n",
    "print(\"AAPL\", \"is the stock ticker of Apple Inc.\")"
   ]
  },
  {
   "cell_type": "code",
   "execution_count": 49,
   "metadata": {},
   "outputs": [
    {
     "name": "stdout",
     "output_type": "stream",
     "text": [
      "MSFT is the stock name of Microsoft Corporation.\n"
     ]
    }
   ],
   "source": [
    "# Concatenating a variable and string.\n",
    "# Here, stock_name is a variable containing stock name.\n",
    "stock_name = 'MSFT'\n",
    "print(stock_name + \" is the stock name of Microsoft Corporation.\")"
   ]
  },
  {
   "cell_type": "code",
   "execution_count": 50,
   "metadata": {},
   "outputs": [
    {
     "name": "stdout",
     "output_type": "stream",
     "text": [
      "The stock ticker for Apple Inc is MSFT.\n"
     ]
    }
   ],
   "source": [
    "# f-strings\n",
    "print(f'The stock ticker for Apple Inc is {stock_name}.')"
   ]
  },
  {
   "cell_type": "code",
   "execution_count": 51,
   "metadata": {},
   "outputs": [
    {
     "name": "stdout",
     "output_type": "stream",
     "text": [
      "MSFT is currently trading at 226.41.\n"
     ]
    }
   ],
   "source": [
    "# %-formatting strings\n",
    "price = 226.41\n",
    "print(\"%s is currently trading at %.2f.\" %(stock_name, price))"
   ]
  },
  {
   "attachments": {},
   "cell_type": "markdown",
   "metadata": {},
   "source": [
    "#### `format()` function"
   ]
  },
  {
   "cell_type": "code",
   "execution_count": 52,
   "metadata": {},
   "outputs": [
    {
     "name": "stdout",
     "output_type": "stream",
     "text": [
      "We are interested in AAPL which is currently trading at 226.41\n"
     ]
    }
   ],
   "source": [
    "stock_ticker = 'AAPL'\n",
    "price = 226.41\n",
    "print('We are interested in {x} which is currently trading at {y}'.format(x=stock_ticker, y=price))"
   ]
  },
  {
   "cell_type": "code",
   "execution_count": 53,
   "metadata": {},
   "outputs": [
    {
     "name": "stdout",
     "output_type": "stream",
     "text": [
      "We are interested in AAPL which is currently trading at 226.41\n"
     ]
    }
   ],
   "source": [
    "print('We are interested in {0} which is currently trading at {1}'.format(stock_ticker, price))"
   ]
  },
  {
   "cell_type": "code",
   "execution_count": 54,
   "metadata": {},
   "outputs": [
    {
     "name": "stdout",
     "output_type": "stream",
     "text": [
      "We are interested in AAPL which is currently trading at 226.41\n"
     ]
    }
   ],
   "source": [
    "print('We are interested in {} which is currently trading at {}'.format(stock_ticker, price))"
   ]
  },
  {
   "attachments": {},
   "cell_type": "markdown",
   "metadata": {},
   "source": [
    "#### Escape Sequence"
   ]
  },
  {
   "cell_type": "code",
   "execution_count": 55,
   "metadata": {},
   "outputs": [
    {
     "data": {
      "text/plain": [
       "\"That's really easy.\""
      ]
     },
     "execution_count": 55,
     "metadata": {},
     "output_type": "execute_result"
    }
   ],
   "source": [
    "'That\\'s really easy.'"
   ]
  },
  {
   "cell_type": "code",
   "execution_count": 56,
   "metadata": {},
   "outputs": [
    {
     "name": "stdout",
     "output_type": "stream",
     "text": [
      "That is really easy.\n",
      "Yes, it really is.\n"
     ]
    }
   ],
   "source": [
    "print('That is really easy.\\nYes, it really is.')"
   ]
  },
  {
   "cell_type": "code",
   "execution_count": 57,
   "metadata": {},
   "outputs": [
    {
     "name": "stdout",
     "output_type": "stream",
     "text": [
      "AAPL.\tNIFTY50.\tDJIA.\tNIKKEI225.\n"
     ]
    }
   ],
   "source": [
    "print('AAPL.\\tNIFTY50.\\tDJIA.\\tNIKKEI225.')"
   ]
  },
  {
   "cell_type": "code",
   "execution_count": 58,
   "metadata": {},
   "outputs": [
    {
     "name": "stdout",
     "output_type": "stream",
     "text": [
      "AAPL is the ticker for Apple Inc.    It is a technology company.\n"
     ]
    }
   ],
   "source": [
    "print('AAPL is the ticker for Apple Inc.\\\n",
    "    It is a technology company.')"
   ]
  },
  {
   "attachments": {},
   "cell_type": "markdown",
   "metadata": {},
   "source": [
    "#### Indentation"
   ]
  },
  {
   "cell_type": "code",
   "execution_count": 59,
   "metadata": {},
   "outputs": [],
   "source": [
    "stock_name = 'AAPL'"
   ]
  },
  {
   "cell_type": "code",
   "execution_count": 60,
   "metadata": {},
   "outputs": [
    {
     "ename": "IndentationError",
     "evalue": "unexpected indent (4095803048.py, line 3)",
     "output_type": "error",
     "traceback": [
      "\u001b[1;36m  Input \u001b[1;32mIn [60]\u001b[1;36m\u001b[0m\n\u001b[1;33m    print('Stock name is', stock_name)\u001b[0m\n\u001b[1;37m    ^\u001b[0m\n\u001b[1;31mIndentationError\u001b[0m\u001b[1;31m:\u001b[0m unexpected indent\n"
     ]
    }
   ],
   "source": [
    "# Incorrect indentation. Note a whitespace at\n",
    "# the beginning of line.\n",
    "    print('Stock name is', stock_name)"
   ]
  },
  {
   "cell_type": "code",
   "execution_count": 61,
   "metadata": {},
   "outputs": [
    {
     "name": "stdout",
     "output_type": "stream",
     "text": [
      "Stock name is AAPL\n"
     ]
    }
   ],
   "source": [
    "# Correct indentation.\n",
    "print('Stock name is', stock_name)"
   ]
  },
  {
   "cell_type": "code",
   "execution_count": 62,
   "metadata": {},
   "outputs": [
    {
     "name": "stdout",
     "output_type": "stream",
     "text": [
      "Author: Caique Miranda\n",
      "\n",
      "Github username: caiquemiranda\n",
      "\n",
      "sys: 3.10.5 (tags/v3.10.5:f377153, Jun  6 2022, 16:14:13) [MSC v.1929 64 bit (AMD64)]\n",
      "\n"
     ]
    }
   ],
   "source": [
    "%reload_ext watermark\n",
    "%watermark -a \"Caique Miranda\" -gu \"caiquemiranda\" -iv"
   ]
  },
  {
   "attachments": {},
   "cell_type": "markdown",
   "metadata": {},
   "source": [
    "### End."
   ]
  }
 ],
 "metadata": {
  "kernelspec": {
   "display_name": "Python 3",
   "language": "python",
   "name": "python3"
  },
  "language_info": {
   "codemirror_mode": {
    "name": "ipython",
    "version": 3
   },
   "file_extension": ".py",
   "mimetype": "text/x-python",
   "name": "python",
   "nbconvert_exporter": "python",
   "pygments_lexer": "ipython3",
   "version": "3.10.5"
  },
  "orig_nbformat": 4,
  "vscode": {
   "interpreter": {
    "hash": "74af3d2f25f1e46ebd2903d59225d79e4675ec224d56c01fc30cd168c2010d53"
   }
  }
 },
 "nbformat": 4,
 "nbformat_minor": 2
}
