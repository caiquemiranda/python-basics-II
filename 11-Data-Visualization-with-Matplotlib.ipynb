{
 "cells": [
  {
   "cell_type": "code",
   "execution_count": null,
   "metadata": {},
   "outputs": [],
   "source": [
    "# Versão da Linguagem Python\n",
    "\n",
    "from platform import python_version\n",
    "print('Versão de Python Neste Jupyter Notebook:', python_version())"
   ]
  },
  {
   "cell_type": "code",
   "execution_count": null,
   "metadata": {},
   "outputs": [],
   "source": [
    "import warnings\n",
    "warnings.filterwarnings('ignore')"
   ]
  },
  {
   "cell_type": "code",
   "execution_count": null,
   "metadata": {},
   "outputs": [],
   "source": [
    "import matplotlib.pyplot as plt\n",
    "%matplotlib inline"
   ]
  },
  {
   "cell_type": "code",
   "execution_count": null,
   "metadata": {},
   "outputs": [],
   "source": [
    "import pandas as pd\n",
    "import numpy as np"
   ]
  },
  {
   "attachments": {},
   "cell_type": "markdown",
   "metadata": {},
   "source": [
    "### Basic Concepts"
   ]
  },
  {
   "cell_type": "code",
   "execution_count": null,
   "metadata": {},
   "outputs": [],
   "source": [
    "# Figure is the top-level container in the hierarchy. It is the overall window\n",
    "# where everything is drawn. We can have multiple independent\n",
    "# figures, and each figure can have multiple Axes. It can be created using\n",
    "# the figure method of pyplot module."
   ]
  },
  {
   "cell_type": "code",
   "execution_count": null,
   "metadata": {},
   "outputs": [],
   "source": [
    "# Axes is where the plotting occurs. The axes are effectively the area\n",
    "# that we plot data on. Each Axes has an X-Axis and a Y-Axis."
   ]
  },
  {
   "cell_type": "code",
   "execution_count": null,
   "metadata": {},
   "outputs": [],
   "source": [
    "fig = plt.figure()"
   ]
  },
  {
   "cell_type": "code",
   "execution_count": null,
   "metadata": {},
   "outputs": [],
   "source": [
    "fig = plt.figure(figsize=(8, 4))\n",
    "plt.show()"
   ]
  },
  {
   "attachments": {},
   "cell_type": "markdown",
   "metadata": {},
   "source": [
    "#### Axes"
   ]
  },
  {
   "cell_type": "code",
   "execution_count": null,
   "metadata": {},
   "outputs": [],
   "source": [
    "# add_subplot method adds an Axes to the figure as part of a subplot arrangement.\n",
    "# -Example 1-\n",
    "# Creating figure\n",
    "fig = plt.figure()"
   ]
  },
  {
   "cell_type": "code",
   "execution_count": null,
   "metadata": {},
   "outputs": [],
   "source": [
    "# Creating subplot\n",
    "# Sub plot with 1 row and 1 column at the index 1\n",
    "ax = fig.add_subplot(111)\n",
    "plt.show()"
   ]
  },
  {
   "cell_type": "code",
   "execution_count": null,
   "metadata": {},
   "outputs": [],
   "source": [
    "# -Example 2-\n",
    "fig = plt.figure()\n",
    "\n",
    "# Creating subplot/axes\n",
    "ax = fig.add_subplot(111)\n",
    "\n",
    "# Setting axes/plot title\n",
    "ax.set_title('An Axes Title')\n",
    "\n",
    "# Setting X-axis and Y-axis limits\n",
    "ax.set_xlim([0.5, 4.5])\n",
    "ax.set_ylim([-3, 7])\n",
    "\n",
    "# Setting X-axis and Y-axis labels\n",
    "ax.set_ylabel('Y-Axis Label')\n",
    "ax.set_xlabel('X-Axis Label')\n",
    "\n",
    "# Showing the plot\n",
    "plt.show()"
   ]
  },
  {
   "cell_type": "code",
   "execution_count": null,
   "metadata": {},
   "outputs": [],
   "source": [
    "# -Example 2 using the set method-\n",
    "fig = plt.figure()\n",
    "\n",
    "# Creating subplot/axes\n",
    "ax = fig.add_subplot(111)\n",
    "\n",
    "# Setting title and axes properties\n",
    "ax.set(title='An Axes Title', \n",
    "       xlim=[0.5, 4.5],\n",
    "       ylim=[-3, 7], \n",
    "       ylabel='Y-Axis Label',\n",
    "       xlabel='X-Axis Label')\n",
    "\n",
    "plt.show()"
   ]
  },
  {
   "attachments": {},
   "cell_type": "markdown",
   "metadata": {},
   "source": [
    "#### Axes method v/s pyplot"
   ]
  },
  {
   "cell_type": "code",
   "execution_count": null,
   "metadata": {},
   "outputs": [],
   "source": [
    "# -Example 3-\n",
    "# Creating subplots, setting title and axes labels\n",
    "# using `pyplot`\n",
    "plt.subplots()\n",
    "plt.title('Plot using pyplot')\n",
    "plt.xlabel('X-Axis Label')\n",
    "plt.ylabel('Y-Axis Label')\n",
    "plt.show()"
   ]
  },
  {
   "cell_type": "code",
   "execution_count": null,
   "metadata": {},
   "outputs": [],
   "source": [
    "fig = plt.figure()\n",
    "ax = fig.add_subplot(111)"
   ]
  },
  {
   "cell_type": "code",
   "execution_count": null,
   "metadata": {},
   "outputs": [],
   "source": [
    "fig, ax = plt.subplots()"
   ]
  },
  {
   "attachments": {},
   "cell_type": "markdown",
   "metadata": {},
   "source": [
    "#### Multiple Axes"
   ]
  },
  {
   "cell_type": "code",
   "execution_count": null,
   "metadata": {},
   "outputs": [],
   "source": [
    "# -Example 4-\n",
    "# Creating subplots with 2 rows and 2 columns\n",
    "fig, axes = plt.subplots(nrows=2, ncols=2)\n",
    "plt.show()"
   ]
  },
  {
   "cell_type": "code",
   "execution_count": null,
   "metadata": {},
   "outputs": [],
   "source": [
    "# -Example 5-\n",
    "# Create a figure with four subplots and shared axes\n",
    "fig, axes = plt.subplots(nrows=2, \n",
    "                         ncols=2, \n",
    "                         sharex=True,\n",
    "                         sharey=True)\n",
    "\n",
    "axes[0, 0].set(title='Upper Left')\n",
    "axes[0, 1].set(title='Upper Right')\n",
    "axes[1, 0].set(title='Lower Left')\n",
    "axes[1, 1].set(title='Lower Right')\n",
    "\n",
    "plt.show()"
   ]
  },
  {
   "attachments": {},
   "cell_type": "markdown",
   "metadata": {},
   "source": [
    "### Plotting"
   ]
  },
  {
   "cell_type": "code",
   "execution_count": null,
   "metadata": {},
   "outputs": [],
   "source": [
    "# plot([x], y, [fmt], data=None, **kwargs)"
   ]
  },
  {
   "attachments": {},
   "cell_type": "markdown",
   "metadata": {},
   "source": [
    "#### Line Plot"
   ]
  },
  {
   "cell_type": "code",
   "execution_count": null,
   "metadata": {},
   "outputs": [],
   "source": [
    "# -Example 6-\n",
    "# Defining coordinates to be plotted on X and Y axes\n",
    "# respectively\n",
    "x = [1.3, 2.9, 3.1, 4.7, 5.6, 6.5, 7.4, 8.8, 9.2, 10]\n",
    "y = [95, 42, 69, 11, 49, 32, 74, 62, 25, 32]\n",
    "\n",
    "# Plot lists 'x' and 'y'\n",
    "plt.plot(x, y)\n",
    "\n",
    "# Plot axes labels and show the plot\n",
    "plt.xlabel('X-axis Label')\n",
    "plt.ylabel('Y-axis Label')\n",
    "plt.show()"
   ]
  },
  {
   "cell_type": "code",
   "execution_count": null,
   "metadata": {},
   "outputs": [],
   "source": [
    "# -Example 7-\n",
    "# Defining 'y' coordinates\n",
    "y = [95, 42, 69, 11, 49, 32, 74, 62, 25, 32]\n",
    "\n",
    "# Plot list 'y'\n",
    "plt.plot(y)\n",
    "\n",
    "# Plot axes labels and show the plot\n",
    "plt.xlabel('Index Values')\n",
    "plt.ylabel('Elements in List Y')\n",
    "plt.show()"
   ]
  },
  {
   "cell_type": "code",
   "execution_count": null,
   "metadata": {},
   "outputs": [],
   "source": [
    "# fmt = '[color][marker][line]'"
   ]
  },
  {
   "cell_type": "code",
   "execution_count": null,
   "metadata": {},
   "outputs": [],
   "source": [
    "# -Example 8-\n",
    "# Plot line with green color\n",
    "plt.plot(y, 'g')\n",
    "\n",
    "# Plot axes labels and show the plot\n",
    "plt.xlabel('Index Values')\n",
    "plt.ylabel('Elements in List Y')\n",
    "plt.show()"
   ]
  },
  {
   "cell_type": "code",
   "execution_count": null,
   "metadata": {},
   "outputs": [],
   "source": [
    "# -Example 9-\n",
    "# Plot continuous green line with circle markers\n",
    "plt.plot(y, 'go-')\n",
    "\n",
    "# Plot axes labels and show the plot\n",
    "plt.xlabel('Index Values')\n",
    "plt.ylabel('Elements in List Y')\n",
    "plt.show()"
   ]
  },
  {
   "cell_type": "code",
   "execution_count": null,
   "metadata": {},
   "outputs": [],
   "source": [
    "# -Example 10-\n",
    "# Plot continuous green line with asterisk markers\n",
    "plt.plot(y, 'g*-')\n",
    "\n",
    "# Plot axes labels and show the plot\n",
    "plt.xlabel('Index Values')\n",
    "plt.ylabel('Elements in List Y')\n",
    "plt.show()"
   ]
  },
  {
   "cell_type": "code",
   "execution_count": null,
   "metadata": {},
   "outputs": [],
   "source": [
    "# -Example 11-\n",
    "# Plot list 'y'\n",
    "plt.plot(y, 'g')\n",
    "\n",
    "# Plot red circle markers\n",
    "plt.plot(y, 'ro')\n",
    "\n",
    "# Plot axes labels and show the plot\n",
    "plt.xlabel('Index Values')\n",
    "plt.ylabel('Elements in List Y')\n",
    "plt.show()"
   ]
  },
  {
   "cell_type": "code",
   "execution_count": null,
   "metadata": {},
   "outputs": [],
   "source": [
    "# -Example 12: Technique 1-\n",
    "# Define two lists\n",
    "y = [95, 42, 69, 11, 49, 32, 74, 62, 25, 32]\n",
    "y2 = [35, 52, 96, 77, 36, 66, 50, 12, 35, 63]\n",
    "\n",
    "# Plot lists and show them\n",
    "plt.plot(y, 'go-')\n",
    "plt.plot(y2, 'b*--')\n",
    "\n",
    "# Plot axes labels and show the plot\n",
    "plt.xlabel('Index Values')\n",
    "plt.ylabel('Elements in Lists')\n",
    "plt.show()"
   ]
  },
  {
   "cell_type": "code",
   "execution_count": null,
   "metadata": {},
   "outputs": [],
   "source": [
    "# -Example 12: Technique 2-\n",
    "# Plot lists and show them\n",
    "plt.plot(y, 'go-', y2, 'b*--')\n",
    "\n",
    "# Plot axes labels and show the plot\n",
    "plt.xlabel('Index Values')\n",
    "plt.ylabel('Elements in Lists')\n",
    "plt.show()"
   ]
  },
  {
   "cell_type": "code",
   "execution_count": null,
   "metadata": {},
   "outputs": [],
   "source": [
    "# -Example 13-\n",
    "# Drawing 30 samples from a standard normal distribution\n",
    "# into an array 'arr'\n",
    "arr = np.random.normal(size=30)\n",
    "\n",
    "# Plotting 'arr' with dashed line-style and * markers\n",
    "plt.plot(arr, \n",
    "         color='teal', \n",
    "         marker='*', \n",
    "         linestyle='dashed')"
   ]
  },
  {
   "cell_type": "code",
   "execution_count": null,
   "metadata": {},
   "outputs": [],
   "source": [
    "# -Example 14-\n",
    "# Creating a two dimensional array 'arr_2d' with 40 samples\n",
    "# and shape of (20, 2)\n",
    "arr_2d = np.random.normal(size=40).reshape(20, 2)\n",
    "\n",
    "# Plotting the array\n",
    "plt.plot(arr_2d)"
   ]
  },
  {
   "cell_type": "code",
   "execution_count": null,
   "metadata": {},
   "outputs": [],
   "source": [
    "# -Example 15-\n",
    "# Creating pandas Series with 50 samples drawn from normal \n",
    "# distribution\n",
    "ts = pd.Series(np.random.normal(size=50),\n",
    "               index=pd.date_range(start='1/1/2019',\n",
    "                                   periods=50))\n",
    "\n",
    "# Plotting pandas Series\n",
    "ts.plot()"
   ]
  },
  {
   "cell_type": "code",
   "execution_count": null,
   "metadata": {},
   "outputs": [],
   "source": [
    "# -Example 16-\n",
    "# Plotting pandas Series in green color\n",
    "ts.plot(color='green')"
   ]
  },
  {
   "cell_type": "code",
   "execution_count": null,
   "metadata": {},
   "outputs": [],
   "source": [
    "# -Script to fetch AAPL data from a web resource-\n",
    "# Fetch data\n",
    "data = pd.read_csv('https://bit.ly/2WcsJE7', \n",
    "                   index_col=0,\n",
    "                   parse_dates=True)"
   ]
  },
  {
   "cell_type": "code",
   "execution_count": null,
   "metadata": {},
   "outputs": [],
   "source": [
    "# -Example 17-\n",
    "# Plot volume column\n",
    "data.Volume.iloc[:100].plot()"
   ]
  },
  {
   "cell_type": "code",
   "execution_count": null,
   "metadata": {},
   "outputs": [],
   "source": [
    "# -Example 18-\n",
    "data[['AdjOpen', 'AdjClose']][:50].plot()"
   ]
  },
  {
   "attachments": {},
   "cell_type": "markdown",
   "metadata": {},
   "source": [
    "#### Scatter Plot"
   ]
  },
  {
   "cell_type": "code",
   "execution_count": null,
   "metadata": {},
   "outputs": [],
   "source": [
    "# plt.scatter generates scatter plot of y vs x with varying marker size and/or color."
   ]
  },
  {
   "cell_type": "code",
   "execution_count": null,
   "metadata": {},
   "outputs": [],
   "source": [
    "# -Example 19-\n",
    "# Creating a dictionary with three key-value pairs\n",
    "dictionary = {'a': np.linspace(1, 100, 50),\n",
    "              'c': np.random.randint(0, 50, 50),\n",
    "              'd': np.abs(np.random.randn(50)) * 100}\n",
    "\n",
    "# Creating a new dictionary key-value pair\n",
    "dictionary['b'] = dictionary['a'] * np.random.rand(50)\n",
    "\n",
    "# Plotting a scatter plot using argument 'data'\n",
    "plt.scatter('a', 'b', \n",
    "            c='c', s='d', \n",
    "            data=dictionary)\n",
    "\n",
    "# Labeling the plot and showing it\n",
    "plt.xlabel('A Data Points')\n",
    "plt.ylabel('B Data Points')\n",
    "plt.show()"
   ]
  },
  {
   "cell_type": "code",
   "execution_count": null,
   "metadata": {},
   "outputs": [],
   "source": [
    "# -Example 20-\n",
    "# Creating a scatter plot without color and the same size\n",
    "plt.scatter(dictionary['a'], \n",
    "            dictionary['b'])\n",
    "\n",
    "# Labeling the plot and showing it\n",
    "plt.xlabel('A Data Points')\n",
    "plt.ylabel('B Data Points')\n",
    "plt.show()"
   ]
  },
  {
   "cell_type": "code",
   "execution_count": null,
   "metadata": {},
   "outputs": [],
   "source": [
    "# Data points for scatter plot\n",
    "x = [1.3, 2.9, 3.1, 4.7, 5.6, 6.5, 7.4, 8.8, 9.2, 10]\n",
    "y = [95, 42, 69, 11, 49, 32, 74, 62, 25, 32]\n",
    "\n",
    "# Arrays which defines color and size of each data point\n",
    "color = np.random.rand(10)\n",
    "size = np.random.randint(50, 100, 10)"
   ]
  },
  {
   "cell_type": "code",
   "execution_count": null,
   "metadata": {},
   "outputs": [],
   "source": [
    "# -Example 21-\n",
    "# Creating a scatter plot\n",
    "plt.scatter(x, y, c=color, s=size)\n",
    "\n",
    "# Labeling the plot and showing it\n",
    "plt.xlabel('Values from list x')\n",
    "plt.ylabel('Values from list y')\n",
    "plt.show()"
   ]
  },
  {
   "cell_type": "code",
   "execution_count": null,
   "metadata": {},
   "outputs": [],
   "source": [
    "# -Example 22-\n",
    "# Plotting a scatter plot of 'AdjOpen' and 'AdjClose' of\n",
    "# AAPL stock\n",
    "data.plot(x='AdjOpen', \n",
    "          y='AdjClose', \n",
    "          kind='scatter')\n",
    "\n",
    "plt.show()"
   ]
  },
  {
   "cell_type": "code",
   "execution_count": null,
   "metadata": {},
   "outputs": [],
   "source": [
    "# Method 1\n",
    "plt.scatter(x='AdjOpen', \n",
    "            y='AdjClose', \n",
    "            data=data)\n",
    "\n",
    "plt.show()"
   ]
  },
  {
   "cell_type": "code",
   "execution_count": null,
   "metadata": {},
   "outputs": [],
   "source": [
    "# Method 2\n",
    "plt.scatter(x=data['AdjOpen'], \n",
    "            y=data['AdjClose'])\n",
    "\n",
    "plt.show()"
   ]
  },
  {
   "attachments": {},
   "cell_type": "markdown",
   "metadata": {},
   "source": [
    "#### Histogram Plots"
   ]
  },
  {
   "cell_type": "code",
   "execution_count": null,
   "metadata": {},
   "outputs": [],
   "source": [
    "# -Example 23-\n",
    "# Data values for creating a histogram\n",
    "y = [95, 42, 69, 11, 49, 32, 74, 62, 25, 32]\n",
    "\n",
    "# Creating a histogram\n",
    "plt.hist(y)\n",
    "plt.xlabel('Bins')\n",
    "plt.ylabel('Frequency')\n",
    "plt.show()"
   ]
  },
  {
   "cell_type": "code",
   "execution_count": null,
   "metadata": {},
   "outputs": [],
   "source": [
    "# -Example 24-\n",
    "# Data values for creating a histogram\n",
    "y = [95, 42, 69, 11, 49, 32, 74, 62, 25, 32]\n",
    "\n",
    "# Creating a histogram\n",
    "plt.hist(y, bins= 20)\n",
    "plt.xlabel('Bins')\n",
    "plt.ylabel('Frequency')\n",
    "plt.show()"
   ]
  },
  {
   "cell_type": "code",
   "execution_count": null,
   "metadata": {},
   "outputs": [],
   "source": [
    "# -Example 25-\n",
    "# Creating an array\n",
    "array = np.random.normal(0, 1, 10000)\n",
    "\n",
    "# Creating a histogram\n",
    "plt.hist(array)\n",
    "plt.xlabel('Bins')\n",
    "plt.ylabel('Frequency')\n",
    "plt.show()"
   ]
  },
  {
   "cell_type": "code",
   "execution_count": null,
   "metadata": {},
   "outputs": [],
   "source": [
    "# -Example 26-\n",
    "# Creating an array\n",
    "array = np.random.normal(0, 1, 10000)\n",
    "\n",
    "# Creating a histogram and plotting it\n",
    "plt.hist(array, color='purple', histtype='step')\n",
    "plt.xlabel('Bins')\n",
    "plt.ylabel('Frequency')\n",
    "plt.show()"
   ]
  },
  {
   "cell_type": "code",
   "execution_count": null,
   "metadata": {},
   "outputs": [],
   "source": [
    "# -Example 27-\n",
    "# Creating an array\n",
    "array = np.random.normal(0, 1, 10000)\n",
    "\n",
    "# Creating a histogram and plotting it\n",
    "plt.hist(array, color='teal', orientation='horizontal')\n",
    "plt.xlabel('Frequency')\n",
    "plt.ylabel('Bins')\n",
    "plt.show()"
   ]
  },
  {
   "cell_type": "code",
   "execution_count": null,
   "metadata": {},
   "outputs": [],
   "source": [
    "# -Example 28: Technique 1-\n",
    "# Creating a histogram using a dataframe method\n",
    "data['Volume'].plot(kind='hist')\n",
    "plt.show()"
   ]
  },
  {
   "cell_type": "code",
   "execution_count": null,
   "metadata": {},
   "outputs": [],
   "source": [
    "# -Example 28: Technique 2-\n",
    "plt.hist(data['Volume'])\n",
    "plt.ylabel('Frequency')\n",
    "plt.show()"
   ]
  },
  {
   "cell_type": "code",
   "execution_count": null,
   "metadata": {},
   "outputs": [],
   "source": [
    "# -Example 29-\n",
    "# Extracting close prices from the dataframe\n",
    "close_prices = data['AdjClose']\n",
    "\n",
    "# Plotting the close prices\n",
    "plt.plot(close_prices)\n",
    "plt.show()"
   ]
  },
  {
   "cell_type": "code",
   "execution_count": null,
   "metadata": {},
   "outputs": [],
   "source": [
    "# -Example 30-\n",
    "plt.plot(close_prices)\n",
    "\n",
    "# Rotating the values along x-axis to 45 degrees\n",
    "plt.xticks(rotation=45)\n",
    "plt.show()"
   ]
  },
  {
   "cell_type": "code",
   "execution_count": null,
   "metadata": {},
   "outputs": [],
   "source": [
    "# -Example 31-\n",
    "# Creating a figure with the size 10 inches by 5 inches\n",
    "fig = plt.figure(figsize=(10, 5))\n",
    "\n",
    "plt.plot(close_prices)\n",
    "plt.show()"
   ]
  },
  {
   "cell_type": "code",
   "execution_count": null,
   "metadata": {},
   "outputs": [],
   "source": [
    "# -Example 32-\n",
    "# Creating a figure, setting its size and plotting close\n",
    "# prices on it\n",
    "fig = plt.figure(figsize=(10, 5))\n",
    "plt.plot(close_prices, color='purple')\n",
    "\n",
    "# Customizing the axes\n",
    "plt.xticks(rotation=45, color='teal', size=12)\n",
    "plt.yticks(rotation=45, color='teal', size=12)\n",
    "\n",
    "# Setting axes labels\n",
    "plt.xlabel('Dates', {'color': 'orange', 'fontsize':15})\n",
    "plt.ylabel('Prices', {'color': 'orange', 'fontsize':15})\n",
    "plt.show()"
   ]
  },
  {
   "cell_type": "code",
   "execution_count": null,
   "metadata": {},
   "outputs": [],
   "source": [
    "# -Example 33-\n",
    "# Showing legends and setting the title of plot\n",
    "plt.legend()\n",
    "plt.title('AAPL Close Prices', color='purple', size=20)"
   ]
  },
  {
   "cell_type": "code",
   "execution_count": null,
   "metadata": {},
   "outputs": [],
   "source": [
    "# -Example 34-\n",
    "# Adding the grid to the plot\n",
    "plt.grid(True)"
   ]
  },
  {
   "cell_type": "code",
   "execution_count": null,
   "metadata": {},
   "outputs": [],
   "source": [
    "# -Example 35-\n",
    "# Importing NumPy library\n",
    "import numpy as np\n",
    "\n",
    "# Calculating the mean value of close prices\n",
    "mean_price = np.mean(close_prices)\n",
    "\n",
    "# Plotting the horizontal line along with the close prices\n",
    "plt.axhline(mean_price, color='r', linestyle='dashed')"
   ]
  },
  {
   "cell_type": "code",
   "execution_count": null,
   "metadata": {},
   "outputs": [],
   "source": [
    "# -Example 36-\n",
    "# Importing DateTime from DateTime library\n",
    "from datetime import datetime\n",
    "\n",
    "# Plotting text on date 2014-1-7 and price 120\n",
    "plt.text(datetime(2014,1,7), \n",
    "         120, \n",
    "         'Mean Price',\n",
    "         size=15, \n",
    "         color='r')"
   ]
  },
  {
   "cell_type": "code",
   "execution_count": null,
   "metadata": {},
   "outputs": [],
   "source": [
    "# -Example 37-\n",
    "# Extracting volume from the dataframe 'data'\n",
    "volume = data['AdjVolume']\n",
    "\n",
    "# Creating figure with two rows and one column\n",
    "fig, (ax1, ax2) = plt.subplots(nrows=2, \n",
    "                               ncols=1,\n",
    "                               sharex=True,\n",
    "                               figsize=(10, 8))\n",
    "\n",
    "# Plotting close prices on the first sub-plot\n",
    "ax1.plot(close_prices, color='purple')\n",
    "ax1.grid(True)\n",
    "\n",
    "# Plotting trading volume on the second sub-plot\n",
    "ax2.bar(volume.index, volume)\n",
    "ax2.grid(True)\n",
    "\n",
    "# Displaying the plot\n",
    "plt.show()"
   ]
  },
  {
   "cell_type": "code",
   "execution_count": null,
   "metadata": {},
   "outputs": [],
   "source": [
    "# -Example 38-\n",
    "\n",
    "# Creating figure with multiple plots\n",
    "fig, (ax1, ax2) = plt.subplots(nrows=2, \n",
    "                               ncols=1,\n",
    "                               sharex=True,\n",
    "                               figsize=(10, 8))\n",
    "\n",
    "ax1.plot(close_prices, \n",
    "         color='purple', \n",
    "         label='Prices')\n",
    "\n",
    "ax1.grid(True)\n",
    "\n",
    "# Setting the title of a first plot\n",
    "ax1.set_title('Daily Prices')\n",
    "\n",
    "# Setting the legend for the first plot\n",
    "ax1.legend()\n",
    "\n",
    "ax2.bar(volume.index, volume, label='Volume')\n",
    "ax2.grid(True)\n",
    "\n",
    "# Setting the title of a second plot\n",
    "ax2.set_title('Volume')\n",
    "\n",
    "# Setting the legend for the second plot\n",
    "ax2.legend()\n",
    "plt.show()"
   ]
  },
  {
   "cell_type": "code",
   "execution_count": null,
   "metadata": {},
   "outputs": [],
   "source": [
    "# -Example 39-\n",
    "# Setting layout\n",
    "plt.tight_layout()\n",
    "\n",
    "# Setting label on the x-axis\n",
    "plt.xlabel('Dates')\n",
    "plt.show()"
   ]
  },
  {
   "cell_type": "code",
   "execution_count": null,
   "metadata": {},
   "outputs": [],
   "source": [
    "plt.style.use('ggplot')"
   ]
  },
  {
   "cell_type": "code",
   "execution_count": null,
   "metadata": {},
   "outputs": [],
   "source": [
    "plt.style.available"
   ]
  },
  {
   "cell_type": "code",
   "execution_count": null,
   "metadata": {},
   "outputs": [],
   "source": [
    "# -Example 40-\n",
    "plt.style.use('fivethirtyeight')\n",
    "\n",
    "fig, (ax1, ax2) = plt.subplots(nrows=2, \n",
    "                               ncols=1,\n",
    "                               sharex=True,\n",
    "                               figsize=(10, 8))\n",
    "\n",
    "ax1.plot(close_prices, \n",
    "         color='purple', \n",
    "         label='Prices')\n",
    "\n",
    "ax1.grid(True)\n",
    "ax1.set_title('Daily Prices')\n",
    "ax1.legend()\n",
    "\n",
    "ax2.bar(volume.index, \n",
    "        volume, \n",
    "        label='Volume')\n",
    "\n",
    "ax2.grid(True)\n",
    "ax2.set_title('Traded Volume')\n",
    "ax2.legend()\n",
    "\n",
    "plt.tight_layout()\n",
    "plt.xlabel('Dates')\n",
    "plt.show()"
   ]
  },
  {
   "cell_type": "code",
   "execution_count": null,
   "metadata": {},
   "outputs": [],
   "source": [
    "# save figure\n",
    "plt.savefig('data/AAPL_chart.png')"
   ]
  },
  {
   "cell_type": "code",
   "execution_count": null,
   "metadata": {},
   "outputs": [],
   "source": [
    "%reload_ext watermark\n",
    "%watermark -a \"Caique Miranda\" -gu \"caiquemiranda\" -iv"
   ]
  },
  {
   "attachments": {},
   "cell_type": "markdown",
   "metadata": {},
   "source": [
    "### End."
   ]
  }
 ],
 "metadata": {
  "kernelspec": {
   "display_name": "Python 3",
   "language": "python",
   "name": "python3"
  },
  "language_info": {
   "codemirror_mode": {
    "name": "ipython",
    "version": 3
   },
   "file_extension": ".py",
   "mimetype": "text/x-python",
   "name": "python",
   "nbconvert_exporter": "python",
   "pygments_lexer": "ipython3",
   "version": "3.10.5"
  },
  "orig_nbformat": 4,
  "vscode": {
   "interpreter": {
    "hash": "74af3d2f25f1e46ebd2903d59225d79e4675ec224d56c01fc30cd168c2010d53"
   }
  }
 },
 "nbformat": 4,
 "nbformat_minor": 2
}
