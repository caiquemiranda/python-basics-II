{
 "cells": [
  {
   "cell_type": "code",
   "execution_count": 1,
   "metadata": {},
   "outputs": [
    {
     "name": "stdout",
     "output_type": "stream",
     "text": [
      "Versão de Python Neste Jupyter Notebook: 3.10.5\n"
     ]
    }
   ],
   "source": [
    "# Versão da Linguagem Python\n",
    "\n",
    "from platform import python_version\n",
    "print('Versão de Python Neste Jupyter Notebook:', python_version())"
   ]
  },
  {
   "cell_type": "code",
   "execution_count": 2,
   "metadata": {},
   "outputs": [],
   "source": [
    "import warnings\n",
    "warnings.filterwarnings('ignore')"
   ]
  },
  {
   "attachments": {},
   "cell_type": "markdown",
   "metadata": {},
   "source": [
    "### Recapping built-in functions"
   ]
  },
  {
   "attachments": {},
   "cell_type": "markdown",
   "metadata": {},
   "source": [
    "- type(object) is used to check the data type of an object.\n",
    "-  float([value]) returns a floating point number constructed from a number or string value.\n",
    "-  int([value]) returns an integer object constructed from a float or string value, or return 0 if no arguments are given.\n",
    "-  round(number[, ndigits]) is used to round a float number up to digits specified by ndigits.\n",
    "- abs(value) returns the absolute value of a value provided as an argument.\n",
    "- format(value[, format_spec]) converts a value to a ’formatted’ representation, as controlled by format_spec.\n",
    "- str([object]) returns a string version of object. If the object is not provided, returns the empty string.\n",
    "- bool([value]) return a Boolean value, i.e. one of True or False. value is converted using the standard truth testing procedure1. If the value is false or omitted, this returns False; otherwise, it returns True.\n",
    "- dir([object]) returns the list of names in the current local scope when an argument is not provided. With an argument, it attempts to return a list of valid attributes for that object.\n",
    "- len(object) returns the length (the number of items) of an object. The argument may be a sequence (such as a string, bytes, tuple, list, or range) or a collection (such as a dictionary, set, or frozen set)."
   ]
  },
  {
   "attachments": {},
   "cell_type": "markdown",
   "metadata": {},
   "source": [
    "### User defined functions"
   ]
  },
  {
   "cell_type": "code",
   "execution_count": 3,
   "metadata": {},
   "outputs": [],
   "source": [
    "def greet():\n",
    "    \"\"\"Block of statement.\n",
    "    or Body of function.\n",
    "    \"\"\"\n",
    "    print(' Hello from inside the function!')"
   ]
  },
  {
   "cell_type": "code",
   "execution_count": 4,
   "metadata": {},
   "outputs": [
    {
     "name": "stdout",
     "output_type": "stream",
     "text": [
      " Hello from inside the function!\n"
     ]
    }
   ],
   "source": [
    "# Calling the function\n",
    "greet()"
   ]
  },
  {
   "attachments": {},
   "cell_type": "markdown",
   "metadata": {},
   "source": [
    "#### Functions with a single argument"
   ]
  },
  {
   "attachments": {},
   "cell_type": "markdown",
   "metadata": {},
   "source": [
    "- Parameters: They are specified within parentheses in the function definition separated by commas.\n",
    "- Arguments: When we call a function, values that parameters take are to be given as arguments in a comma separated format."
   ]
  },
  {
   "cell_type": "code",
   "execution_count": 5,
   "metadata": {},
   "outputs": [],
   "source": [
    "# Here 'person_name' is a parameter.\n",
    "def greet(person_name):\n",
    "    \"\"\"Prints greetings along with the value received\n",
    "    via the parameter.\"\"\"\n",
    "    print('Hello ' + person_name + '!')"
   ]
  },
  {
   "cell_type": "code",
   "execution_count": 6,
   "metadata": {},
   "outputs": [
    {
     "name": "stdout",
     "output_type": "stream",
     "text": [
      "Hello Amigo!\n"
     ]
    }
   ],
   "source": [
    "# Calling the function\n",
    "greet('Amigo')"
   ]
  },
  {
   "attachments": {},
   "cell_type": "markdown",
   "metadata": {},
   "source": [
    "#### Functions with multiple arguments and a `return` statement"
   ]
  },
  {
   "cell_type": "code",
   "execution_count": 7,
   "metadata": {},
   "outputs": [],
   "source": [
    "# Function with two parameters 'a' and 'b'\n",
    "\n",
    "def add(a, b):\n",
    "    \"\"\"Computes the addition and returns the result.\n",
    "    It does not implement the print statement.\n",
    "    \"\"\"\n",
    "    result = a + b # Computes addition\n",
    "    return result # Returns the result variable"
   ]
  },
  {
   "cell_type": "code",
   "execution_count": 8,
   "metadata": {},
   "outputs": [
    {
     "name": "stdout",
     "output_type": "stream",
     "text": [
      "The addition of 5 and 6 is 11.\n"
     ]
    }
   ],
   "source": [
    "# Calling the add function\n",
    "x = 5\n",
    "y = 6\n",
    "print(f'The addition of {x} and {y} is {add(x, y)}.')"
   ]
  },
  {
   "cell_type": "code",
   "execution_count": 9,
   "metadata": {},
   "outputs": [],
   "source": [
    "# Function definition\n",
    "\n",
    "def upper_lower(x):\n",
    "    \"\"\"\n",
    "    Returns the upper and lower version of the string.\n",
    "    The value must be a string, else it will result in\n",
    "    an error.\n",
    "    This function does not implement any error handling\n",
    "    mechanism.\n",
    "    \"\"\"\n",
    "    upper = x.upper() # Convert x to upper string\n",
    "    lower = x.lower() # Convert x to lower string\n",
    "    return upper, lower # Return both variables"
   ]
  },
  {
   "cell_type": "code",
   "execution_count": 10,
   "metadata": {},
   "outputs": [],
   "source": [
    "# Calling the function\n",
    "upper, lower = upper_lower('Python')"
   ]
  },
  {
   "cell_type": "code",
   "execution_count": 11,
   "metadata": {},
   "outputs": [
    {
     "name": "stdout",
     "output_type": "stream",
     "text": [
      "PYTHON\n"
     ]
    }
   ],
   "source": [
    "# Printing output\n",
    "print(upper)\n"
   ]
  },
  {
   "cell_type": "code",
   "execution_count": 12,
   "metadata": {},
   "outputs": [
    {
     "name": "stdout",
     "output_type": "stream",
     "text": [
      "python\n"
     ]
    }
   ],
   "source": [
    "print(lower)"
   ]
  },
  {
   "attachments": {},
   "cell_type": "markdown",
   "metadata": {},
   "source": [
    "#### Functions with default arguments"
   ]
  },
  {
   "cell_type": "code",
   "execution_count": 13,
   "metadata": {},
   "outputs": [],
   "source": [
    "def power(number, pow=2):\n",
    "    \"\"\"Returns the value of number to the power of pow.\"\"\"\n",
    "    return number**pow"
   ]
  },
  {
   "cell_type": "code",
   "execution_count": 14,
   "metadata": {},
   "outputs": [
    {
     "name": "stdout",
     "output_type": "stream",
     "text": [
      "4\n"
     ]
    }
   ],
   "source": [
    "# Calling the power function only with required argument\n",
    "print(power(2))"
   ]
  },
  {
   "cell_type": "code",
   "execution_count": 15,
   "metadata": {},
   "outputs": [
    {
     "name": "stdout",
     "output_type": "stream",
     "text": [
      "32\n"
     ]
    }
   ],
   "source": [
    "# Calling the power function with both arguments\n",
    "print(power(2, 5))"
   ]
  },
  {
   "cell_type": "code",
   "execution_count": 16,
   "metadata": {},
   "outputs": [
    {
     "ename": "SyntaxError",
     "evalue": "non-default argument follows default argument (852676834.py, line 2)",
     "output_type": "error",
     "traceback": [
      "\u001b[1;36m  Input \u001b[1;32mIn [16]\u001b[1;36m\u001b[0m\n\u001b[1;33m    def power(pow=2, number):\u001b[0m\n\u001b[1;37m                     ^\u001b[0m\n\u001b[1;31mSyntaxError\u001b[0m\u001b[1;31m:\u001b[0m non-default argument follows default argument\n"
     ]
    }
   ],
   "source": [
    "# Calling the power function that will throw an error\n",
    "def power(pow=2, number):\n",
    "    \"\"\"Returns the raised number to the power of pow.\"\"\"\n",
    "    return number**pow"
   ]
  },
  {
   "attachments": {},
   "cell_type": "markdown",
   "metadata": {},
   "source": [
    "#### Functions with variable length arguments"
   ]
  },
  {
   "cell_type": "code",
   "execution_count": 17,
   "metadata": {},
   "outputs": [],
   "source": [
    "def sum_all(*args):\n",
    "    \"\"\"Sum all values in the *args.\"\"\"\n",
    "    # Initialize result to 0\n",
    "    result = 0\n",
    "    \n",
    "    # Sum all values\n",
    "    for i in args:\n",
    "        result += i\n",
    "        \n",
    "    # Return the result\n",
    "    return result"
   ]
  },
  {
   "cell_type": "code",
   "execution_count": 18,
   "metadata": {},
   "outputs": [
    {
     "name": "stdout",
     "output_type": "stream",
     "text": [
      "15\n"
     ]
    }
   ],
   "source": [
    "# Calling the sum_all function with arbitrary number of\n",
    "# arguments.\n",
    "print(sum_all(1, 2, 3, 4, 5))"
   ]
  },
  {
   "cell_type": "code",
   "execution_count": 19,
   "metadata": {},
   "outputs": [
    {
     "name": "stdout",
     "output_type": "stream",
     "text": [
      "41\n"
     ]
    }
   ],
   "source": [
    "# Calling with different numbers of arguments.\n",
    "print(sum_all(15, 20, 6))"
   ]
  },
  {
   "cell_type": "code",
   "execution_count": 20,
   "metadata": {},
   "outputs": [],
   "source": [
    "def info(**kwargs):\n",
    "    \"\"\"Print out key-value pairs in **kwargs.\"\"\"\n",
    "\n",
    "    # Run for loop to prints dictionary items\n",
    "    for key, value in kwargs.items():\n",
    "        print(key + ': ' + value)"
   ]
  },
  {
   "cell_type": "code",
   "execution_count": 21,
   "metadata": {},
   "outputs": [
    {
     "name": "stdout",
     "output_type": "stream",
     "text": [
      "ticker: AAPL\n",
      "price: 146.83\n",
      "name: Apple Inc.\n",
      "country: US\n",
      "None\n"
     ]
    }
   ],
   "source": [
    "# Calling the function\n",
    "print(info(ticker='AAPL', price='146.83',\n",
    "name='Apple Inc.', country='US'))"
   ]
  },
  {
   "attachments": {},
   "cell_type": "markdown",
   "metadata": {},
   "source": [
    "#### DocStrings"
   ]
  },
  {
   "cell_type": "code",
   "execution_count": 22,
   "metadata": {},
   "outputs": [],
   "source": [
    "def power(x, y):\n",
    "    \"\"\"\n",
    "    Equivalent to x**y or built-in pow() with two\n",
    "    arguments.\n",
    "    x and y should be numerical values else an appropriate\n",
    "    error will be thrown for incompatible types.\n",
    "    Parameters:\n",
    "    x (int or float): Base value for the power operation.\n",
    "    y (int or float): Power to which base value should be\n",
    "    raised.\n",
    "    Returns:\n",
    "    int or float: It returns x raised to the power of y.\n",
    "    \"\"\"\n",
    "    try:\n",
    "        return x ** y\n",
    "    \n",
    "    except Exception as e:\n",
    "        print(e)"
   ]
  },
  {
   "cell_type": "code",
   "execution_count": 23,
   "metadata": {},
   "outputs": [
    {
     "name": "stdout",
     "output_type": "stream",
     "text": [
      "\n",
      "    Equivalent to x**y or built-in pow() with two\n",
      "    arguments.\n",
      "    x and y should be numerical values else an appropriate\n",
      "    error will be thrown for incompatible types.\n",
      "    Parameters:\n",
      "    x (int or float): Base value for the power operation.\n",
      "    y (int or float): Power to which base value should be\n",
      "    raised.\n",
      "    Returns:\n",
      "    int or float: It returns x raised to the power of y.\n",
      "    \n"
     ]
    }
   ],
   "source": [
    "print(power.__doc__)"
   ]
  },
  {
   "attachments": {},
   "cell_type": "markdown",
   "metadata": {},
   "source": [
    "#### Nested functions and non-local variable"
   ]
  },
  {
   "cell_type": "code",
   "execution_count": 24,
   "metadata": {},
   "outputs": [
    {
     "name": "stdout",
     "output_type": "stream",
     "text": [
      "Got printed from the outer function.\n",
      "Got printed from the nested function.\n"
     ]
    }
   ],
   "source": [
    "# Defining nested function\n",
    "def outer():\n",
    "    \"\"\"This is an enclosing function\"\"\"\n",
    "    \n",
    "    def inner():\n",
    "        \"\"\"This is a nested function\"\"\"\n",
    "        print('Got printed from the nested function.')\n",
    "    \n",
    "    print('Got printed from the outer function.')\n",
    "    inner()\n",
    "    \n",
    "# Calling the 'outer' function\n",
    "outer()"
   ]
  },
  {
   "cell_type": "code",
   "execution_count": 25,
   "metadata": {},
   "outputs": [],
   "source": [
    "def outer(n):\n",
    "    number = n\n",
    "    \n",
    "    def inner():\n",
    "        print('Number =', number)\n",
    "    \n",
    "    inner()"
   ]
  },
  {
   "cell_type": "code",
   "execution_count": 26,
   "metadata": {},
   "outputs": [
    {
     "name": "stdout",
     "output_type": "stream",
     "text": [
      "Number = 5\n"
     ]
    }
   ],
   "source": [
    "outer(5)"
   ]
  },
  {
   "cell_type": "code",
   "execution_count": 27,
   "metadata": {},
   "outputs": [],
   "source": [
    "def outer(n):\n",
    "    number = n\n",
    "    \n",
    "    def inner():\n",
    "        nonlocal number\n",
    "        number = number ** 2\n",
    "        print('Square of number =', number)\n",
    "        \n",
    "    print('Number =', number)\n",
    "    inner()\n",
    "    print('Number =', number)"
   ]
  },
  {
   "cell_type": "code",
   "execution_count": 28,
   "metadata": {},
   "outputs": [
    {
     "name": "stdout",
     "output_type": "stream",
     "text": [
      "Number = 3\n",
      "Square of number = 9\n",
      "Number = 9\n"
     ]
    }
   ],
   "source": [
    "outer(3)"
   ]
  },
  {
   "attachments": {},
   "cell_type": "markdown",
   "metadata": {},
   "source": [
    "### Variable Namespace and Scope"
   ]
  },
  {
   "attachments": {},
   "cell_type": "markdown",
   "metadata": {},
   "source": [
    "#### Names in the Python world"
   ]
  },
  {
   "cell_type": "code",
   "execution_count": 29,
   "metadata": {},
   "outputs": [],
   "source": [
    "# Creating new variable\n",
    "price = 144"
   ]
  },
  {
   "cell_type": "code",
   "execution_count": 30,
   "metadata": {},
   "outputs": [
    {
     "name": "stdout",
     "output_type": "stream",
     "text": [
      "2999066366672\n"
     ]
    }
   ],
   "source": [
    "# Case 1: Print memory id of the variable price\n",
    "print(id(price))"
   ]
  },
  {
   "cell_type": "code",
   "execution_count": 31,
   "metadata": {},
   "outputs": [
    {
     "name": "stdout",
     "output_type": "stream",
     "text": [
      "2999066366672\n"
     ]
    }
   ],
   "source": [
    "# Case 2: Print memory id of the absolute value 144\n",
    "print(id(144))"
   ]
  },
  {
   "cell_type": "code",
   "execution_count": 32,
   "metadata": {},
   "outputs": [],
   "source": [
    "# Assign price to old_price\n",
    "old_price = price"
   ]
  },
  {
   "cell_type": "code",
   "execution_count": 33,
   "metadata": {},
   "outputs": [],
   "source": [
    "# Assign new value to price\n",
    "price = price + 1"
   ]
  },
  {
   "cell_type": "code",
   "execution_count": 34,
   "metadata": {},
   "outputs": [
    {
     "name": "stdout",
     "output_type": "stream",
     "text": [
      "145\n"
     ]
    }
   ],
   "source": [
    "# Print price\n",
    "print(price)"
   ]
  },
  {
   "cell_type": "code",
   "execution_count": 35,
   "metadata": {},
   "outputs": [
    {
     "name": "stdout",
     "output_type": "stream",
     "text": [
      "Memory location of price: 2999066366704\n",
      "Memory location of 145: 2999066366704\n"
     ]
    }
   ],
   "source": [
    "# Print memory location of price and 145\n",
    "print('Memory location of price:', id(price))\n",
    "print('Memory location of 145:', id(145))"
   ]
  },
  {
   "cell_type": "code",
   "execution_count": 36,
   "metadata": {},
   "outputs": [
    {
     "name": "stdout",
     "output_type": "stream",
     "text": [
      "Memory location of old_price: 2999066366672\n",
      "Memory location of 144: 2999066366672\n"
     ]
    }
   ],
   "source": [
    "# Print memory location of old_price and 144\n",
    "print('Memory location of old_price:', id(old_price))\n",
    "print('Memory location of 144:', id(144))"
   ]
  },
  {
   "attachments": {},
   "cell_type": "markdown",
   "metadata": {},
   "source": [
    "#### Scopes"
   ]
  },
  {
   "cell_type": "code",
   "execution_count": 37,
   "metadata": {},
   "outputs": [
    {
     "name": "stdout",
     "output_type": "stream",
     "text": [
      "Within function: Number is 10\n"
     ]
    },
    {
     "ename": "NameError",
     "evalue": "name 'n' is not defined",
     "output_type": "error",
     "traceback": [
      "\u001b[1;31m---------------------------------------------------------------------------\u001b[0m",
      "\u001b[1;31mNameError\u001b[0m                                 Traceback (most recent call last)",
      "\u001b[1;32md:\\GIT-repository\\github-python-basics-II\\python-basics-II\\08-Functions-in-Python.ipynb Cell 50\u001b[0m in \u001b[0;36m<cell line: 13>\u001b[1;34m()\u001b[0m\n\u001b[0;32m     <a href='vscode-notebook-cell:/d%3A/GIT-repository/github-python-basics-II/python-basics-II/08-Functions-in-Python.ipynb#X65sZmlsZQ%3D%3D?line=9'>10</a>\u001b[0m print_number()\n\u001b[0;32m     <a href='vscode-notebook-cell:/d%3A/GIT-repository/github-python-basics-II/python-basics-II/08-Functions-in-Python.ipynb#X65sZmlsZQ%3D%3D?line=11'>12</a>\u001b[0m \u001b[39m# This statement will cause error when executed\u001b[39;00m\n\u001b[1;32m---> <a href='vscode-notebook-cell:/d%3A/GIT-repository/github-python-basics-II/python-basics-II/08-Functions-in-Python.ipynb#X65sZmlsZQ%3D%3D?line=12'>13</a>\u001b[0m \u001b[39mprint\u001b[39m(\u001b[39m'\u001b[39m\u001b[39mOutside function: Number is\u001b[39m\u001b[39m'\u001b[39m, n)\n",
      "\u001b[1;31mNameError\u001b[0m: name 'n' is not defined"
     ]
    }
   ],
   "source": [
    "# Defining a function\n",
    "\n",
    "def print_number():\n",
    "    # This is local scope\n",
    "    n = 10\n",
    "    \n",
    "    # Printing number\n",
    "    print('Within function: Number is', n)\n",
    "\n",
    "print_number()\n",
    "\n",
    "# This statement will cause error when executed\n",
    "print('Outside function: Number is', n)"
   ]
  },
  {
   "cell_type": "code",
   "execution_count": 38,
   "metadata": {},
   "outputs": [
    {
     "name": "stdout",
     "output_type": "stream",
     "text": [
      "Number is 10\n"
     ]
    }
   ],
   "source": [
    "# This is enclosing / outer function\n",
    "def outer():\n",
    "    \n",
    "    number = 10\n",
    "    # This is nested / inner function\n",
    "    \n",
    "    def inner():\n",
    "        print('Number is', number)\n",
    "\n",
    "    inner()\n",
    "\n",
    "outer()"
   ]
  },
  {
   "cell_type": "code",
   "execution_count": 39,
   "metadata": {},
   "outputs": [
    {
     "name": "stdout",
     "output_type": "stream",
     "text": [
      "First statement:  0\n",
      "Second statement: 3\n"
     ]
    }
   ],
   "source": [
    "# Global variable\n",
    "n = 3\n",
    "def relu(val):\n",
    "    # Local variable\n",
    "    n = max(0, val)\n",
    "    return n\n",
    "\n",
    "print('First statement: ', relu(-3))\n",
    "print('Second statement:', n)"
   ]
  },
  {
   "cell_type": "code",
   "execution_count": 40,
   "metadata": {},
   "outputs": [
    {
     "ename": "UnboundLocalError",
     "evalue": "local variable 'number' referenced before assignment",
     "output_type": "error",
     "traceback": [
      "\u001b[1;31m---------------------------------------------------------------------------\u001b[0m",
      "\u001b[1;31mUnboundLocalError\u001b[0m                         Traceback (most recent call last)",
      "\u001b[1;32md:\\GIT-repository\\github-python-basics-II\\python-basics-II\\08-Functions-in-Python.ipynb Cell 53\u001b[0m in \u001b[0;36m<cell line: 10>\u001b[1;34m()\u001b[0m\n\u001b[0;32m      <a href='vscode-notebook-cell:/d%3A/GIT-repository/github-python-basics-II/python-basics-II/08-Functions-in-Python.ipynb#Y130sZmlsZQ%3D%3D?line=6'>7</a>\u001b[0m     \u001b[39mprint\u001b[39m(\u001b[39m'\u001b[39m\u001b[39mWithin function: Number is\u001b[39m\u001b[39m'\u001b[39m, number)\n\u001b[0;32m      <a href='vscode-notebook-cell:/d%3A/GIT-repository/github-python-basics-II/python-basics-II/08-Functions-in-Python.ipynb#Y130sZmlsZQ%3D%3D?line=8'>9</a>\u001b[0m \u001b[39m# Calling the function\u001b[39;00m\n\u001b[1;32m---> <a href='vscode-notebook-cell:/d%3A/GIT-repository/github-python-basics-II/python-basics-II/08-Functions-in-Python.ipynb#Y130sZmlsZQ%3D%3D?line=9'>10</a>\u001b[0m update_number()\n\u001b[0;32m     <a href='vscode-notebook-cell:/d%3A/GIT-repository/github-python-basics-II/python-basics-II/08-Functions-in-Python.ipynb#Y130sZmlsZQ%3D%3D?line=11'>12</a>\u001b[0m \u001b[39mprint\u001b[39m(\u001b[39m'\u001b[39m\u001b[39mOutside function: Number is\u001b[39m\u001b[39m'\u001b[39m, number)\n",
      "\u001b[1;32md:\\GIT-repository\\github-python-basics-II\\python-basics-II\\08-Functions-in-Python.ipynb Cell 53\u001b[0m in \u001b[0;36mupdate_number\u001b[1;34m()\u001b[0m\n\u001b[0;32m      <a href='vscode-notebook-cell:/d%3A/GIT-repository/github-python-basics-II/python-basics-II/08-Functions-in-Python.ipynb#Y130sZmlsZQ%3D%3D?line=4'>5</a>\u001b[0m \u001b[39mdef\u001b[39;00m \u001b[39mupdate_number\u001b[39m():\n\u001b[1;32m----> <a href='vscode-notebook-cell:/d%3A/GIT-repository/github-python-basics-II/python-basics-II/08-Functions-in-Python.ipynb#Y130sZmlsZQ%3D%3D?line=5'>6</a>\u001b[0m     number \u001b[39m=\u001b[39m number \u001b[39m+\u001b[39m \u001b[39m2\u001b[39m\n\u001b[0;32m      <a href='vscode-notebook-cell:/d%3A/GIT-repository/github-python-basics-II/python-basics-II/08-Functions-in-Python.ipynb#Y130sZmlsZQ%3D%3D?line=6'>7</a>\u001b[0m     \u001b[39mprint\u001b[39m(\u001b[39m'\u001b[39m\u001b[39mWithin function: Number is\u001b[39m\u001b[39m'\u001b[39m, number)\n",
      "\u001b[1;31mUnboundLocalError\u001b[0m: local variable 'number' referenced before assignment"
     ]
    }
   ],
   "source": [
    "# Global variable\n",
    "number = 5\n",
    "\n",
    "# Function that updates the global variable\n",
    "def update_number():\n",
    "    number = number + 2\n",
    "    print('Within function: Number is', number)\n",
    "\n",
    "# Calling the function\n",
    "update_number()\n",
    "\n",
    "print('Outside function: Number is', number)"
   ]
  },
  {
   "cell_type": "code",
   "execution_count": 41,
   "metadata": {},
   "outputs": [
    {
     "name": "stdout",
     "output_type": "stream",
     "text": [
      "Within function: Number is 7\n",
      "Outside function: Number is 7\n"
     ]
    }
   ],
   "source": [
    "# Global variable\n",
    "number = 5\n",
    "\n",
    "# Function that updates the global variable\n",
    "def update_number():\n",
    "    global number\n",
    "    number = number + 2\n",
    "    print('Within function: Number is', number)\n",
    "\n",
    "# Calling the function\n",
    "update_number()\n",
    "\n",
    "print('Outside function: Number is', number)"
   ]
  },
  {
   "attachments": {},
   "cell_type": "markdown",
   "metadata": {},
   "source": [
    "### Lambda functions"
   ]
  },
  {
   "cell_type": "code",
   "execution_count": 42,
   "metadata": {},
   "outputs": [],
   "source": [
    "# lambda arguments: expression"
   ]
  },
  {
   "cell_type": "code",
   "execution_count": 43,
   "metadata": {},
   "outputs": [
    {
     "name": "stdout",
     "output_type": "stream",
     "text": [
      "9\n"
     ]
    }
   ],
   "source": [
    "# Function defnition\n",
    "def square(arg):\n",
    "    \"\"\"\n",
    "    Computes the square of an argument and returns the\n",
    "    result.\n",
    "    It does not implement the print statement.\"\"\"\n",
    "\n",
    "\n",
    "    result = arg * arg\n",
    "    return result\n",
    "\n",
    "# Calling the function and printing its output\n",
    "print(square(3))"
   ]
  },
  {
   "cell_type": "code",
   "execution_count": 44,
   "metadata": {},
   "outputs": [],
   "source": [
    "# Creating a lambda function and assigning it to square\n",
    "square = lambda arg: arg * arg"
   ]
  },
  {
   "cell_type": "code",
   "execution_count": 45,
   "metadata": {},
   "outputs": [
    {
     "name": "stdout",
     "output_type": "stream",
     "text": [
      "9\n"
     ]
    }
   ],
   "source": [
    "# Calling the lambda function using the name 'square'\n",
    "print(square(3))"
   ]
  },
  {
   "cell_type": "code",
   "execution_count": 46,
   "metadata": {},
   "outputs": [],
   "source": [
    "# Creating a lambda function to mimic 'raise to power'\n",
    "# operation\n",
    "power = lambda a, b: a ** b"
   ]
  },
  {
   "cell_type": "code",
   "execution_count": 47,
   "metadata": {},
   "outputs": [
    {
     "name": "stdout",
     "output_type": "stream",
     "text": [
      "8\n"
     ]
    }
   ],
   "source": [
    "# Calling the lambda function using the name 'power'\n",
    "print(power(2, 3))"
   ]
  },
  {
   "attachments": {},
   "cell_type": "markdown",
   "metadata": {},
   "source": [
    "#### `map()` Function"
   ]
  },
  {
   "cell_type": "code",
   "execution_count": 48,
   "metadata": {},
   "outputs": [],
   "source": [
    "# Creating a list of all numbers\n",
    "nums = [1, 2, 3, 4, 5]"
   ]
  },
  {
   "cell_type": "code",
   "execution_count": 49,
   "metadata": {},
   "outputs": [],
   "source": [
    "# Defining a lambda function to square each number and\n",
    "# passing it as an argument to map function\n",
    "squares = map(lambda num: num ** 2, nums)"
   ]
  },
  {
   "cell_type": "code",
   "execution_count": 50,
   "metadata": {},
   "outputs": [
    {
     "name": "stdout",
     "output_type": "stream",
     "text": [
      "<map object at 0x000002BA4C600FA0>\n"
     ]
    }
   ],
   "source": [
    "# Printing squares\n",
    "print(squares)"
   ]
  },
  {
   "cell_type": "code",
   "execution_count": 51,
   "metadata": {},
   "outputs": [
    {
     "name": "stdout",
     "output_type": "stream",
     "text": [
      "[1, 4, 9, 16, 25]\n"
     ]
    }
   ],
   "source": [
    "# Casting map object squares to a list and printing it\n",
    "print(list(squares))"
   ]
  },
  {
   "attachments": {},
   "cell_type": "markdown",
   "metadata": {},
   "source": [
    "#### `filter()` Function"
   ]
  },
  {
   "cell_type": "code",
   "execution_count": 52,
   "metadata": {},
   "outputs": [],
   "source": [
    "# Creating a list of booleans\n",
    "booleans = [False, True, True, False, True]"
   ]
  },
  {
   "cell_type": "code",
   "execution_count": 53,
   "metadata": {},
   "outputs": [
    {
     "name": "stdout",
     "output_type": "stream",
     "text": [
      "[True, True, True]\n"
     ]
    }
   ],
   "source": [
    "# Filtering 'booleans', casting it to a list, and finally\n",
    "# printing it\n",
    "print(list(filter(None, booleans)))"
   ]
  },
  {
   "cell_type": "code",
   "execution_count": 54,
   "metadata": {},
   "outputs": [],
   "source": [
    "# Creating a pool of random strings\n",
    "strings = ['one', 'two', 'three', 'four', 'five', 'six']"
   ]
  },
  {
   "cell_type": "code",
   "execution_count": 55,
   "metadata": {},
   "outputs": [],
   "source": [
    "# Filtering strings using a lambda and filter functions\n",
    "filtered_strings = filter(lambda string: len(string) > 3, strings)"
   ]
  },
  {
   "cell_type": "code",
   "execution_count": 56,
   "metadata": {},
   "outputs": [
    {
     "name": "stdout",
     "output_type": "stream",
     "text": [
      "['three', 'four', 'five']\n"
     ]
    }
   ],
   "source": [
    "# Casting 'filtered_strings' to a list and printing it\n",
    "print(list(filtered_strings))"
   ]
  },
  {
   "attachments": {},
   "cell_type": "markdown",
   "metadata": {},
   "source": [
    "#### `zip()` Function"
   ]
  },
  {
   "cell_type": "code",
   "execution_count": 57,
   "metadata": {},
   "outputs": [
    {
     "ename": "NameError",
     "evalue": "name 'iterables' is not defined",
     "output_type": "error",
     "traceback": [
      "\u001b[1;31m---------------------------------------------------------------------------\u001b[0m",
      "\u001b[1;31mNameError\u001b[0m                                 Traceback (most recent call last)",
      "\u001b[1;32md:\\GIT-repository\\github-python-basics-II\\python-basics-II\\08-Functions-in-Python.ipynb Cell 74\u001b[0m in \u001b[0;36m<cell line: 1>\u001b[1;34m()\u001b[0m\n\u001b[1;32m----> <a href='vscode-notebook-cell:/d%3A/GIT-repository/github-python-basics-II/python-basics-II/08-Functions-in-Python.ipynb#Y161sZmlsZQ%3D%3D?line=0'>1</a>\u001b[0m \u001b[39mzip\u001b[39m(\u001b[39m*\u001b[39miterables)\n",
      "\u001b[1;31mNameError\u001b[0m: name 'iterables' is not defined"
     ]
    }
   ],
   "source": [
    "zip(*iterables)"
   ]
  },
  {
   "cell_type": "code",
   "execution_count": 58,
   "metadata": {},
   "outputs": [],
   "source": [
    "# Defining iterables for the input\n",
    "tickers = ['AAPL', \n",
    "           'MSFT', \n",
    "           'GOOG']\n",
    "\n",
    "companies = ['Apple Inc', \n",
    "             'Microsoft Corporation', \n",
    "             'Alphabet Inc']"
   ]
  },
  {
   "cell_type": "code",
   "execution_count": 84,
   "metadata": {},
   "outputs": [],
   "source": [
    "# Zipping the above defined iterables using the 'zip'\n",
    "zipped = zip(tickers, companies)"
   ]
  },
  {
   "cell_type": "code",
   "execution_count": 60,
   "metadata": {},
   "outputs": [
    {
     "name": "stdout",
     "output_type": "stream",
     "text": [
      "Ticker name of AAPL is Apple Inc.\n",
      "Ticker name of MSFT is Microsoft Corporation.\n",
      "Ticker name of GOOG is Alphabet Inc.\n"
     ]
    }
   ],
   "source": [
    "# Iterating over a zipped object\n",
    "for ticker, company in zipped:\n",
    "    print('Ticker name of {} is {}.'.format(ticker, \n",
    "                                            company))"
   ]
  },
  {
   "cell_type": "code",
   "execution_count": 86,
   "metadata": {},
   "outputs": [
    {
     "name": "stdout",
     "output_type": "stream",
     "text": [
      "[]\n"
     ]
    }
   ],
   "source": [
    "# Casting the zip object to a list and printing it\n",
    "print(list(zipped))"
   ]
  },
  {
   "cell_type": "code",
   "execution_count": 85,
   "metadata": {},
   "outputs": [],
   "source": [
    "# Unzipping the zipped object\n",
    "new_tickers, new_companies = zip(*zipped)"
   ]
  },
  {
   "cell_type": "code",
   "execution_count": 87,
   "metadata": {},
   "outputs": [
    {
     "name": "stdout",
     "output_type": "stream",
     "text": [
      "('AAPL', 'MSFT', 'GOOG')\n"
     ]
    }
   ],
   "source": [
    "# Printing new unzipped sequences\n",
    "print(new_tickers)"
   ]
  },
  {
   "cell_type": "code",
   "execution_count": 88,
   "metadata": {},
   "outputs": [
    {
     "name": "stdout",
     "output_type": "stream",
     "text": [
      "('Apple Inc', 'Microsoft Corporation', 'Alphabet Inc')\n"
     ]
    }
   ],
   "source": [
    "print(new_companies)"
   ]
  },
  {
   "cell_type": "code",
   "execution_count": null,
   "metadata": {},
   "outputs": [],
   "source": [
    "%reload_ext watermark\n",
    "%watermark -a \"Caique Miranda\" -gu \"caiquemiranda\" -iv"
   ]
  },
  {
   "attachments": {},
   "cell_type": "markdown",
   "metadata": {},
   "source": [
    "### End."
   ]
  }
 ],
 "metadata": {
  "kernelspec": {
   "display_name": "Python 3",
   "language": "python",
   "name": "python3"
  },
  "language_info": {
   "codemirror_mode": {
    "name": "ipython",
    "version": 3
   },
   "file_extension": ".py",
   "mimetype": "text/x-python",
   "name": "python",
   "nbconvert_exporter": "python",
   "pygments_lexer": "ipython3",
   "version": "3.10.5"
  },
  "orig_nbformat": 4,
  "vscode": {
   "interpreter": {
    "hash": "74af3d2f25f1e46ebd2903d59225d79e4675ec224d56c01fc30cd168c2010d53"
   }
  }
 },
 "nbformat": 4,
 "nbformat_minor": 2
}
