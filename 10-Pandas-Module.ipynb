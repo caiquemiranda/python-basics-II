{
 "cells": [
  {
   "cell_type": "code",
   "execution_count": 1,
   "metadata": {},
   "outputs": [
    {
     "name": "stdout",
     "output_type": "stream",
     "text": [
      "Versão de Python Neste Jupyter Notebook: 3.10.5\n"
     ]
    }
   ],
   "source": [
    "# Versão da Linguagem Python\n",
    "\n",
    "from platform import python_version\n",
    "print('Versão de Python Neste Jupyter Notebook:', python_version())"
   ]
  },
  {
   "cell_type": "code",
   "execution_count": 2,
   "metadata": {},
   "outputs": [],
   "source": [
    "import warnings\n",
    "warnings.filterwarnings('ignore')"
   ]
  },
  {
   "attachments": {},
   "cell_type": "markdown",
   "metadata": {},
   "source": [
    "### Pandas Series"
   ]
  },
  {
   "cell_type": "code",
   "execution_count": 3,
   "metadata": {},
   "outputs": [
    {
     "name": "stdout",
     "output_type": "stream",
     "text": [
      "Series([], dtype: float64)\n"
     ]
    }
   ],
   "source": [
    "# We will start by creating an empty Pandas Series:\n",
    "import pandas as pd\n",
    "\n",
    "s = pd.Series()\n",
    "print(s)"
   ]
  },
  {
   "cell_type": "code",
   "execution_count": 4,
   "metadata": {},
   "outputs": [
    {
     "name": "stdout",
     "output_type": "stream",
     "text": [
      "0    1\n",
      "1    2\n",
      "2    3\n",
      "3    4\n",
      "4    5\n",
      "5    6\n",
      "6    7\n",
      "dtype: int64\n"
     ]
    }
   ],
   "source": [
    "# Let’s create a Pandas Series of integers and print it:\n",
    "\n",
    "s = pd.Series([1, 2, 3, 4, 5, 6, 7])\n",
    "print(s)"
   ]
  },
  {
   "cell_type": "code",
   "execution_count": null,
   "metadata": {},
   "outputs": [],
   "source": [
    "# Let’s create a Pandas Series of characters:\n",
    "import pandas as pd\n",
    "\n",
    "s = pd.Series(['a', 'b', \n",
    "               'c', 'd', \n",
    "               'e'])\n",
    "print(s)"
   ]
  },
  {
   "cell_type": "code",
   "execution_count": 5,
   "metadata": {},
   "outputs": [
    {
     "name": "stdout",
     "output_type": "stream",
     "text": [
      "0    0.940483\n",
      "1    0.294006\n",
      "2    1.486152\n",
      "3    0.471261\n",
      "4    1.374364\n",
      "dtype: float64\n"
     ]
    }
   ],
   "source": [
    "# Let’s create a random Pandas Series of float numbers:\n",
    "import numpy as np\n",
    "\n",
    "s = pd.Series(np.random.randn(5))\n",
    "print(s)"
   ]
  },
  {
   "cell_type": "code",
   "execution_count": 6,
   "metadata": {},
   "outputs": [
    {
     "data": {
      "text/plain": [
       "RangeIndex(start=0, stop=5, step=1)"
      ]
     },
     "execution_count": 6,
     "metadata": {},
     "output_type": "execute_result"
    }
   ],
   "source": [
    "s.index"
   ]
  },
  {
   "cell_type": "code",
   "execution_count": 7,
   "metadata": {},
   "outputs": [],
   "source": [
    "s = pd.Series(np.random.randn(5),\n",
    "              index=['a', 'b', \n",
    "                     'c', 'd', \n",
    "                     'e'])"
   ]
  },
  {
   "cell_type": "code",
   "execution_count": 8,
   "metadata": {},
   "outputs": [
    {
     "name": "stdout",
     "output_type": "stream",
     "text": [
      "a    1\n",
      "b    2\n",
      "c    3\n",
      "d    4\n",
      "e    5\n",
      "dtype: int64\n"
     ]
    }
   ],
   "source": [
    "# Let’s create a Pandas Series from a dictionary:\n",
    "import pandas as pd\n",
    "\n",
    "dictionary = {'a':1, 'b':2, \n",
    "              'c':3, 'd':4, \n",
    "              'e':5}\n",
    "\n",
    "s = pd.Series(dictionary)\n",
    "print(s)"
   ]
  },
  {
   "attachments": {},
   "cell_type": "markdown",
   "metadata": {},
   "source": [
    "#### Simple operations with Pandas Series"
   ]
  },
  {
   "cell_type": "code",
   "execution_count": 9,
   "metadata": {},
   "outputs": [],
   "source": [
    "dictionary = {'a' : 1, 'b' : 2, \n",
    "              'c' : 3, 'd': 4, \n",
    "              'e': 5}\n",
    "\n",
    "s1 = pd.Series(dictionary)\n",
    "\n",
    "array = [1, 2, 3, 4, 5]\n",
    "s2 = pd.Series(array)"
   ]
  },
  {
   "cell_type": "code",
   "execution_count": 10,
   "metadata": {},
   "outputs": [
    {
     "data": {
      "text/plain": [
       "1"
      ]
     },
     "execution_count": 10,
     "metadata": {},
     "output_type": "execute_result"
    }
   ],
   "source": [
    "# Selecting one item from the Pandas Series by means of its index:\n",
    "s1[0] # Select the first element"
   ]
  },
  {
   "cell_type": "code",
   "execution_count": 11,
   "metadata": {},
   "outputs": [
    {
     "data": {
      "text/plain": [
       "1"
      ]
     },
     "execution_count": 11,
     "metadata": {},
     "output_type": "execute_result"
    }
   ],
   "source": [
    "s1['a']"
   ]
  },
  {
   "cell_type": "code",
   "execution_count": 12,
   "metadata": {},
   "outputs": [
    {
     "data": {
      "text/plain": [
       "1"
      ]
     },
     "execution_count": 12,
     "metadata": {},
     "output_type": "execute_result"
    }
   ],
   "source": [
    "s2[0]"
   ]
  },
  {
   "cell_type": "code",
   "execution_count": 13,
   "metadata": {},
   "outputs": [
    {
     "data": {
      "text/plain": [
       "b    2\n",
       "e    5\n",
       "dtype: int64"
      ]
     },
     "execution_count": 13,
     "metadata": {},
     "output_type": "execute_result"
    }
   ],
   "source": [
    "# Selecting several items from the Pandas Series by means of its index:\n",
    "s1[[1, 4]]"
   ]
  },
  {
   "cell_type": "code",
   "execution_count": 14,
   "metadata": {},
   "outputs": [
    {
     "data": {
      "text/plain": [
       "b    2\n",
       "e    5\n",
       "dtype: int64"
      ]
     },
     "execution_count": 14,
     "metadata": {},
     "output_type": "execute_result"
    }
   ],
   "source": [
    "s1[['b', 'e']]"
   ]
  },
  {
   "cell_type": "code",
   "execution_count": 15,
   "metadata": {},
   "outputs": [
    {
     "data": {
      "text/plain": [
       "1    2\n",
       "4    5\n",
       "dtype: int64"
      ]
     },
     "execution_count": 15,
     "metadata": {},
     "output_type": "execute_result"
    }
   ],
   "source": [
    "s2[[1, 4]]"
   ]
  },
  {
   "cell_type": "code",
   "execution_count": 16,
   "metadata": {},
   "outputs": [
    {
     "data": {
      "text/plain": [
       "c    3\n",
       "d    4\n",
       "e    5\n",
       "dtype: int64"
      ]
     },
     "execution_count": 16,
     "metadata": {},
     "output_type": "execute_result"
    }
   ],
   "source": [
    "# Get the series starting from an element:\n",
    "s1[2:]"
   ]
  },
  {
   "cell_type": "code",
   "execution_count": 17,
   "metadata": {},
   "outputs": [
    {
     "data": {
      "text/plain": [
       "2    3\n",
       "3    4\n",
       "4    5\n",
       "dtype: int64"
      ]
     },
     "execution_count": 17,
     "metadata": {},
     "output_type": "execute_result"
    }
   ],
   "source": [
    "s2[2:]"
   ]
  },
  {
   "cell_type": "code",
   "execution_count": 18,
   "metadata": {},
   "outputs": [
    {
     "data": {
      "text/plain": [
       "a    1\n",
       "b    2\n",
       "dtype: int64"
      ]
     },
     "execution_count": 18,
     "metadata": {},
     "output_type": "execute_result"
    }
   ],
   "source": [
    "# Get the series up to one element:\n",
    "s1[:2]"
   ]
  },
  {
   "cell_type": "code",
   "execution_count": 19,
   "metadata": {},
   "outputs": [
    {
     "data": {
      "text/plain": [
       "0    1\n",
       "1    2\n",
       "dtype: int64"
      ]
     },
     "execution_count": 19,
     "metadata": {},
     "output_type": "execute_result"
    }
   ],
   "source": [
    "s2[:2]"
   ]
  },
  {
   "cell_type": "code",
   "execution_count": 20,
   "metadata": {},
   "outputs": [],
   "source": [
    "# Assign a value:\n",
    "s1[1] = 99\n",
    "s1['a'] = 99"
   ]
  },
  {
   "cell_type": "code",
   "execution_count": 21,
   "metadata": {},
   "outputs": [
    {
     "name": "stdout",
     "output_type": "stream",
     "text": [
      "0     1\n",
      "1    99\n",
      "2     3\n",
      "3     4\n",
      "4     5\n",
      "dtype: int64\n"
     ]
    }
   ],
   "source": [
    "s2[1] = 99\n",
    "print(s2)"
   ]
  },
  {
   "cell_type": "code",
   "execution_count": 22,
   "metadata": {},
   "outputs": [
    {
     "data": {
      "text/plain": [
       "2"
      ]
     },
     "execution_count": 22,
     "metadata": {},
     "output_type": "execute_result"
    }
   ],
   "source": [
    "# Get a value by index (like dictionary key):\n",
    "s.get('b')"
   ]
  },
  {
   "cell_type": "code",
   "execution_count": 23,
   "metadata": {},
   "outputs": [
    {
     "name": "stdout",
     "output_type": "stream",
     "text": [
      "a    101\n",
      "b    101\n",
      "c      5\n",
      "d      6\n",
      "e      7\n",
      "dtype: int64\n",
      "a    97\n",
      "b    97\n",
      "c     1\n",
      "d     2\n",
      "e     3\n",
      "dtype: int64\n",
      "a    198\n",
      "b    198\n",
      "c      6\n",
      "d      8\n",
      "e     10\n",
      "dtype: int64\n",
      "a    49.5\n",
      "b    49.5\n",
      "c     1.5\n",
      "d     2.0\n",
      "e     2.5\n",
      "dtype: float64\n",
      "a    9801\n",
      "b    9801\n",
      "c       9\n",
      "d      16\n",
      "e      25\n",
      "dtype: int64\n",
      "a    9.889030e+42\n",
      "b    9.889030e+42\n",
      "c    2.008554e+01\n",
      "d    5.459815e+01\n",
      "e    1.484132e+02\n",
      "dtype: float64\n"
     ]
    }
   ],
   "source": [
    "# Add, subtract, multiply, divide, power, and almost any NumPy function that accepts NumPy arrays.\n",
    "print(s1 + 2)\n",
    "print(s1 - 2)\n",
    "print(s1 * 2)\n",
    "print(s1 / 2)\n",
    "print(s1 ** 2)\n",
    "\n",
    "print(np.exp(s1))"
   ]
  },
  {
   "cell_type": "code",
   "execution_count": 24,
   "metadata": {},
   "outputs": [
    {
     "data": {
      "text/plain": [
       "a    198\n",
       "b    198\n",
       "c      6\n",
       "d      8\n",
       "e     10\n",
       "dtype: int64"
      ]
     },
     "execution_count": 24,
     "metadata": {},
     "output_type": "execute_result"
    }
   ],
   "source": [
    "# We can perform the same operations over two Pandas Series although\n",
    "# these must be aligned, that is, to have the same index, in other case,\n",
    "# perform a Union operation.\n",
    "s1 + s1 # The indices are aligned"
   ]
  },
  {
   "cell_type": "code",
   "execution_count": 25,
   "metadata": {},
   "outputs": [
    {
     "data": {
      "text/plain": [
       "a   NaN\n",
       "b   NaN\n",
       "c   NaN\n",
       "d   NaN\n",
       "e   NaN\n",
       "0   NaN\n",
       "1   NaN\n",
       "2   NaN\n",
       "3   NaN\n",
       "4   NaN\n",
       "dtype: float64"
      ]
     },
     "execution_count": 25,
     "metadata": {},
     "output_type": "execute_result"
    }
   ],
   "source": [
    "s1 + s2 # The indices are unaligned"
   ]
  },
  {
   "attachments": {},
   "cell_type": "markdown",
   "metadata": {},
   "source": [
    "### Pandas DataFrame"
   ]
  },
  {
   "cell_type": "code",
   "execution_count": 26,
   "metadata": {},
   "outputs": [
    {
     "name": "stdout",
     "output_type": "stream",
     "text": [
      "Empty DataFrame\n",
      "Columns: []\n",
      "Index: []\n"
     ]
    }
   ],
   "source": [
    "# Creating an empty DataFrame:\n",
    "s = pd.DataFrame()\n",
    "print(s)"
   ]
  },
  {
   "cell_type": "code",
   "execution_count": 27,
   "metadata": {},
   "outputs": [
    {
     "name": "stdout",
     "output_type": "stream",
     "text": [
      "Empty DataFrame\n",
      "Columns: [A, B, C, D, E]\n",
      "Index: []\n"
     ]
    }
   ],
   "source": [
    "s = pd.DataFrame(columns=['A', 'B', \n",
    "                          'C', 'D', \n",
    "                          'E'])\n",
    "print(s)"
   ]
  },
  {
   "cell_type": "code",
   "execution_count": 28,
   "metadata": {},
   "outputs": [
    {
     "name": "stdout",
     "output_type": "stream",
     "text": [
      "     A    B    C    D    E\n",
      "1  NaN  NaN  NaN  NaN  NaN\n",
      "2  NaN  NaN  NaN  NaN  NaN\n",
      "3  NaN  NaN  NaN  NaN  NaN\n",
      "4  NaN  NaN  NaN  NaN  NaN\n",
      "5  NaN  NaN  NaN  NaN  NaN\n"
     ]
    }
   ],
   "source": [
    "s = pd.DataFrame(columns=['A', 'B', \n",
    "                          'C', 'D', \n",
    "                          'E'],\n",
    "index=range(1, 6))\n",
    "print(s)"
   ]
  },
  {
   "cell_type": "code",
   "execution_count": 29,
   "metadata": {},
   "outputs": [
    {
     "data": {
      "text/html": [
       "<div>\n",
       "<style scoped>\n",
       "    .dataframe tbody tr th:only-of-type {\n",
       "        vertical-align: middle;\n",
       "    }\n",
       "\n",
       "    .dataframe tbody tr th {\n",
       "        vertical-align: top;\n",
       "    }\n",
       "\n",
       "    .dataframe thead th {\n",
       "        text-align: right;\n",
       "    }\n",
       "</style>\n",
       "<table border=\"1\" class=\"dataframe\">\n",
       "  <thead>\n",
       "    <tr style=\"text-align: right;\">\n",
       "      <th></th>\n",
       "      <th>A</th>\n",
       "      <th>B</th>\n",
       "    </tr>\n",
       "  </thead>\n",
       "  <tbody>\n",
       "    <tr>\n",
       "      <th>0</th>\n",
       "      <td>1</td>\n",
       "      <td>4</td>\n",
       "    </tr>\n",
       "    <tr>\n",
       "      <th>1</th>\n",
       "      <td>2</td>\n",
       "      <td>3</td>\n",
       "    </tr>\n",
       "    <tr>\n",
       "      <th>2</th>\n",
       "      <td>3</td>\n",
       "      <td>2</td>\n",
       "    </tr>\n",
       "    <tr>\n",
       "      <th>3</th>\n",
       "      <td>4</td>\n",
       "      <td>1</td>\n",
       "    </tr>\n",
       "  </tbody>\n",
       "</table>\n",
       "</div>"
      ],
      "text/plain": [
       "   A  B\n",
       "0  1  4\n",
       "1  2  3\n",
       "2  3  2\n",
       "3  4  1"
      ]
     },
     "execution_count": 29,
     "metadata": {},
     "output_type": "execute_result"
    }
   ],
   "source": [
    "# Creating a DataFrame passing a NumPy array:\n",
    "array = {'A' : [1, 2, 3, 4], \n",
    "         'B' : [4, 3, 2, 1]}\n",
    "\n",
    "pd.DataFrame(array)"
   ]
  },
  {
   "cell_type": "code",
   "execution_count": 30,
   "metadata": {},
   "outputs": [
    {
     "data": {
      "text/html": [
       "<div>\n",
       "<style scoped>\n",
       "    .dataframe tbody tr th:only-of-type {\n",
       "        vertical-align: middle;\n",
       "    }\n",
       "\n",
       "    .dataframe tbody tr th {\n",
       "        vertical-align: top;\n",
       "    }\n",
       "\n",
       "    .dataframe thead th {\n",
       "        text-align: right;\n",
       "    }\n",
       "</style>\n",
       "<table border=\"1\" class=\"dataframe\">\n",
       "  <thead>\n",
       "    <tr style=\"text-align: right;\">\n",
       "      <th></th>\n",
       "      <th>A</th>\n",
       "      <th>B</th>\n",
       "    </tr>\n",
       "  </thead>\n",
       "  <tbody>\n",
       "    <tr>\n",
       "      <th>2018-12-01</th>\n",
       "      <td>1</td>\n",
       "      <td>4</td>\n",
       "    </tr>\n",
       "    <tr>\n",
       "      <th>2018-12-02</th>\n",
       "      <td>2</td>\n",
       "      <td>3</td>\n",
       "    </tr>\n",
       "    <tr>\n",
       "      <th>2018-12-03</th>\n",
       "      <td>3</td>\n",
       "      <td>2</td>\n",
       "    </tr>\n",
       "    <tr>\n",
       "      <th>2018-12-04</th>\n",
       "      <td>4</td>\n",
       "      <td>1</td>\n",
       "    </tr>\n",
       "  </tbody>\n",
       "</table>\n",
       "</div>"
      ],
      "text/plain": [
       "            A  B\n",
       "2018-12-01  1  4\n",
       "2018-12-02  2  3\n",
       "2018-12-03  3  2\n",
       "2018-12-04  4  1"
      ]
     },
     "execution_count": 30,
     "metadata": {},
     "output_type": "execute_result"
    }
   ],
   "source": [
    "# Creating a DataFrame passing a NumPy array, with datetime index:\n",
    "array = {'A':[1, 2, 3, 4], 'B':[4, 3, 2, 1]}\n",
    "index = pd.DatetimeIndex(['2018-12-01',\n",
    "                          '2018-12-02',\n",
    "                          '2018-12-03',\n",
    "                          '2018-12-04'])\n",
    "\n",
    "pd.DataFrame(array, index=index)"
   ]
  },
  {
   "cell_type": "code",
   "execution_count": 31,
   "metadata": {},
   "outputs": [
    {
     "data": {
      "text/html": [
       "<div>\n",
       "<style scoped>\n",
       "    .dataframe tbody tr th:only-of-type {\n",
       "        vertical-align: middle;\n",
       "    }\n",
       "\n",
       "    .dataframe tbody tr th {\n",
       "        vertical-align: top;\n",
       "    }\n",
       "\n",
       "    .dataframe thead th {\n",
       "        text-align: right;\n",
       "    }\n",
       "</style>\n",
       "<table border=\"1\" class=\"dataframe\">\n",
       "  <thead>\n",
       "    <tr style=\"text-align: right;\">\n",
       "      <th></th>\n",
       "      <th>a</th>\n",
       "      <th>b</th>\n",
       "      <th>c</th>\n",
       "      <th>d</th>\n",
       "      <th>e</th>\n",
       "    </tr>\n",
       "  </thead>\n",
       "  <tbody>\n",
       "    <tr>\n",
       "      <th>0</th>\n",
       "      <td>1</td>\n",
       "      <td>2</td>\n",
       "      <td>3</td>\n",
       "      <td>4</td>\n",
       "      <td>5</td>\n",
       "    </tr>\n",
       "  </tbody>\n",
       "</table>\n",
       "</div>"
      ],
      "text/plain": [
       "   a  b  c  d  e\n",
       "0  1  2  3  4  5"
      ]
     },
     "execution_count": 31,
     "metadata": {},
     "output_type": "execute_result"
    }
   ],
   "source": [
    "# Creating a DataFrame passing a Dictionary:\n",
    "dictionary = {'a':1, 'b':2, 'c':3, 'd':4, 'e': 5}\n",
    "pd.DataFrame([dictionary])"
   ]
  },
  {
   "cell_type": "code",
   "execution_count": 32,
   "metadata": {},
   "outputs": [
    {
     "data": {
      "text/html": [
       "<div>\n",
       "<style scoped>\n",
       "    .dataframe tbody tr th:only-of-type {\n",
       "        vertical-align: middle;\n",
       "    }\n",
       "\n",
       "    .dataframe tbody tr th {\n",
       "        vertical-align: top;\n",
       "    }\n",
       "\n",
       "    .dataframe thead th {\n",
       "        text-align: right;\n",
       "    }\n",
       "</style>\n",
       "<table border=\"1\" class=\"dataframe\">\n",
       "  <thead>\n",
       "    <tr style=\"text-align: right;\">\n",
       "      <th></th>\n",
       "      <th>A</th>\n",
       "      <th>B</th>\n",
       "      <th>C</th>\n",
       "    </tr>\n",
       "  </thead>\n",
       "  <tbody>\n",
       "    <tr>\n",
       "      <th>0</th>\n",
       "      <td>0.002054</td>\n",
       "      <td>-0.254679</td>\n",
       "      <td>-0.757662</td>\n",
       "    </tr>\n",
       "    <tr>\n",
       "      <th>1</th>\n",
       "      <td>-0.700608</td>\n",
       "      <td>-0.325884</td>\n",
       "      <td>-0.512507</td>\n",
       "    </tr>\n",
       "    <tr>\n",
       "      <th>2</th>\n",
       "      <td>0.072353</td>\n",
       "      <td>-1.439029</td>\n",
       "      <td>0.449625</td>\n",
       "    </tr>\n",
       "    <tr>\n",
       "      <th>3</th>\n",
       "      <td>0.305115</td>\n",
       "      <td>0.341107</td>\n",
       "      <td>-2.271271</td>\n",
       "    </tr>\n",
       "    <tr>\n",
       "      <th>4</th>\n",
       "      <td>0.654014</td>\n",
       "      <td>-0.866327</td>\n",
       "      <td>-0.538438</td>\n",
       "    </tr>\n",
       "    <tr>\n",
       "      <th>5</th>\n",
       "      <td>0.126354</td>\n",
       "      <td>-1.211312</td>\n",
       "      <td>-0.508802</td>\n",
       "    </tr>\n",
       "    <tr>\n",
       "      <th>6</th>\n",
       "      <td>1.755083</td>\n",
       "      <td>-0.054438</td>\n",
       "      <td>2.291753</td>\n",
       "    </tr>\n",
       "    <tr>\n",
       "      <th>7</th>\n",
       "      <td>-1.502832</td>\n",
       "      <td>0.402771</td>\n",
       "      <td>-0.846099</td>\n",
       "    </tr>\n",
       "    <tr>\n",
       "      <th>8</th>\n",
       "      <td>-0.698518</td>\n",
       "      <td>0.722153</td>\n",
       "      <td>0.157411</td>\n",
       "    </tr>\n",
       "    <tr>\n",
       "      <th>9</th>\n",
       "      <td>0.249007</td>\n",
       "      <td>0.103209</td>\n",
       "      <td>-0.465787</td>\n",
       "    </tr>\n",
       "  </tbody>\n",
       "</table>\n",
       "</div>"
      ],
      "text/plain": [
       "          A         B         C\n",
       "0  0.002054 -0.254679 -0.757662\n",
       "1 -0.700608 -0.325884 -0.512507\n",
       "2  0.072353 -1.439029  0.449625\n",
       "3  0.305115  0.341107 -2.271271\n",
       "4  0.654014 -0.866327 -0.538438\n",
       "5  0.126354 -1.211312 -0.508802\n",
       "6  1.755083 -0.054438  2.291753\n",
       "7 -1.502832  0.402771 -0.846099\n",
       "8 -0.698518  0.722153  0.157411\n",
       "9  0.249007  0.103209 -0.465787"
      ]
     },
     "execution_count": 32,
     "metadata": {},
     "output_type": "execute_result"
    }
   ],
   "source": [
    "# Viewing a DataFrame: We can use some methods to explore the Pandas DataFrame:\n",
    "# First, we go to create a Pandas DataFrame to work with it.\n",
    "\n",
    "pd.DataFrame({'A':np.random.randn(10),\n",
    "              'B':np.random.randn(10),\n",
    "              'C':np.random.randn(10)})"
   ]
  },
  {
   "cell_type": "code",
   "execution_count": 33,
   "metadata": {},
   "outputs": [
    {
     "data": {
      "text/html": [
       "<div>\n",
       "<style scoped>\n",
       "    .dataframe tbody tr th:only-of-type {\n",
       "        vertical-align: middle;\n",
       "    }\n",
       "\n",
       "    .dataframe tbody tr th {\n",
       "        vertical-align: top;\n",
       "    }\n",
       "\n",
       "    .dataframe thead th {\n",
       "        text-align: right;\n",
       "    }\n",
       "</style>\n",
       "<table border=\"1\" class=\"dataframe\">\n",
       "  <thead>\n",
       "    <tr style=\"text-align: right;\">\n",
       "      <th></th>\n",
       "      <th>A</th>\n",
       "      <th>B</th>\n",
       "      <th>C</th>\n",
       "    </tr>\n",
       "  </thead>\n",
       "  <tbody>\n",
       "    <tr>\n",
       "      <th>0</th>\n",
       "      <td>0.204665</td>\n",
       "      <td>-0.655608</td>\n",
       "      <td>-1.224582</td>\n",
       "    </tr>\n",
       "    <tr>\n",
       "      <th>1</th>\n",
       "      <td>-0.810945</td>\n",
       "      <td>-1.161863</td>\n",
       "      <td>0.453662</td>\n",
       "    </tr>\n",
       "    <tr>\n",
       "      <th>2</th>\n",
       "      <td>1.635004</td>\n",
       "      <td>0.601725</td>\n",
       "      <td>-0.101655</td>\n",
       "    </tr>\n",
       "  </tbody>\n",
       "</table>\n",
       "</div>"
      ],
      "text/plain": [
       "          A         B         C\n",
       "0  0.204665 -0.655608 -1.224582\n",
       "1 -0.810945 -1.161863  0.453662\n",
       "2  1.635004  0.601725 -0.101655"
      ]
     },
     "execution_count": 33,
     "metadata": {},
     "output_type": "execute_result"
    }
   ],
   "source": [
    "# Get the first three rows:\n",
    "\n",
    "df=pd.DataFrame({'A':np.random.randn(10),\n",
    "                 'B':np.random.randn(10),\n",
    "                 'C':np.random.randn(10)})\n",
    "df.head(3)"
   ]
  },
  {
   "cell_type": "code",
   "execution_count": 34,
   "metadata": {},
   "outputs": [
    {
     "data": {
      "text/html": [
       "<div>\n",
       "<style scoped>\n",
       "    .dataframe tbody tr th:only-of-type {\n",
       "        vertical-align: middle;\n",
       "    }\n",
       "\n",
       "    .dataframe tbody tr th {\n",
       "        vertical-align: top;\n",
       "    }\n",
       "\n",
       "    .dataframe thead th {\n",
       "        text-align: right;\n",
       "    }\n",
       "</style>\n",
       "<table border=\"1\" class=\"dataframe\">\n",
       "  <thead>\n",
       "    <tr style=\"text-align: right;\">\n",
       "      <th></th>\n",
       "      <th>A</th>\n",
       "      <th>B</th>\n",
       "      <th>C</th>\n",
       "    </tr>\n",
       "  </thead>\n",
       "  <tbody>\n",
       "    <tr>\n",
       "      <th>7</th>\n",
       "      <td>-1.019024</td>\n",
       "      <td>-0.005709</td>\n",
       "      <td>0.419746</td>\n",
       "    </tr>\n",
       "    <tr>\n",
       "      <th>8</th>\n",
       "      <td>0.557314</td>\n",
       "      <td>0.842465</td>\n",
       "      <td>1.021277</td>\n",
       "    </tr>\n",
       "    <tr>\n",
       "      <th>9</th>\n",
       "      <td>-0.461156</td>\n",
       "      <td>0.622682</td>\n",
       "      <td>-3.323452</td>\n",
       "    </tr>\n",
       "  </tbody>\n",
       "</table>\n",
       "</div>"
      ],
      "text/plain": [
       "          A         B         C\n",
       "7 -1.019024 -0.005709  0.419746\n",
       "8  0.557314  0.842465  1.021277\n",
       "9 -0.461156  0.622682 -3.323452"
      ]
     },
     "execution_count": 34,
     "metadata": {},
     "output_type": "execute_result"
    }
   ],
   "source": [
    "# Get the last three rows:\n",
    "\n",
    "df=pd.DataFrame({'A':np.random.randn(10),\n",
    "                 'B':np.random.randn(10),\n",
    "                 'C':np.random.randn(10)})\n",
    "\n",
    "df.tail(3)"
   ]
  },
  {
   "cell_type": "code",
   "execution_count": 35,
   "metadata": {},
   "outputs": [
    {
     "data": {
      "text/plain": [
       "RangeIndex(start=0, stop=10, step=1)"
      ]
     },
     "execution_count": 35,
     "metadata": {},
     "output_type": "execute_result"
    }
   ],
   "source": [
    "# Get the DataFrame’s index:\n",
    "df=pd.DataFrame({'A':np.random.randn(10),\n",
    "                 'B':np.random.randn(10),\n",
    "                 'C':np.random.randn(10)})\n",
    "\n",
    "df.index"
   ]
  },
  {
   "cell_type": "code",
   "execution_count": 36,
   "metadata": {},
   "outputs": [
    {
     "data": {
      "text/plain": [
       "Index(['A', 'B', 'C'], dtype='object')"
      ]
     },
     "execution_count": 36,
     "metadata": {},
     "output_type": "execute_result"
    }
   ],
   "source": [
    "# Get the DataFrame’s columns:\n",
    "\n",
    "df=pd.DataFrame({'A':np.random.randn(10),\n",
    "                 'B':np.random.randn(10),\n",
    "                 'C':np.random.randn(10)})\n",
    "\n",
    "df.columns"
   ]
  },
  {
   "cell_type": "code",
   "execution_count": 37,
   "metadata": {},
   "outputs": [
    {
     "data": {
      "text/plain": [
       "array([[-2.54746315,  1.75166309, -0.81485184],\n",
       "       [-1.04734489,  1.87459596, -1.07595442],\n",
       "       [ 0.85066175,  0.19625345, -0.1015041 ],\n",
       "       [ 0.45166526, -0.22416585,  0.23836026],\n",
       "       [ 0.33703799,  0.14218774,  2.1917028 ],\n",
       "       [-1.23933002,  0.89858802, -0.98873068],\n",
       "       [ 0.52066439, -1.69386465, -0.71078183],\n",
       "       [ 1.04407077,  1.87608011, -0.20044849],\n",
       "       [ 0.5895178 ,  2.27855286, -0.008104  ],\n",
       "       [ 2.27963169,  0.81657263,  0.30488982]])"
      ]
     },
     "execution_count": 37,
     "metadata": {},
     "output_type": "execute_result"
    }
   ],
   "source": [
    "# Get the DataFrame’s values:\n",
    "\n",
    "df=pd.DataFrame({'A':np.random.randn(10),\n",
    "                 'B':np.random.randn(10),\n",
    "                 'C':np.random.randn(10)})\n",
    "\n",
    "df.values"
   ]
  },
  {
   "attachments": {},
   "cell_type": "markdown",
   "metadata": {},
   "source": [
    "### Importing data in Pandas"
   ]
  },
  {
   "attachments": {},
   "cell_type": "markdown",
   "metadata": {},
   "source": [
    "#### Importing data from CSV file"
   ]
  },
  {
   "cell_type": "code",
   "execution_count": null,
   "metadata": {},
   "outputs": [],
   "source": [
    "df=pd.read_csv('Filename.csv')\n",
    "type(df)"
   ]
  },
  {
   "attachments": {},
   "cell_type": "markdown",
   "metadata": {},
   "source": [
    "#### Customizing pandas import"
   ]
  },
  {
   "cell_type": "code",
   "execution_count": null,
   "metadata": {},
   "outputs": [],
   "source": [
    "df=pd.read_csv('Filename.csv', sep=' ')"
   ]
  },
  {
   "cell_type": "code",
   "execution_count": null,
   "metadata": {},
   "outputs": [],
   "source": [
    "df=pd.read_csv('Filename.csv', \n",
    "               usecols=[0, 1, 2, 3, 4, 5],\n",
    "               nrows=100)"
   ]
  },
  {
   "attachments": {},
   "cell_type": "markdown",
   "metadata": {},
   "source": [
    "#### Importing data from Excel files"
   ]
  },
  {
   "cell_type": "code",
   "execution_count": null,
   "metadata": {},
   "outputs": [],
   "source": [
    "df=pd.read_excel('Filename.xls', sheet_name='Sheet1')"
   ]
  },
  {
   "attachments": {},
   "cell_type": "markdown",
   "metadata": {},
   "source": [
    "### Indexing and Subsetting"
   ]
  },
  {
   "cell_type": "code",
   "execution_count": null,
   "metadata": {},
   "outputs": [],
   "source": [
    "df=pd.read_csv('MSFT.csv',\n",
    "               usecols=[0, 1, 2, 3, 4])\n",
    "df.head()\n",
    "df.shape"
   ]
  },
  {
   "attachments": {},
   "cell_type": "markdown",
   "metadata": {},
   "source": [
    "#### Selecting a single column"
   ]
  },
  {
   "cell_type": "code",
   "execution_count": null,
   "metadata": {},
   "outputs": [],
   "source": [
    "close=df['Close']\n",
    "close.head()"
   ]
  },
  {
   "attachments": {},
   "cell_type": "markdown",
   "metadata": {},
   "source": [
    "#### Selecting multiple columns"
   ]
  },
  {
   "cell_type": "code",
   "execution_count": null,
   "metadata": {},
   "outputs": [],
   "source": [
    "closevol=df[['Close', 'Volume']]\n",
    "closevol.head()"
   ]
  },
  {
   "attachments": {},
   "cell_type": "markdown",
   "metadata": {},
   "source": [
    "#### Selecting rows via []"
   ]
  },
  {
   "cell_type": "code",
   "execution_count": null,
   "metadata": {},
   "outputs": [],
   "source": [
    "df=pd.read_csv('TSLA.csv' )\n",
    "df[100:110]"
   ]
  },
  {
   "cell_type": "code",
   "execution_count": null,
   "metadata": {},
   "outputs": [],
   "source": [
    "df[100:110][['Close', 'Volume']]"
   ]
  },
  {
   "attachments": {},
   "cell_type": "markdown",
   "metadata": {},
   "source": [
    "#### Selecting via `.loc[]` (By label)"
   ]
  },
  {
   "cell_type": "code",
   "execution_count": null,
   "metadata": {},
   "outputs": [],
   "source": [
    "df.loc[100:110]"
   ]
  },
  {
   "cell_type": "code",
   "execution_count": null,
   "metadata": {},
   "outputs": [],
   "source": [
    "df.loc[100:110, ['Close', 'Volume']]"
   ]
  },
  {
   "attachments": {},
   "cell_type": "markdown",
   "metadata": {},
   "source": [
    "#### Selecting via `.iloc[]` (By position)"
   ]
  },
  {
   "cell_type": "code",
   "execution_count": null,
   "metadata": {},
   "outputs": [],
   "source": [
    "df.iloc[100:110]"
   ]
  },
  {
   "cell_type": "code",
   "execution_count": null,
   "metadata": {},
   "outputs": [],
   "source": [
    "df.iloc[100:110, [3, 4]]"
   ]
  },
  {
   "attachments": {},
   "cell_type": "markdown",
   "metadata": {},
   "source": [
    "#### Boolean indexing"
   ]
  },
  {
   "cell_type": "code",
   "execution_count": null,
   "metadata": {},
   "outputs": [],
   "source": [
    "df[df.Close > 110]"
   ]
  },
  {
   "cell_type": "code",
   "execution_count": null,
   "metadata": {},
   "outputs": [],
   "source": [
    "df[(df['Close'] > 110) | (df['Close'] < 120)]"
   ]
  },
  {
   "attachments": {},
   "cell_type": "markdown",
   "metadata": {},
   "source": [
    "### Manipulating a DataFrame"
   ]
  },
  {
   "attachments": {},
   "cell_type": "markdown",
   "metadata": {},
   "source": [
    "#### Transpose using `.T`"
   ]
  },
  {
   "cell_type": "code",
   "execution_count": null,
   "metadata": {},
   "outputs": [],
   "source": [
    "df=pd.read_csv('TSLA.csv' )\n",
    "df2=df[100:110][['Close', 'Volume']]\n",
    "df2.T"
   ]
  },
  {
   "attachments": {},
   "cell_type": "markdown",
   "metadata": {},
   "source": [
    "#### The `.sort_index()` method"
   ]
  },
  {
   "cell_type": "code",
   "execution_count": null,
   "metadata": {},
   "outputs": [],
   "source": [
    "df.sort_index()"
   ]
  },
  {
   "attachments": {},
   "cell_type": "markdown",
   "metadata": {},
   "source": [
    "#### The `.sort_values()` method"
   ]
  },
  {
   "cell_type": "code",
   "execution_count": null,
   "metadata": {},
   "outputs": [],
   "source": [
    "df.sort_values(by='Close')"
   ]
  },
  {
   "cell_type": "code",
   "execution_count": null,
   "metadata": {},
   "outputs": [],
   "source": [
    "df.sort_values(by=['Open', 'Close'])"
   ]
  },
  {
   "attachments": {},
   "cell_type": "markdown",
   "metadata": {},
   "source": [
    "#### The `.reindex()` function"
   ]
  },
  {
   "cell_type": "code",
   "execution_count": null,
   "metadata": {},
   "outputs": [],
   "source": [
    "df=pd.DataFrame(np.random.randn(5),\n",
    "                index=['a', 'b', \n",
    "                       'c', 'd', \n",
    "                       'e'])\n",
    "\n",
    "df"
   ]
  },
  {
   "cell_type": "code",
   "execution_count": null,
   "metadata": {},
   "outputs": [],
   "source": [
    "df.reindex(['b', 'a', 'd', 'c', 'e'])"
   ]
  },
  {
   "cell_type": "code",
   "execution_count": null,
   "metadata": {},
   "outputs": [],
   "source": [
    "df = pd.DataFrame(np.random.randn(5))\n",
    "df.reindex([4,3,2,1,0])"
   ]
  },
  {
   "attachments": {},
   "cell_type": "markdown",
   "metadata": {},
   "source": [
    "#### Adding a new column"
   ]
  },
  {
   "cell_type": "code",
   "execution_count": null,
   "metadata": {},
   "outputs": [],
   "source": [
    "df = pd.DataFrame(np.random.randn(5))"
   ]
  },
  {
   "cell_type": "code",
   "execution_count": null,
   "metadata": {},
   "outputs": [],
   "source": [
    "df['new']=1\n",
    "df"
   ]
  },
  {
   "attachments": {},
   "cell_type": "markdown",
   "metadata": {},
   "source": [
    "#### Delete an existing column"
   ]
  },
  {
   "cell_type": "code",
   "execution_count": null,
   "metadata": {},
   "outputs": [],
   "source": [
    "df = pd.DataFrame(np.random.randn(5, 4))\n",
    "df"
   ]
  },
  {
   "cell_type": "code",
   "execution_count": null,
   "metadata": {},
   "outputs": [],
   "source": [
    "del df[0]"
   ]
  },
  {
   "cell_type": "code",
   "execution_count": null,
   "metadata": {},
   "outputs": [],
   "source": [
    "df['new']=1\n",
    "df"
   ]
  },
  {
   "cell_type": "code",
   "execution_count": null,
   "metadata": {},
   "outputs": [],
   "source": [
    "del df['new']"
   ]
  },
  {
   "attachments": {},
   "cell_type": "markdown",
   "metadata": {},
   "source": [
    "#### The `.at[]` (By label)"
   ]
  },
  {
   "cell_type": "code",
   "execution_count": null,
   "metadata": {},
   "outputs": [],
   "source": [
    "df=pd.DataFrame(np.random.randn(5,4),\n",
    "                index=['a', 'b', \n",
    "                       'c', 'd', \n",
    "                       'e'],\n",
    "                \n",
    "                columns=['A', 'B', \n",
    "                         'C', 'D'])\n",
    "\n",
    "print(df)"
   ]
  },
  {
   "cell_type": "code",
   "execution_count": null,
   "metadata": {},
   "outputs": [],
   "source": [
    "df.at['a', 'A']"
   ]
  },
  {
   "cell_type": "code",
   "execution_count": null,
   "metadata": {},
   "outputs": [],
   "source": [
    "df.at['a', 'A'] = 0"
   ]
  },
  {
   "attachments": {},
   "cell_type": "markdown",
   "metadata": {},
   "source": [
    "#### The `.iat[]` (By position)"
   ]
  },
  {
   "cell_type": "code",
   "execution_count": null,
   "metadata": {},
   "outputs": [],
   "source": [
    "df=pd.DataFrame(np.random.randn(5, 4),\n",
    "                index=['a', 'b', \n",
    "                       'c', 'd', \n",
    "                       'e'],\n",
    "                \n",
    "                columns=['A', 'B', \n",
    "                         'C', 'D'])\n",
    "\n",
    "print(df)\n",
    "df.iat[0, 0]"
   ]
  },
  {
   "cell_type": "code",
   "execution_count": null,
   "metadata": {},
   "outputs": [],
   "source": [
    "df.iat[0, 0] = 0"
   ]
  },
  {
   "attachments": {},
   "cell_type": "markdown",
   "metadata": {},
   "source": [
    "#### Conditional updating of values"
   ]
  },
  {
   "cell_type": "code",
   "execution_count": null,
   "metadata": {},
   "outputs": [],
   "source": [
    "df=pd.DataFrame(np.random.randn(5, 4),\n",
    "                index=['a','b',\n",
    "                       'c','d',\n",
    "                       'e'],\n",
    "                \n",
    "                columns=['A', 'B', \n",
    "                         'C', 'D'])\n",
    "\n",
    "print(df)"
   ]
  },
  {
   "cell_type": "code",
   "execution_count": null,
   "metadata": {},
   "outputs": [],
   "source": [
    "df[df > 0] = 1\n",
    "df"
   ]
  },
  {
   "cell_type": "code",
   "execution_count": null,
   "metadata": {},
   "outputs": [],
   "source": [
    "df['A'][df['A'] < 0] = 1\n",
    "print(df)"
   ]
  },
  {
   "cell_type": "code",
   "execution_count": null,
   "metadata": {},
   "outputs": [],
   "source": [
    "df['A'][(df['B'] < 0 ) & (df['C'] < 0)] = 9\n",
    "print(df)"
   ]
  },
  {
   "attachments": {},
   "cell_type": "markdown",
   "metadata": {},
   "source": [
    "#### The `.dropna()` method"
   ]
  },
  {
   "cell_type": "code",
   "execution_count": null,
   "metadata": {},
   "outputs": [],
   "source": [
    "df=pd.DataFrame(np.random.randn(5, 4),\n",
    "                index=['a','b',\n",
    "                       'c','d',\n",
    "                       'e'],\n",
    "                \n",
    "                columns=['A', 'B', \n",
    "                         'C', 'D'])\n",
    "\n",
    "print(df)"
   ]
  },
  {
   "cell_type": "code",
   "execution_count": null,
   "metadata": {},
   "outputs": [],
   "source": [
    "df['A'][(df['B'] < 0 ) & (df['C'] < 0)] = np.nan\n",
    "print(df)"
   ]
  },
  {
   "cell_type": "code",
   "execution_count": null,
   "metadata": {},
   "outputs": [],
   "source": [
    "df=df.dropna()\n",
    "print(df)"
   ]
  },
  {
   "cell_type": "code",
   "execution_count": null,
   "metadata": {},
   "outputs": [],
   "source": [
    "df=df.dropna(axis=1)\n",
    "print(df)"
   ]
  },
  {
   "attachments": {},
   "cell_type": "markdown",
   "metadata": {},
   "source": [
    "#### The `.fillna()` method"
   ]
  },
  {
   "cell_type": "code",
   "execution_count": null,
   "metadata": {},
   "outputs": [],
   "source": [
    "df=pd.DataFrame(np.random.randn(5, 4),\n",
    "                index=['a','b',\n",
    "                       'c','d',\n",
    "                       'e'],\n",
    "                \n",
    "                columns=['A', 'B', \n",
    "                         'C', 'D'])\n",
    "\n",
    "print(df)"
   ]
  },
  {
   "cell_type": "code",
   "execution_count": null,
   "metadata": {},
   "outputs": [],
   "source": [
    "df['A'][(df['B'] < 0 ) & (df['C'] < 0)] = np.nan\n",
    "print(df)"
   ]
  },
  {
   "cell_type": "code",
   "execution_count": null,
   "metadata": {},
   "outputs": [],
   "source": [
    "df=df.fillna(999)\n",
    "print(df)"
   ]
  },
  {
   "attachments": {},
   "cell_type": "markdown",
   "metadata": {},
   "source": [
    "#### The `.apply()` method"
   ]
  },
  {
   "cell_type": "code",
   "execution_count": 38,
   "metadata": {},
   "outputs": [
    {
     "name": "stdout",
     "output_type": "stream",
     "text": [
      "          A         B         C         D\n",
      "a -1.884675  0.353800  1.593408 -1.913058\n",
      "b  1.066666  0.074515 -0.600665  1.402123\n",
      "c  2.495086 -1.531376  0.253160 -1.479275\n",
      "d -2.058112  1.510316 -1.103926 -0.610046\n",
      "e -0.402666 -1.500314  0.818845  1.938761\n"
     ]
    }
   ],
   "source": [
    "df=pd.DataFrame(np.random.randn(5, 4),\n",
    "                index=['a','b',\n",
    "                       'c','d',\n",
    "                       'e'],\n",
    "                \n",
    "                columns=['A', 'B', \n",
    "                         'C', 'D'])\n",
    "\n",
    "print(df)"
   ]
  },
  {
   "cell_type": "code",
   "execution_count": 39,
   "metadata": {},
   "outputs": [
    {
     "data": {
      "text/plain": [
       "4"
      ]
     },
     "execution_count": 39,
     "metadata": {},
     "output_type": "execute_result"
    }
   ],
   "source": [
    "def square_number(number):\n",
    "    return number**2\n",
    "\n",
    "# Test the function\n",
    "square_number(2)"
   ]
  },
  {
   "cell_type": "code",
   "execution_count": 40,
   "metadata": {},
   "outputs": [
    {
     "data": {
      "text/html": [
       "<div>\n",
       "<style scoped>\n",
       "    .dataframe tbody tr th:only-of-type {\n",
       "        vertical-align: middle;\n",
       "    }\n",
       "\n",
       "    .dataframe tbody tr th {\n",
       "        vertical-align: top;\n",
       "    }\n",
       "\n",
       "    .dataframe thead th {\n",
       "        text-align: right;\n",
       "    }\n",
       "</style>\n",
       "<table border=\"1\" class=\"dataframe\">\n",
       "  <thead>\n",
       "    <tr style=\"text-align: right;\">\n",
       "      <th></th>\n",
       "      <th>A</th>\n",
       "      <th>B</th>\n",
       "      <th>C</th>\n",
       "      <th>D</th>\n",
       "    </tr>\n",
       "  </thead>\n",
       "  <tbody>\n",
       "    <tr>\n",
       "      <th>a</th>\n",
       "      <td>3.551998</td>\n",
       "      <td>0.125174</td>\n",
       "      <td>2.538949</td>\n",
       "      <td>3.659790</td>\n",
       "    </tr>\n",
       "    <tr>\n",
       "      <th>b</th>\n",
       "      <td>1.137776</td>\n",
       "      <td>0.005552</td>\n",
       "      <td>0.360798</td>\n",
       "      <td>1.965950</td>\n",
       "    </tr>\n",
       "    <tr>\n",
       "      <th>c</th>\n",
       "      <td>6.225455</td>\n",
       "      <td>2.345113</td>\n",
       "      <td>0.064090</td>\n",
       "      <td>2.188255</td>\n",
       "    </tr>\n",
       "    <tr>\n",
       "      <th>d</th>\n",
       "      <td>4.235826</td>\n",
       "      <td>2.281056</td>\n",
       "      <td>1.218653</td>\n",
       "      <td>0.372157</td>\n",
       "    </tr>\n",
       "    <tr>\n",
       "      <th>e</th>\n",
       "      <td>0.162140</td>\n",
       "      <td>2.250942</td>\n",
       "      <td>0.670506</td>\n",
       "      <td>3.758796</td>\n",
       "    </tr>\n",
       "  </tbody>\n",
       "</table>\n",
       "</div>"
      ],
      "text/plain": [
       "          A         B         C         D\n",
       "a  3.551998  0.125174  2.538949  3.659790\n",
       "b  1.137776  0.005552  0.360798  1.965950\n",
       "c  6.225455  2.345113  0.064090  2.188255\n",
       "d  4.235826  2.281056  1.218653  0.372157\n",
       "e  0.162140  2.250942  0.670506  3.758796"
      ]
     },
     "execution_count": 40,
     "metadata": {},
     "output_type": "execute_result"
    }
   ],
   "source": [
    "df.apply(square_number, axis=1)"
   ]
  },
  {
   "attachments": {},
   "cell_type": "markdown",
   "metadata": {},
   "source": [
    "#### The `.shift()` function"
   ]
  },
  {
   "cell_type": "code",
   "execution_count": 41,
   "metadata": {},
   "outputs": [
    {
     "name": "stdout",
     "output_type": "stream",
     "text": [
      "          A         B         C         D\n",
      "a -0.605708 -0.812815  1.211774 -0.746435\n",
      "b  0.671458 -0.525986  0.212611 -0.361595\n",
      "c -1.106150  0.446077  0.104036 -1.963488\n",
      "d -0.204762 -0.277867  0.340787  1.205583\n",
      "e  1.218917 -0.293192 -0.744204  0.418005\n"
     ]
    }
   ],
   "source": [
    "df=pd.DataFrame(np.random.randn(5, 4),\n",
    "                index=['a','b',\n",
    "                       'c','d',\n",
    "                       'e'],\n",
    "                \n",
    "                columns=['A', 'B', \n",
    "                         'C', 'D'])\n",
    "\n",
    "print(df)"
   ]
  },
  {
   "cell_type": "code",
   "execution_count": 42,
   "metadata": {},
   "outputs": [
    {
     "data": {
      "text/plain": [
       "a         NaN\n",
       "b   -0.746435\n",
       "c   -0.361595\n",
       "d   -1.963488\n",
       "e    1.205583\n",
       "Name: D, dtype: float64"
      ]
     },
     "execution_count": 42,
     "metadata": {},
     "output_type": "execute_result"
    }
   ],
   "source": [
    "df['D'].shift(1)"
   ]
  },
  {
   "cell_type": "code",
   "execution_count": 43,
   "metadata": {},
   "outputs": [],
   "source": [
    "df['shift'] = df['D'].shift(-1)"
   ]
  },
  {
   "attachments": {},
   "cell_type": "markdown",
   "metadata": {},
   "source": [
    "### Statistical Exploratory data analysis"
   ]
  },
  {
   "attachments": {},
   "cell_type": "markdown",
   "metadata": {},
   "source": [
    "#### The `info()` function"
   ]
  },
  {
   "cell_type": "code",
   "execution_count": 44,
   "metadata": {},
   "outputs": [
    {
     "name": "stdout",
     "output_type": "stream",
     "text": [
      "          A         B         C         D\n",
      "a -0.838198  1.459958  0.346550 -1.039013\n",
      "b  0.090031 -1.241810  0.923656 -0.129919\n",
      "c -2.628749 -1.058693 -2.058679 -0.655140\n",
      "d -1.032958  2.159265  0.376074 -0.546729\n",
      "e -1.840865 -0.442724  0.661350 -0.452106\n"
     ]
    }
   ],
   "source": [
    "df=pd.DataFrame(np.random.randn(5, 4),\n",
    "                index=['a','b',\n",
    "                       'c','d',\n",
    "                       'e'],\n",
    "                \n",
    "                columns=['A', 'B', \n",
    "                         'C', 'D'])\n",
    "\n",
    "print(df)"
   ]
  },
  {
   "cell_type": "code",
   "execution_count": 45,
   "metadata": {},
   "outputs": [
    {
     "name": "stdout",
     "output_type": "stream",
     "text": [
      "<class 'pandas.core.frame.DataFrame'>\n",
      "Index: 5 entries, a to e\n",
      "Data columns (total 4 columns):\n",
      " #   Column  Non-Null Count  Dtype  \n",
      "---  ------  --------------  -----  \n",
      " 0   A       5 non-null      float64\n",
      " 1   B       5 non-null      float64\n",
      " 2   C       5 non-null      float64\n",
      " 3   D       5 non-null      float64\n",
      "dtypes: float64(4)\n",
      "memory usage: 200.0+ bytes\n"
     ]
    }
   ],
   "source": [
    "df.info()"
   ]
  },
  {
   "attachments": {},
   "cell_type": "markdown",
   "metadata": {},
   "source": [
    "#### The `describe()` function"
   ]
  },
  {
   "cell_type": "code",
   "execution_count": 46,
   "metadata": {},
   "outputs": [
    {
     "name": "stdout",
     "output_type": "stream",
     "text": [
      "          A         B         C         D\n",
      "a  1.078450 -0.433161  1.348125 -0.508667\n",
      "b -0.100164  1.117361  0.047917 -0.448532\n",
      "c -0.867536 -1.111496  0.732259 -0.278198\n",
      "d -1.077542  0.854424  0.369244 -0.898241\n",
      "e  2.235978  0.449882  1.071601 -1.747421\n"
     ]
    }
   ],
   "source": [
    "df=pd.DataFrame(np.random.randn(5, 4),\n",
    "                index=['a','b',\n",
    "                       'c','d',\n",
    "                       'e'],\n",
    "                \n",
    "                columns=['A', 'B', \n",
    "                         'C', 'D'])\n",
    "\n",
    "print(df)"
   ]
  },
  {
   "cell_type": "code",
   "execution_count": 47,
   "metadata": {},
   "outputs": [
    {
     "data": {
      "text/html": [
       "<div>\n",
       "<style scoped>\n",
       "    .dataframe tbody tr th:only-of-type {\n",
       "        vertical-align: middle;\n",
       "    }\n",
       "\n",
       "    .dataframe tbody tr th {\n",
       "        vertical-align: top;\n",
       "    }\n",
       "\n",
       "    .dataframe thead th {\n",
       "        text-align: right;\n",
       "    }\n",
       "</style>\n",
       "<table border=\"1\" class=\"dataframe\">\n",
       "  <thead>\n",
       "    <tr style=\"text-align: right;\">\n",
       "      <th></th>\n",
       "      <th>A</th>\n",
       "      <th>B</th>\n",
       "      <th>C</th>\n",
       "      <th>D</th>\n",
       "    </tr>\n",
       "  </thead>\n",
       "  <tbody>\n",
       "    <tr>\n",
       "      <th>count</th>\n",
       "      <td>5.000000</td>\n",
       "      <td>5.000000</td>\n",
       "      <td>5.000000</td>\n",
       "      <td>5.000000</td>\n",
       "    </tr>\n",
       "    <tr>\n",
       "      <th>mean</th>\n",
       "      <td>0.253837</td>\n",
       "      <td>0.175402</td>\n",
       "      <td>0.713829</td>\n",
       "      <td>-0.776212</td>\n",
       "    </tr>\n",
       "    <tr>\n",
       "      <th>std</th>\n",
       "      <td>1.393219</td>\n",
       "      <td>0.928729</td>\n",
       "      <td>0.522697</td>\n",
       "      <td>0.588454</td>\n",
       "    </tr>\n",
       "    <tr>\n",
       "      <th>min</th>\n",
       "      <td>-1.077542</td>\n",
       "      <td>-1.111496</td>\n",
       "      <td>0.047917</td>\n",
       "      <td>-1.747421</td>\n",
       "    </tr>\n",
       "    <tr>\n",
       "      <th>25%</th>\n",
       "      <td>-0.867536</td>\n",
       "      <td>-0.433161</td>\n",
       "      <td>0.369244</td>\n",
       "      <td>-0.898241</td>\n",
       "    </tr>\n",
       "    <tr>\n",
       "      <th>50%</th>\n",
       "      <td>-0.100164</td>\n",
       "      <td>0.449882</td>\n",
       "      <td>0.732259</td>\n",
       "      <td>-0.508667</td>\n",
       "    </tr>\n",
       "    <tr>\n",
       "      <th>75%</th>\n",
       "      <td>1.078450</td>\n",
       "      <td>0.854424</td>\n",
       "      <td>1.071601</td>\n",
       "      <td>-0.448532</td>\n",
       "    </tr>\n",
       "    <tr>\n",
       "      <th>max</th>\n",
       "      <td>2.235978</td>\n",
       "      <td>1.117361</td>\n",
       "      <td>1.348125</td>\n",
       "      <td>-0.278198</td>\n",
       "    </tr>\n",
       "  </tbody>\n",
       "</table>\n",
       "</div>"
      ],
      "text/plain": [
       "              A         B         C         D\n",
       "count  5.000000  5.000000  5.000000  5.000000\n",
       "mean   0.253837  0.175402  0.713829 -0.776212\n",
       "std    1.393219  0.928729  0.522697  0.588454\n",
       "min   -1.077542 -1.111496  0.047917 -1.747421\n",
       "25%   -0.867536 -0.433161  0.369244 -0.898241\n",
       "50%   -0.100164  0.449882  0.732259 -0.508667\n",
       "75%    1.078450  0.854424  1.071601 -0.448532\n",
       "max    2.235978  1.117361  1.348125 -0.278198"
      ]
     },
     "execution_count": 47,
     "metadata": {},
     "output_type": "execute_result"
    }
   ],
   "source": [
    "df.describe()"
   ]
  },
  {
   "attachments": {},
   "cell_type": "markdown",
   "metadata": {},
   "source": [
    "#### The `value_counts()` function"
   ]
  },
  {
   "cell_type": "code",
   "execution_count": 48,
   "metadata": {},
   "outputs": [
    {
     "data": {
      "text/plain": [
       " 1.078450    1\n",
       "-0.100164    1\n",
       "-0.867536    1\n",
       "-1.077542    1\n",
       " 2.235978    1\n",
       "Name: A, dtype: int64"
      ]
     },
     "execution_count": 48,
     "metadata": {},
     "output_type": "execute_result"
    }
   ],
   "source": [
    "df['A'].value_counts()"
   ]
  },
  {
   "attachments": {},
   "cell_type": "markdown",
   "metadata": {},
   "source": [
    "#### The `mean()` function"
   ]
  },
  {
   "cell_type": "code",
   "execution_count": 49,
   "metadata": {},
   "outputs": [
    {
     "data": {
      "text/plain": [
       "0.25383732121475705"
      ]
     },
     "execution_count": 49,
     "metadata": {},
     "output_type": "execute_result"
    }
   ],
   "source": [
    "df['A'].mean() # Specifying a column"
   ]
  },
  {
   "cell_type": "code",
   "execution_count": 50,
   "metadata": {},
   "outputs": [
    {
     "data": {
      "text/plain": [
       "A    0.253837\n",
       "B    0.175402\n",
       "C    0.713829\n",
       "D   -0.776212\n",
       "dtype: float64"
      ]
     },
     "execution_count": 50,
     "metadata": {},
     "output_type": "execute_result"
    }
   ],
   "source": [
    "df.mean() # By column\n",
    "df.mean(axis=0) # By column"
   ]
  },
  {
   "cell_type": "code",
   "execution_count": 51,
   "metadata": {},
   "outputs": [
    {
     "data": {
      "text/plain": [
       "a    0.371187\n",
       "b    0.154146\n",
       "c   -0.381243\n",
       "d   -0.188029\n",
       "e    0.502510\n",
       "dtype: float64"
      ]
     },
     "execution_count": 51,
     "metadata": {},
     "output_type": "execute_result"
    }
   ],
   "source": [
    "df.mean(axis=1) # By row"
   ]
  },
  {
   "attachments": {},
   "cell_type": "markdown",
   "metadata": {},
   "source": [
    "#### The `std()` function"
   ]
  },
  {
   "cell_type": "code",
   "execution_count": 52,
   "metadata": {},
   "outputs": [
    {
     "data": {
      "text/plain": [
       "1.393218658672347"
      ]
     },
     "execution_count": 52,
     "metadata": {},
     "output_type": "execute_result"
    }
   ],
   "source": [
    "df['A'].std() # Specifying a column"
   ]
  },
  {
   "cell_type": "code",
   "execution_count": 53,
   "metadata": {},
   "outputs": [
    {
     "data": {
      "text/plain": [
       "A    1.393219\n",
       "B    0.928729\n",
       "C    0.522697\n",
       "D    0.588454\n",
       "dtype: float64"
      ]
     },
     "execution_count": 53,
     "metadata": {},
     "output_type": "execute_result"
    }
   ],
   "source": [
    "df.std() # By column\n",
    "df.std(axis=0) # By column"
   ]
  },
  {
   "cell_type": "code",
   "execution_count": 54,
   "metadata": {},
   "outputs": [
    {
     "data": {
      "text/plain": [
       "a    0.979072\n",
       "b    0.675022\n",
       "c    0.820621\n",
       "d    0.947434\n",
       "e    1.672696\n",
       "dtype: float64"
      ]
     },
     "execution_count": 54,
     "metadata": {},
     "output_type": "execute_result"
    }
   ],
   "source": [
    "df.std(axis=1) # By row"
   ]
  },
  {
   "attachments": {},
   "cell_type": "markdown",
   "metadata": {},
   "source": [
    "### Filtering Pandas DataFrame"
   ]
  },
  {
   "cell_type": "code",
   "execution_count": 55,
   "metadata": {},
   "outputs": [
    {
     "name": "stdout",
     "output_type": "stream",
     "text": [
      "          A         B         C         D\n",
      "a  0.447562  0.478645 -1.475394  2.758552\n",
      "b -0.723083  1.840985 -0.461110  0.701272\n",
      "c -1.281894  0.711404 -1.826642  0.336229\n",
      "d  0.643546  0.690277  0.470318  1.420400\n",
      "e  0.483270  0.582635 -0.189454 -0.440360\n"
     ]
    }
   ],
   "source": [
    "df=pd.DataFrame(np.random.randn(5, 4),\n",
    "                index=['a','b',\n",
    "                       'c','d',\n",
    "                       'e'],\n",
    "                \n",
    "                columns=['A', 'B', \n",
    "                         'C', 'D'])\n",
    "\n",
    "print(df)"
   ]
  },
  {
   "cell_type": "code",
   "execution_count": 56,
   "metadata": {},
   "outputs": [
    {
     "name": "stdout",
     "output_type": "stream",
     "text": [
      "          A         B         C         D\n",
      "a  0.447562  0.478645 -1.475394  2.758552\n",
      "d  0.643546  0.690277  0.470318  1.420400\n",
      "e  0.483270  0.582635 -0.189454 -0.440360\n"
     ]
    }
   ],
   "source": [
    "df_filtered = df[df['A'] > 0]\n",
    "print(df_filtered)"
   ]
  },
  {
   "cell_type": "code",
   "execution_count": 57,
   "metadata": {},
   "outputs": [
    {
     "name": "stdout",
     "output_type": "stream",
     "text": [
      "          A         B         C         D\n",
      "a  0.447562  0.478645 -1.475394  2.758552\n",
      "d  0.643546  0.690277  0.470318  1.420400\n",
      "e  0.483270  0.582635 -0.189454 -0.440360\n"
     ]
    }
   ],
   "source": [
    "df_filtered = df[(df['A'] > 0) & (df['B'] > 0)]\n",
    "print(df_filtered)"
   ]
  },
  {
   "attachments": {},
   "cell_type": "markdown",
   "metadata": {},
   "source": [
    "### Iterating Pandas DataFrame"
   ]
  },
  {
   "cell_type": "code",
   "execution_count": 58,
   "metadata": {},
   "outputs": [
    {
     "name": "stdout",
     "output_type": "stream",
     "text": [
      "('a', A    0.447562\n",
      "B    0.478645\n",
      "C   -1.475394\n",
      "D    2.758552\n",
      "Name: a, dtype: float64)\n",
      "('b', A   -0.723083\n",
      "B    1.840985\n",
      "C   -0.461110\n",
      "D    0.701272\n",
      "Name: b, dtype: float64)\n",
      "('c', A   -1.281894\n",
      "B    0.711404\n",
      "C   -1.826642\n",
      "D    0.336229\n",
      "Name: c, dtype: float64)\n",
      "('d', A    0.643546\n",
      "B    0.690277\n",
      "C    0.470318\n",
      "D    1.420400\n",
      "Name: d, dtype: float64)\n",
      "('e', A    0.483270\n",
      "B    0.582635\n",
      "C   -0.189454\n",
      "D   -0.440360\n",
      "Name: e, dtype: float64)\n"
     ]
    }
   ],
   "source": [
    "for item in df.iterrows():\n",
    "    print(item)"
   ]
  },
  {
   "attachments": {},
   "cell_type": "markdown",
   "metadata": {},
   "source": [
    "### Merge, Append and Concat Pandas DataFrame"
   ]
  },
  {
   "cell_type": "code",
   "execution_count": 59,
   "metadata": {},
   "outputs": [
    {
     "name": "stdout",
     "output_type": "stream",
     "text": [
      "          A         B         C         D\n",
      "a  0.137969  0.651765  0.685665  0.264536\n",
      "b -0.915699  0.377587  1.937440 -0.743264\n",
      "c  0.592601  0.482650  0.842395  0.344094\n",
      "d -0.523573  0.939528  2.786991  0.726991\n",
      "e  1.250112 -1.928294  0.548047  0.343058\n"
     ]
    }
   ],
   "source": [
    "# merge function allows us to merge two DataFrame by rows:\n",
    "\n",
    "df=pd.DataFrame(np.random.randn(5, 4),\n",
    "                index=['a','b',\n",
    "                       'c','d',\n",
    "                       'e'],\n",
    "                \n",
    "                columns=['A', 'B', \n",
    "                         'C', 'D'])\n",
    "\n",
    "print(df)"
   ]
  },
  {
   "cell_type": "code",
   "execution_count": 60,
   "metadata": {},
   "outputs": [
    {
     "name": "stdout",
     "output_type": "stream",
     "text": [
      "          A         B         C         D\n",
      "a  0.108331 -0.769100  2.122379  0.639116\n",
      "b  0.855281 -0.676938  0.142872 -0.279182\n",
      "c  0.174174 -1.401819 -0.548616 -0.354862\n",
      "d -0.303070  2.008958 -0.568588 -0.040662\n",
      "e -2.599993  0.684187 -1.285895 -0.775482\n"
     ]
    }
   ],
   "source": [
    "df=pd.DataFrame(np.random.randn(5, 4),\n",
    "                index=['a','b',\n",
    "                       'c','d',\n",
    "                       'e'],\n",
    "                \n",
    "                columns=['A', 'B', \n",
    "                         'C', 'D'])\n",
    "\n",
    "print(df)"
   ]
  },
  {
   "cell_type": "code",
   "execution_count": 61,
   "metadata": {},
   "outputs": [
    {
     "ename": "NameError",
     "evalue": "name 'df1' is not defined",
     "output_type": "error",
     "traceback": [
      "\u001b[1;31m---------------------------------------------------------------------------\u001b[0m",
      "\u001b[1;31mNameError\u001b[0m                                 Traceback (most recent call last)",
      "\u001b[1;32md:\\GIT-repository\\github-python-basics-II\\python-basics-II\\10-Pandas-Module.ipynb Célula 143\u001b[0m in \u001b[0;36m<cell line: 1>\u001b[1;34m()\u001b[0m\n\u001b[1;32m----> <a href='vscode-notebook-cell:/d%3A/GIT-repository/github-python-basics-II/python-basics-II/10-Pandas-Module.ipynb#Y325sZmlsZQ%3D%3D?line=0'>1</a>\u001b[0m df3 \u001b[39m=\u001b[39m pd\u001b[39m.\u001b[39mmerge(df1, df2)\n\u001b[0;32m      <a href='vscode-notebook-cell:/d%3A/GIT-repository/github-python-basics-II/python-basics-II/10-Pandas-Module.ipynb#Y325sZmlsZQ%3D%3D?line=1'>2</a>\u001b[0m \u001b[39mprint\u001b[39m(df3)\n",
      "\u001b[1;31mNameError\u001b[0m: name 'df1' is not defined"
     ]
    }
   ],
   "source": [
    "df3 = pd.merge(df1, df2)\n",
    "print(df3)"
   ]
  },
  {
   "cell_type": "code",
   "execution_count": 63,
   "metadata": {},
   "outputs": [],
   "source": [
    "# append function allows us to append rows from one DataFrame to another DataFrame by rows:\n",
    "\n",
    "df1=pd.DataFrame(np.random.randn(5, 4),\n",
    "                 index=['a','b',\n",
    "                        'c','d',\n",
    "                        'e'],\n",
    "                 \n",
    "                 columns=['A', 'B', \n",
    "                          'C', 'D'])"
   ]
  },
  {
   "cell_type": "code",
   "execution_count": 64,
   "metadata": {},
   "outputs": [],
   "source": [
    "df2=pd.DataFrame(np.random.randn(5, 4),\n",
    "                 index=['a','b',\n",
    "                        'c','d',\n",
    "                        'e'],\n",
    "                 \n",
    "                 columns=['A', 'B', \n",
    "                          'C', 'D'])"
   ]
  },
  {
   "cell_type": "code",
   "execution_count": 65,
   "metadata": {},
   "outputs": [
    {
     "name": "stdout",
     "output_type": "stream",
     "text": [
      "          A         B         C         D\n",
      "a -0.862360  0.228184 -1.171874 -0.060418\n",
      "b -1.304653 -0.325308 -1.242309 -0.359591\n",
      "c -0.119642  1.498019  0.767861  0.433473\n",
      "d -0.347885 -0.533698  0.183767 -0.248562\n",
      "e  0.031573  0.168213  1.378398 -0.099482\n",
      "a  1.193269  1.263233 -1.493122 -0.565172\n",
      "b -1.234440  0.504393 -0.867899  0.419651\n",
      "c  0.569653 -0.160118 -0.357771  0.690350\n",
      "d  2.081159 -1.070583  0.405211 -1.507889\n",
      "e  0.156255 -0.097638 -0.435444  0.008405\n"
     ]
    }
   ],
   "source": [
    "df3 = df1.append(df2)\n",
    "print(df3)"
   ]
  },
  {
   "cell_type": "code",
   "execution_count": 66,
   "metadata": {},
   "outputs": [],
   "source": [
    "# concat function allows us to merge two DataFrame by rows or\n",
    "# Merge, Append and Concat Pandas DataFrame \n",
    "# columns:\n",
    "df1=pd.DataFrame(np.random.randn(5, 4),\n",
    "                 index=['a','b',\n",
    "                        'c','d',\n",
    "                        'e'],\n",
    "                 \n",
    "                 columns=['A', 'B', \n",
    "                          'C', 'D'])"
   ]
  },
  {
   "cell_type": "code",
   "execution_count": 67,
   "metadata": {},
   "outputs": [],
   "source": [
    "df2=pd.DataFrame(np.random.randn(5, 4),\n",
    "                 index=['a','b',\n",
    "                        'c','d',\n",
    "                        'e'],\n",
    "                 \n",
    "                 columns=['A', 'B', \n",
    "                          'C', 'D'])"
   ]
  },
  {
   "cell_type": "code",
   "execution_count": 68,
   "metadata": {},
   "outputs": [
    {
     "name": "stdout",
     "output_type": "stream",
     "text": [
      "          A         B         C         D\n",
      "a -1.095002 -1.285036  0.865067 -1.282341\n",
      "b -0.053873  0.790710 -2.300837  0.113218\n",
      "c  0.958043 -1.249775  0.737968 -0.381875\n",
      "d -0.528264  1.342630 -0.397967  0.523161\n",
      "e -0.153421 -0.383485 -0.450719  1.353938\n",
      "a -0.447698 -0.978017  2.494840  0.816261\n",
      "b  1.318323 -0.776176 -0.509879 -0.075572\n",
      "c -0.733236 -1.117210  1.688941  0.676138\n",
      "d -0.177001 -0.976813 -0.072677 -0.261476\n",
      "e  0.609452  0.947908 -0.782458 -0.052650\n"
     ]
    }
   ],
   "source": [
    "df3 = pd.concat([df1, df2]) # Concat by row\n",
    "print(df3)"
   ]
  },
  {
   "cell_type": "code",
   "execution_count": 69,
   "metadata": {},
   "outputs": [
    {
     "name": "stdout",
     "output_type": "stream",
     "text": [
      "          A         B         C         D\n",
      "a -1.095002 -1.285036  0.865067 -1.282341\n",
      "b -0.053873  0.790710 -2.300837  0.113218\n",
      "c  0.958043 -1.249775  0.737968 -0.381875\n",
      "d -0.528264  1.342630 -0.397967  0.523161\n",
      "e -0.153421 -0.383485 -0.450719  1.353938\n",
      "a -0.447698 -0.978017  2.494840  0.816261\n",
      "b  1.318323 -0.776176 -0.509879 -0.075572\n",
      "c -0.733236 -1.117210  1.688941  0.676138\n",
      "d -0.177001 -0.976813 -0.072677 -0.261476\n",
      "e  0.609452  0.947908 -0.782458 -0.052650\n"
     ]
    }
   ],
   "source": [
    "df3 = pd.concat([df1, df2], axis=0) # Concat by row\n",
    "print(df3)"
   ]
  },
  {
   "cell_type": "code",
   "execution_count": 70,
   "metadata": {},
   "outputs": [
    {
     "name": "stdout",
     "output_type": "stream",
     "text": [
      "          A         B         C         D         A         B         C  \\\n",
      "a -1.095002 -1.285036  0.865067 -1.282341 -0.447698 -0.978017  2.494840   \n",
      "b -0.053873  0.790710 -2.300837  0.113218  1.318323 -0.776176 -0.509879   \n",
      "c  0.958043 -1.249775  0.737968 -0.381875 -0.733236 -1.117210  1.688941   \n",
      "d -0.528264  1.342630 -0.397967  0.523161 -0.177001 -0.976813 -0.072677   \n",
      "e -0.153421 -0.383485 -0.450719  1.353938  0.609452  0.947908 -0.782458   \n",
      "\n",
      "          D  \n",
      "a  0.816261  \n",
      "b -0.075572  \n",
      "c  0.676138  \n",
      "d -0.261476  \n",
      "e -0.052650  \n"
     ]
    }
   ],
   "source": [
    "# Concat by column\n",
    "df3 = pd.concat([df1, df2], axis=1)\n",
    "print(df3)"
   ]
  },
  {
   "attachments": {},
   "cell_type": "markdown",
   "metadata": {},
   "source": [
    "### TimeSeries in Pandas"
   ]
  },
  {
   "attachments": {},
   "cell_type": "markdown",
   "metadata": {},
   "source": [
    "#### Indexing Pandas TimeSeries"
   ]
  },
  {
   "cell_type": "code",
   "execution_count": 71,
   "metadata": {},
   "outputs": [
    {
     "name": "stdout",
     "output_type": "stream",
     "text": [
      "DatetimeIndex(['2018-12-01 00:00:00', '2018-12-01 01:00:00',\n",
      "               '2018-12-01 02:00:00', '2018-12-01 03:00:00',\n",
      "               '2018-12-01 04:00:00', '2018-12-01 05:00:00',\n",
      "               '2018-12-01 06:00:00', '2018-12-01 07:00:00',\n",
      "               '2018-12-01 08:00:00', '2018-12-01 09:00:00',\n",
      "               '2018-12-01 10:00:00', '2018-12-01 11:00:00',\n",
      "               '2018-12-01 12:00:00', '2018-12-01 13:00:00',\n",
      "               '2018-12-01 14:00:00', '2018-12-01 15:00:00',\n",
      "               '2018-12-01 16:00:00', '2018-12-01 17:00:00',\n",
      "               '2018-12-01 18:00:00', '2018-12-01 19:00:00',\n",
      "               '2018-12-01 20:00:00', '2018-12-01 21:00:00',\n",
      "               '2018-12-01 22:00:00', '2018-12-01 23:00:00',\n",
      "               '2018-12-02 00:00:00', '2018-12-02 01:00:00',\n",
      "               '2018-12-02 02:00:00', '2018-12-02 03:00:00',\n",
      "               '2018-12-02 04:00:00', '2018-12-02 05:00:00'],\n",
      "              dtype='datetime64[ns]', freq='H')\n"
     ]
    }
   ],
   "source": [
    "rng = pd.date_range('12/1/2018', \n",
    "                    periods=30,\n",
    "                    freq='H')\n",
    "\n",
    "print(rng)"
   ]
  },
  {
   "cell_type": "code",
   "execution_count": 72,
   "metadata": {},
   "outputs": [
    {
     "name": "stdout",
     "output_type": "stream",
     "text": [
      "DatetimeIndex(['2018-12-01', '2018-12-02', '2018-12-03', '2018-12-04',\n",
      "               '2018-12-05', '2018-12-06', '2018-12-07', '2018-12-08',\n",
      "               '2018-12-09', '2018-12-10'],\n",
      "              dtype='datetime64[ns]', freq='D')\n"
     ]
    }
   ],
   "source": [
    "rng = pd.date_range('12/1/2018', \n",
    "                    periods=10, \n",
    "                    freq='D')\n",
    "\n",
    "print(rng)"
   ]
  },
  {
   "cell_type": "code",
   "execution_count": 73,
   "metadata": {},
   "outputs": [
    {
     "name": "stdout",
     "output_type": "stream",
     "text": [
      "                   A         B         C         D\n",
      "2018-12-01 -1.021051  0.424820 -0.109607 -0.300068\n",
      "2018-12-02 -0.114836  1.344437  1.825487  1.402166\n",
      "2018-12-03 -0.147683  1.319934 -0.641185 -0.044270\n",
      "2018-12-04 -1.924182 -1.205500 -1.588057  0.951452\n",
      "2018-12-05  1.649269  1.489803 -0.830438 -0.597075\n",
      "2018-12-06 -0.727015  1.110855  1.220718 -0.682758\n",
      "2018-12-07  1.078288  2.104230 -0.486928  0.705603\n",
      "2018-12-08  1.618043  0.757367  1.169392  0.279253\n",
      "2018-12-09  1.266129  0.124606 -0.923902  0.581257\n",
      "2018-12-10  1.800050 -0.454531 -2.368826 -0.689348\n"
     ]
    }
   ],
   "source": [
    "ts = pd.DataFrame(np.random.randn(len(rng), 4),\n",
    "                  index=rng, \n",
    "                  columns=['A', 'B', \n",
    "                           'C', 'D'])\n",
    "\n",
    "print(ts)"
   ]
  },
  {
   "cell_type": "code",
   "execution_count": 74,
   "metadata": {},
   "outputs": [
    {
     "name": "stdout",
     "output_type": "stream",
     "text": [
      "2018-12-01    0.878306\n",
      "2018-12-02    0.741791\n",
      "2018-12-03   -0.098107\n",
      "2018-12-04    1.164733\n",
      "2018-12-05   -0.456292\n",
      "2018-12-06    0.038628\n",
      "2018-12-07   -0.384605\n",
      "2018-12-08   -1.559226\n",
      "2018-12-09    0.067127\n",
      "2018-12-10    0.634041\n",
      "Freq: D, dtype: float64\n"
     ]
    }
   ],
   "source": [
    "ts = pd.Series(np.random.randn(len(rng)), index=rng)\n",
    "print(ts)"
   ]
  },
  {
   "cell_type": "code",
   "execution_count": 75,
   "metadata": {},
   "outputs": [
    {
     "ename": "FileNotFoundError",
     "evalue": "[Errno 2] No such file or directory: 'TSLA.csv'",
     "output_type": "error",
     "traceback": [
      "\u001b[1;31m---------------------------------------------------------------------------\u001b[0m",
      "\u001b[1;31mFileNotFoundError\u001b[0m                         Traceback (most recent call last)",
      "\u001b[1;32md:\\GIT-repository\\github-python-basics-II\\python-basics-II\\10-Pandas-Module.ipynb Célula 158\u001b[0m in \u001b[0;36m<cell line: 1>\u001b[1;34m()\u001b[0m\n\u001b[1;32m----> <a href='vscode-notebook-cell:/d%3A/GIT-repository/github-python-basics-II/python-basics-II/10-Pandas-Module.ipynb#Y306sZmlsZQ%3D%3D?line=0'>1</a>\u001b[0m df\u001b[39m=\u001b[39mpd\u001b[39m.\u001b[39;49mread_csv(\u001b[39m'\u001b[39;49m\u001b[39mTSLA.csv\u001b[39;49m\u001b[39m'\u001b[39;49m)\n\u001b[0;32m      <a href='vscode-notebook-cell:/d%3A/GIT-repository/github-python-basics-II/python-basics-II/10-Pandas-Module.ipynb#Y306sZmlsZQ%3D%3D?line=1'>2</a>\u001b[0m df\u001b[39m.\u001b[39mtail()\n",
      "File \u001b[1;32mc:\\Users\\Caíque Miranda\\AppData\\Local\\Programs\\Python\\Python310\\lib\\site-packages\\pandas\\util\\_decorators.py:311\u001b[0m, in \u001b[0;36mdeprecate_nonkeyword_arguments.<locals>.decorate.<locals>.wrapper\u001b[1;34m(*args, **kwargs)\u001b[0m\n\u001b[0;32m    305\u001b[0m \u001b[39mif\u001b[39;00m \u001b[39mlen\u001b[39m(args) \u001b[39m>\u001b[39m num_allow_args:\n\u001b[0;32m    306\u001b[0m     warnings\u001b[39m.\u001b[39mwarn(\n\u001b[0;32m    307\u001b[0m         msg\u001b[39m.\u001b[39mformat(arguments\u001b[39m=\u001b[39marguments),\n\u001b[0;32m    308\u001b[0m         \u001b[39mFutureWarning\u001b[39;00m,\n\u001b[0;32m    309\u001b[0m         stacklevel\u001b[39m=\u001b[39mstacklevel,\n\u001b[0;32m    310\u001b[0m     )\n\u001b[1;32m--> 311\u001b[0m \u001b[39mreturn\u001b[39;00m func(\u001b[39m*\u001b[39margs, \u001b[39m*\u001b[39m\u001b[39m*\u001b[39mkwargs)\n",
      "File \u001b[1;32mc:\\Users\\Caíque Miranda\\AppData\\Local\\Programs\\Python\\Python310\\lib\\site-packages\\pandas\\io\\parsers\\readers.py:680\u001b[0m, in \u001b[0;36mread_csv\u001b[1;34m(filepath_or_buffer, sep, delimiter, header, names, index_col, usecols, squeeze, prefix, mangle_dupe_cols, dtype, engine, converters, true_values, false_values, skipinitialspace, skiprows, skipfooter, nrows, na_values, keep_default_na, na_filter, verbose, skip_blank_lines, parse_dates, infer_datetime_format, keep_date_col, date_parser, dayfirst, cache_dates, iterator, chunksize, compression, thousands, decimal, lineterminator, quotechar, quoting, doublequote, escapechar, comment, encoding, encoding_errors, dialect, error_bad_lines, warn_bad_lines, on_bad_lines, delim_whitespace, low_memory, memory_map, float_precision, storage_options)\u001b[0m\n\u001b[0;32m    665\u001b[0m kwds_defaults \u001b[39m=\u001b[39m _refine_defaults_read(\n\u001b[0;32m    666\u001b[0m     dialect,\n\u001b[0;32m    667\u001b[0m     delimiter,\n\u001b[1;32m   (...)\u001b[0m\n\u001b[0;32m    676\u001b[0m     defaults\u001b[39m=\u001b[39m{\u001b[39m\"\u001b[39m\u001b[39mdelimiter\u001b[39m\u001b[39m\"\u001b[39m: \u001b[39m\"\u001b[39m\u001b[39m,\u001b[39m\u001b[39m\"\u001b[39m},\n\u001b[0;32m    677\u001b[0m )\n\u001b[0;32m    678\u001b[0m kwds\u001b[39m.\u001b[39mupdate(kwds_defaults)\n\u001b[1;32m--> 680\u001b[0m \u001b[39mreturn\u001b[39;00m _read(filepath_or_buffer, kwds)\n",
      "File \u001b[1;32mc:\\Users\\Caíque Miranda\\AppData\\Local\\Programs\\Python\\Python310\\lib\\site-packages\\pandas\\io\\parsers\\readers.py:575\u001b[0m, in \u001b[0;36m_read\u001b[1;34m(filepath_or_buffer, kwds)\u001b[0m\n\u001b[0;32m    572\u001b[0m _validate_names(kwds\u001b[39m.\u001b[39mget(\u001b[39m\"\u001b[39m\u001b[39mnames\u001b[39m\u001b[39m\"\u001b[39m, \u001b[39mNone\u001b[39;00m))\n\u001b[0;32m    574\u001b[0m \u001b[39m# Create the parser.\u001b[39;00m\n\u001b[1;32m--> 575\u001b[0m parser \u001b[39m=\u001b[39m TextFileReader(filepath_or_buffer, \u001b[39m*\u001b[39m\u001b[39m*\u001b[39mkwds)\n\u001b[0;32m    577\u001b[0m \u001b[39mif\u001b[39;00m chunksize \u001b[39mor\u001b[39;00m iterator:\n\u001b[0;32m    578\u001b[0m     \u001b[39mreturn\u001b[39;00m parser\n",
      "File \u001b[1;32mc:\\Users\\Caíque Miranda\\AppData\\Local\\Programs\\Python\\Python310\\lib\\site-packages\\pandas\\io\\parsers\\readers.py:934\u001b[0m, in \u001b[0;36mTextFileReader.__init__\u001b[1;34m(self, f, engine, **kwds)\u001b[0m\n\u001b[0;32m    931\u001b[0m     \u001b[39mself\u001b[39m\u001b[39m.\u001b[39moptions[\u001b[39m\"\u001b[39m\u001b[39mhas_index_names\u001b[39m\u001b[39m\"\u001b[39m] \u001b[39m=\u001b[39m kwds[\u001b[39m\"\u001b[39m\u001b[39mhas_index_names\u001b[39m\u001b[39m\"\u001b[39m]\n\u001b[0;32m    933\u001b[0m \u001b[39mself\u001b[39m\u001b[39m.\u001b[39mhandles: IOHandles \u001b[39m|\u001b[39m \u001b[39mNone\u001b[39;00m \u001b[39m=\u001b[39m \u001b[39mNone\u001b[39;00m\n\u001b[1;32m--> 934\u001b[0m \u001b[39mself\u001b[39m\u001b[39m.\u001b[39m_engine \u001b[39m=\u001b[39m \u001b[39mself\u001b[39;49m\u001b[39m.\u001b[39;49m_make_engine(f, \u001b[39mself\u001b[39;49m\u001b[39m.\u001b[39;49mengine)\n",
      "File \u001b[1;32mc:\\Users\\Caíque Miranda\\AppData\\Local\\Programs\\Python\\Python310\\lib\\site-packages\\pandas\\io\\parsers\\readers.py:1218\u001b[0m, in \u001b[0;36mTextFileReader._make_engine\u001b[1;34m(self, f, engine)\u001b[0m\n\u001b[0;32m   1214\u001b[0m     mode \u001b[39m=\u001b[39m \u001b[39m\"\u001b[39m\u001b[39mrb\u001b[39m\u001b[39m\"\u001b[39m\n\u001b[0;32m   1215\u001b[0m \u001b[39m# error: No overload variant of \"get_handle\" matches argument types\u001b[39;00m\n\u001b[0;32m   1216\u001b[0m \u001b[39m# \"Union[str, PathLike[str], ReadCsvBuffer[bytes], ReadCsvBuffer[str]]\"\u001b[39;00m\n\u001b[0;32m   1217\u001b[0m \u001b[39m# , \"str\", \"bool\", \"Any\", \"Any\", \"Any\", \"Any\", \"Any\"\u001b[39;00m\n\u001b[1;32m-> 1218\u001b[0m \u001b[39mself\u001b[39m\u001b[39m.\u001b[39mhandles \u001b[39m=\u001b[39m get_handle(  \u001b[39m# type: ignore[call-overload]\u001b[39;49;00m\n\u001b[0;32m   1219\u001b[0m     f,\n\u001b[0;32m   1220\u001b[0m     mode,\n\u001b[0;32m   1221\u001b[0m     encoding\u001b[39m=\u001b[39;49m\u001b[39mself\u001b[39;49m\u001b[39m.\u001b[39;49moptions\u001b[39m.\u001b[39;49mget(\u001b[39m\"\u001b[39;49m\u001b[39mencoding\u001b[39;49m\u001b[39m\"\u001b[39;49m, \u001b[39mNone\u001b[39;49;00m),\n\u001b[0;32m   1222\u001b[0m     compression\u001b[39m=\u001b[39;49m\u001b[39mself\u001b[39;49m\u001b[39m.\u001b[39;49moptions\u001b[39m.\u001b[39;49mget(\u001b[39m\"\u001b[39;49m\u001b[39mcompression\u001b[39;49m\u001b[39m\"\u001b[39;49m, \u001b[39mNone\u001b[39;49;00m),\n\u001b[0;32m   1223\u001b[0m     memory_map\u001b[39m=\u001b[39;49m\u001b[39mself\u001b[39;49m\u001b[39m.\u001b[39;49moptions\u001b[39m.\u001b[39;49mget(\u001b[39m\"\u001b[39;49m\u001b[39mmemory_map\u001b[39;49m\u001b[39m\"\u001b[39;49m, \u001b[39mFalse\u001b[39;49;00m),\n\u001b[0;32m   1224\u001b[0m     is_text\u001b[39m=\u001b[39;49mis_text,\n\u001b[0;32m   1225\u001b[0m     errors\u001b[39m=\u001b[39;49m\u001b[39mself\u001b[39;49m\u001b[39m.\u001b[39;49moptions\u001b[39m.\u001b[39;49mget(\u001b[39m\"\u001b[39;49m\u001b[39mencoding_errors\u001b[39;49m\u001b[39m\"\u001b[39;49m, \u001b[39m\"\u001b[39;49m\u001b[39mstrict\u001b[39;49m\u001b[39m\"\u001b[39;49m),\n\u001b[0;32m   1226\u001b[0m     storage_options\u001b[39m=\u001b[39;49m\u001b[39mself\u001b[39;49m\u001b[39m.\u001b[39;49moptions\u001b[39m.\u001b[39;49mget(\u001b[39m\"\u001b[39;49m\u001b[39mstorage_options\u001b[39;49m\u001b[39m\"\u001b[39;49m, \u001b[39mNone\u001b[39;49;00m),\n\u001b[0;32m   1227\u001b[0m )\n\u001b[0;32m   1228\u001b[0m \u001b[39massert\u001b[39;00m \u001b[39mself\u001b[39m\u001b[39m.\u001b[39mhandles \u001b[39mis\u001b[39;00m \u001b[39mnot\u001b[39;00m \u001b[39mNone\u001b[39;00m\n\u001b[0;32m   1229\u001b[0m f \u001b[39m=\u001b[39m \u001b[39mself\u001b[39m\u001b[39m.\u001b[39mhandles\u001b[39m.\u001b[39mhandle\n",
      "File \u001b[1;32mc:\\Users\\Caíque Miranda\\AppData\\Local\\Programs\\Python\\Python310\\lib\\site-packages\\pandas\\io\\common.py:786\u001b[0m, in \u001b[0;36mget_handle\u001b[1;34m(path_or_buf, mode, encoding, compression, memory_map, is_text, errors, storage_options)\u001b[0m\n\u001b[0;32m    781\u001b[0m \u001b[39melif\u001b[39;00m \u001b[39misinstance\u001b[39m(handle, \u001b[39mstr\u001b[39m):\n\u001b[0;32m    782\u001b[0m     \u001b[39m# Check whether the filename is to be opened in binary mode.\u001b[39;00m\n\u001b[0;32m    783\u001b[0m     \u001b[39m# Binary mode does not support 'encoding' and 'newline'.\u001b[39;00m\n\u001b[0;32m    784\u001b[0m     \u001b[39mif\u001b[39;00m ioargs\u001b[39m.\u001b[39mencoding \u001b[39mand\u001b[39;00m \u001b[39m\"\u001b[39m\u001b[39mb\u001b[39m\u001b[39m\"\u001b[39m \u001b[39mnot\u001b[39;00m \u001b[39min\u001b[39;00m ioargs\u001b[39m.\u001b[39mmode:\n\u001b[0;32m    785\u001b[0m         \u001b[39m# Encoding\u001b[39;00m\n\u001b[1;32m--> 786\u001b[0m         handle \u001b[39m=\u001b[39m \u001b[39mopen\u001b[39;49m(\n\u001b[0;32m    787\u001b[0m             handle,\n\u001b[0;32m    788\u001b[0m             ioargs\u001b[39m.\u001b[39;49mmode,\n\u001b[0;32m    789\u001b[0m             encoding\u001b[39m=\u001b[39;49mioargs\u001b[39m.\u001b[39;49mencoding,\n\u001b[0;32m    790\u001b[0m             errors\u001b[39m=\u001b[39;49merrors,\n\u001b[0;32m    791\u001b[0m             newline\u001b[39m=\u001b[39;49m\u001b[39m\"\u001b[39;49m\u001b[39m\"\u001b[39;49m,\n\u001b[0;32m    792\u001b[0m         )\n\u001b[0;32m    793\u001b[0m     \u001b[39melse\u001b[39;00m:\n\u001b[0;32m    794\u001b[0m         \u001b[39m# Binary mode\u001b[39;00m\n\u001b[0;32m    795\u001b[0m         handle \u001b[39m=\u001b[39m \u001b[39mopen\u001b[39m(handle, ioargs\u001b[39m.\u001b[39mmode)\n",
      "\u001b[1;31mFileNotFoundError\u001b[0m: [Errno 2] No such file or directory: 'TSLA.csv'"
     ]
    }
   ],
   "source": [
    "df=pd.read_csv('TSLA.csv')\n",
    "df.tail()"
   ]
  },
  {
   "cell_type": "code",
   "execution_count": null,
   "metadata": {},
   "outputs": [],
   "source": [
    "df = df.set_index('Date')\n",
    "df.tail()"
   ]
  },
  {
   "attachments": {},
   "cell_type": "markdown",
   "metadata": {},
   "source": [
    "#### Resampling Pandas TimeSeries"
   ]
  },
  {
   "cell_type": "code",
   "execution_count": 76,
   "metadata": {},
   "outputs": [
    {
     "name": "stdout",
     "output_type": "stream",
     "text": [
      "                            A         B         C         D\n",
      "2018-12-01 00:00:00 -0.442396 -0.066619 -0.063901  0.032863\n",
      "2018-12-01 01:00:00 -0.558400 -0.273722 -0.107967  0.763360\n",
      "2018-12-01 02:00:00  1.028090  0.280019 -0.798736  0.181104\n",
      "2018-12-01 03:00:00 -1.242946  0.032348  0.069839  1.525887\n",
      "2018-12-01 04:00:00 -0.412756 -0.204439 -0.221620 -0.741189\n",
      "2018-12-01 05:00:00 -0.514586  0.368851  0.052441  0.347456\n",
      "2018-12-01 06:00:00  0.530974 -0.608947  1.161020  0.287120\n",
      "2018-12-01 07:00:00 -1.067197  0.576996 -0.293537  0.859931\n",
      "2018-12-01 08:00:00 -0.578944 -0.632184 -0.732454  1.832056\n",
      "2018-12-01 09:00:00  0.529112 -1.000621 -0.362744  0.049242\n",
      "2018-12-01 10:00:00  0.339562 -0.616037  0.333667  0.401394\n",
      "2018-12-01 11:00:00  1.338392  1.616990 -0.887077 -0.454264\n",
      "2018-12-01 12:00:00  0.305210  0.915916 -0.941981  0.022747\n",
      "2018-12-01 13:00:00  0.364189  0.855969 -0.823870 -0.873395\n",
      "2018-12-01 14:00:00  0.574875  0.213437  0.455713  0.485294\n",
      "2018-12-01 15:00:00  0.374774 -0.812003  0.123306 -0.527811\n",
      "2018-12-01 16:00:00 -0.031242 -1.095778  0.186259 -1.107810\n",
      "2018-12-01 17:00:00 -0.161244 -0.036000 -0.629954  1.242730\n",
      "2018-12-01 18:00:00 -0.840545 -0.360620 -1.478378  0.059847\n",
      "2018-12-01 19:00:00  0.077671  0.807441  0.547925 -0.806360\n",
      "2018-12-01 20:00:00  0.864863  0.447484 -0.200310  0.080930\n",
      "2018-12-01 21:00:00 -0.147508 -0.560974 -0.670211 -0.871904\n",
      "2018-12-01 22:00:00  0.043248  0.413300  0.626442  0.312357\n",
      "2018-12-01 23:00:00  0.128833  1.964300  0.956748  0.339303\n",
      "2018-12-02 00:00:00 -1.823822 -0.037752  0.012528 -1.856961\n",
      "2018-12-02 01:00:00  1.094491  0.399380  0.526660 -0.639532\n",
      "2018-12-02 02:00:00  0.384195  0.523632  1.453414  0.130248\n",
      "2018-12-02 03:00:00 -0.436711 -1.502511  2.066324 -0.864795\n",
      "2018-12-02 04:00:00 -1.016119  1.179022 -0.640300  0.207956\n",
      "2018-12-02 05:00:00 -0.310801 -0.816786 -2.056432  0.664155\n"
     ]
    }
   ],
   "source": [
    "rng = pd.date_range('12/1/2018', \n",
    "                    periods=30,\n",
    "                    freq='H')\n",
    "\n",
    "ts = pd.DataFrame(np.random.randn(len(rng), 4),\n",
    "                  index=rng, \n",
    "                  columns=['A', 'B', \n",
    "                           'C', 'D'])\n",
    "\n",
    "print(ts)"
   ]
  },
  {
   "cell_type": "code",
   "execution_count": 77,
   "metadata": {},
   "outputs": [
    {
     "name": "stdout",
     "output_type": "stream",
     "text": [
      "                   A         B         C         D\n",
      "2018-12-01  0.020918  0.092713 -0.154141  0.143370\n",
      "2018-12-02 -0.351461 -0.042502  0.227032 -0.393155\n"
     ]
    }
   ],
   "source": [
    "ts = ts.resample(\"1D\").mean()\n",
    "print(ts)"
   ]
  },
  {
   "attachments": {},
   "cell_type": "markdown",
   "metadata": {},
   "source": [
    "#### Manipulating TimeSeries"
   ]
  },
  {
   "cell_type": "code",
   "execution_count": 78,
   "metadata": {},
   "outputs": [
    {
     "name": "stdout",
     "output_type": "stream",
     "text": [
      "                   A         B         C         D\n",
      "2018-12-01  0.832450 -0.846065 -0.110172  0.135266\n",
      "2018-12-02 -1.291002 -0.345322 -1.549687  0.853274\n",
      "2018-12-03 -0.084574 -0.852135  0.842000 -1.102338\n",
      "2018-12-04  0.772899  0.708556  0.855254 -0.966423\n",
      "2018-12-05 -0.096976 -0.742447  0.775705 -0.865556\n",
      "2018-12-06 -0.023150 -0.172216 -0.327256  0.788510\n",
      "2018-12-07  0.431581 -0.178212  2.095419 -0.609247\n",
      "2018-12-08  0.140947 -0.433207 -0.579218 -1.176862\n",
      "2018-12-09  0.716685 -0.431275 -0.863208  1.214851\n",
      "2018-12-10 -0.466859 -0.120417  0.423257 -1.240802\n",
      "2018-12-11  0.257617  0.842578  0.707846 -0.814820\n",
      "2018-12-12  0.515019 -1.097894 -0.328590 -1.138961\n",
      "2018-12-13 -1.333810 -0.254673 -0.339453 -0.374795\n",
      "2018-12-14  0.515163 -0.484293  1.419675  1.854725\n",
      "2018-12-15 -0.612159 -0.574398 -0.427715  0.291296\n",
      "2018-12-16 -0.415863 -0.590664  1.266523 -0.785543\n",
      "2018-12-17 -0.036432 -1.930961 -0.734225 -0.340181\n",
      "2018-12-18  0.075176  1.424605  1.172824 -0.925440\n",
      "2018-12-19  0.655491 -1.514402 -0.600422  0.334500\n",
      "2018-12-20  0.322478 -1.392190  0.254774 -1.474330\n",
      "2018-12-21 -0.688190 -1.723721 -0.914940 -1.094460\n",
      "2018-12-22 -0.672328 -0.492349 -1.420736  0.649224\n",
      "2018-12-23 -0.333547  0.556593  0.594727  0.050134\n",
      "2018-12-24 -1.807889 -0.166885  0.084225  1.161196\n",
      "2018-12-25  0.803022  0.605325 -0.030530  0.747294\n",
      "2018-12-26 -0.418354  0.054140  0.677037  0.535825\n",
      "2018-12-27 -0.682453 -0.969684 -0.990279  2.948240\n",
      "2018-12-28  1.474011  0.372759 -0.264873 -0.777859\n",
      "2018-12-29 -1.214010  1.850218 -0.937495  1.073065\n",
      "2018-12-30 -0.057682 -2.139820 -1.100960 -1.206518\n"
     ]
    }
   ],
   "source": [
    "rng = pd.date_range('12/1/2018', \n",
    "                    periods=30,\n",
    "                    freq='D')\n",
    "\n",
    "ts = pd.DataFrame(np.random.randn(len(rng), 4),\n",
    "                  index=rng, \n",
    "                  columns=['A', 'B', \n",
    "                           'C', 'D'])\n",
    "\n",
    "print(ts)"
   ]
  },
  {
   "cell_type": "code",
   "execution_count": 79,
   "metadata": {},
   "outputs": [
    {
     "data": {
      "text/html": [
       "<div>\n",
       "<style scoped>\n",
       "    .dataframe tbody tr th:only-of-type {\n",
       "        vertical-align: middle;\n",
       "    }\n",
       "\n",
       "    .dataframe tbody tr th {\n",
       "        vertical-align: top;\n",
       "    }\n",
       "\n",
       "    .dataframe thead th {\n",
       "        text-align: right;\n",
       "    }\n",
       "</style>\n",
       "<table border=\"1\" class=\"dataframe\">\n",
       "  <thead>\n",
       "    <tr style=\"text-align: right;\">\n",
       "      <th></th>\n",
       "      <th>A</th>\n",
       "      <th>B</th>\n",
       "      <th>C</th>\n",
       "      <th>D</th>\n",
       "    </tr>\n",
       "  </thead>\n",
       "  <tbody>\n",
       "    <tr>\n",
       "      <th>2018-12-15</th>\n",
       "      <td>-0.612159</td>\n",
       "      <td>-0.574398</td>\n",
       "      <td>-0.427715</td>\n",
       "      <td>0.291296</td>\n",
       "    </tr>\n",
       "    <tr>\n",
       "      <th>2018-12-16</th>\n",
       "      <td>-0.415863</td>\n",
       "      <td>-0.590664</td>\n",
       "      <td>1.266523</td>\n",
       "      <td>-0.785543</td>\n",
       "    </tr>\n",
       "    <tr>\n",
       "      <th>2018-12-17</th>\n",
       "      <td>-0.036432</td>\n",
       "      <td>-1.930961</td>\n",
       "      <td>-0.734225</td>\n",
       "      <td>-0.340181</td>\n",
       "    </tr>\n",
       "    <tr>\n",
       "      <th>2018-12-18</th>\n",
       "      <td>0.075176</td>\n",
       "      <td>1.424605</td>\n",
       "      <td>1.172824</td>\n",
       "      <td>-0.925440</td>\n",
       "    </tr>\n",
       "    <tr>\n",
       "      <th>2018-12-19</th>\n",
       "      <td>0.655491</td>\n",
       "      <td>-1.514402</td>\n",
       "      <td>-0.600422</td>\n",
       "      <td>0.334500</td>\n",
       "    </tr>\n",
       "    <tr>\n",
       "      <th>2018-12-20</th>\n",
       "      <td>0.322478</td>\n",
       "      <td>-1.392190</td>\n",
       "      <td>0.254774</td>\n",
       "      <td>-1.474330</td>\n",
       "    </tr>\n",
       "    <tr>\n",
       "      <th>2018-12-21</th>\n",
       "      <td>-0.688190</td>\n",
       "      <td>-1.723721</td>\n",
       "      <td>-0.914940</td>\n",
       "      <td>-1.094460</td>\n",
       "    </tr>\n",
       "    <tr>\n",
       "      <th>2018-12-22</th>\n",
       "      <td>-0.672328</td>\n",
       "      <td>-0.492349</td>\n",
       "      <td>-1.420736</td>\n",
       "      <td>0.649224</td>\n",
       "    </tr>\n",
       "    <tr>\n",
       "      <th>2018-12-23</th>\n",
       "      <td>-0.333547</td>\n",
       "      <td>0.556593</td>\n",
       "      <td>0.594727</td>\n",
       "      <td>0.050134</td>\n",
       "    </tr>\n",
       "    <tr>\n",
       "      <th>2018-12-24</th>\n",
       "      <td>-1.807889</td>\n",
       "      <td>-0.166885</td>\n",
       "      <td>0.084225</td>\n",
       "      <td>1.161196</td>\n",
       "    </tr>\n",
       "    <tr>\n",
       "      <th>2018-12-25</th>\n",
       "      <td>0.803022</td>\n",
       "      <td>0.605325</td>\n",
       "      <td>-0.030530</td>\n",
       "      <td>0.747294</td>\n",
       "    </tr>\n",
       "    <tr>\n",
       "      <th>2018-12-26</th>\n",
       "      <td>-0.418354</td>\n",
       "      <td>0.054140</td>\n",
       "      <td>0.677037</td>\n",
       "      <td>0.535825</td>\n",
       "    </tr>\n",
       "    <tr>\n",
       "      <th>2018-12-27</th>\n",
       "      <td>-0.682453</td>\n",
       "      <td>-0.969684</td>\n",
       "      <td>-0.990279</td>\n",
       "      <td>2.948240</td>\n",
       "    </tr>\n",
       "    <tr>\n",
       "      <th>2018-12-28</th>\n",
       "      <td>1.474011</td>\n",
       "      <td>0.372759</td>\n",
       "      <td>-0.264873</td>\n",
       "      <td>-0.777859</td>\n",
       "    </tr>\n",
       "    <tr>\n",
       "      <th>2018-12-29</th>\n",
       "      <td>-1.214010</td>\n",
       "      <td>1.850218</td>\n",
       "      <td>-0.937495</td>\n",
       "      <td>1.073065</td>\n",
       "    </tr>\n",
       "    <tr>\n",
       "      <th>2018-12-30</th>\n",
       "      <td>-0.057682</td>\n",
       "      <td>-2.139820</td>\n",
       "      <td>-1.100960</td>\n",
       "      <td>-1.206518</td>\n",
       "    </tr>\n",
       "  </tbody>\n",
       "</table>\n",
       "</div>"
      ],
      "text/plain": [
       "                   A         B         C         D\n",
       "2018-12-15 -0.612159 -0.574398 -0.427715  0.291296\n",
       "2018-12-16 -0.415863 -0.590664  1.266523 -0.785543\n",
       "2018-12-17 -0.036432 -1.930961 -0.734225 -0.340181\n",
       "2018-12-18  0.075176  1.424605  1.172824 -0.925440\n",
       "2018-12-19  0.655491 -1.514402 -0.600422  0.334500\n",
       "2018-12-20  0.322478 -1.392190  0.254774 -1.474330\n",
       "2018-12-21 -0.688190 -1.723721 -0.914940 -1.094460\n",
       "2018-12-22 -0.672328 -0.492349 -1.420736  0.649224\n",
       "2018-12-23 -0.333547  0.556593  0.594727  0.050134\n",
       "2018-12-24 -1.807889 -0.166885  0.084225  1.161196\n",
       "2018-12-25  0.803022  0.605325 -0.030530  0.747294\n",
       "2018-12-26 -0.418354  0.054140  0.677037  0.535825\n",
       "2018-12-27 -0.682453 -0.969684 -0.990279  2.948240\n",
       "2018-12-28  1.474011  0.372759 -0.264873 -0.777859\n",
       "2018-12-29 -1.214010  1.850218 -0.937495  1.073065\n",
       "2018-12-30 -0.057682 -2.139820 -1.100960 -1.206518"
      ]
     },
     "execution_count": 79,
     "metadata": {},
     "output_type": "execute_result"
    }
   ],
   "source": [
    "# Getting all values from a specific date:\n",
    "ts['2018-12-15':]"
   ]
  },
  {
   "cell_type": "code",
   "execution_count": 80,
   "metadata": {},
   "outputs": [
    {
     "data": {
      "text/html": [
       "<div>\n",
       "<style scoped>\n",
       "    .dataframe tbody tr th:only-of-type {\n",
       "        vertical-align: middle;\n",
       "    }\n",
       "\n",
       "    .dataframe tbody tr th {\n",
       "        vertical-align: top;\n",
       "    }\n",
       "\n",
       "    .dataframe thead th {\n",
       "        text-align: right;\n",
       "    }\n",
       "</style>\n",
       "<table border=\"1\" class=\"dataframe\">\n",
       "  <thead>\n",
       "    <tr style=\"text-align: right;\">\n",
       "      <th></th>\n",
       "      <th>A</th>\n",
       "      <th>B</th>\n",
       "      <th>C</th>\n",
       "      <th>D</th>\n",
       "    </tr>\n",
       "  </thead>\n",
       "  <tbody>\n",
       "    <tr>\n",
       "      <th>2018-12-15</th>\n",
       "      <td>-0.612159</td>\n",
       "      <td>-0.574398</td>\n",
       "      <td>-0.427715</td>\n",
       "      <td>0.291296</td>\n",
       "    </tr>\n",
       "    <tr>\n",
       "      <th>2018-12-16</th>\n",
       "      <td>-0.415863</td>\n",
       "      <td>-0.590664</td>\n",
       "      <td>1.266523</td>\n",
       "      <td>-0.785543</td>\n",
       "    </tr>\n",
       "    <tr>\n",
       "      <th>2018-12-17</th>\n",
       "      <td>-0.036432</td>\n",
       "      <td>-1.930961</td>\n",
       "      <td>-0.734225</td>\n",
       "      <td>-0.340181</td>\n",
       "    </tr>\n",
       "    <tr>\n",
       "      <th>2018-12-18</th>\n",
       "      <td>0.075176</td>\n",
       "      <td>1.424605</td>\n",
       "      <td>1.172824</td>\n",
       "      <td>-0.925440</td>\n",
       "    </tr>\n",
       "    <tr>\n",
       "      <th>2018-12-19</th>\n",
       "      <td>0.655491</td>\n",
       "      <td>-1.514402</td>\n",
       "      <td>-0.600422</td>\n",
       "      <td>0.334500</td>\n",
       "    </tr>\n",
       "    <tr>\n",
       "      <th>2018-12-20</th>\n",
       "      <td>0.322478</td>\n",
       "      <td>-1.392190</td>\n",
       "      <td>0.254774</td>\n",
       "      <td>-1.474330</td>\n",
       "    </tr>\n",
       "  </tbody>\n",
       "</table>\n",
       "</div>"
      ],
      "text/plain": [
       "                   A         B         C         D\n",
       "2018-12-15 -0.612159 -0.574398 -0.427715  0.291296\n",
       "2018-12-16 -0.415863 -0.590664  1.266523 -0.785543\n",
       "2018-12-17 -0.036432 -1.930961 -0.734225 -0.340181\n",
       "2018-12-18  0.075176  1.424605  1.172824 -0.925440\n",
       "2018-12-19  0.655491 -1.514402 -0.600422  0.334500\n",
       "2018-12-20  0.322478 -1.392190  0.254774 -1.474330"
      ]
     },
     "execution_count": 80,
     "metadata": {},
     "output_type": "execute_result"
    }
   ],
   "source": [
    "# Getting all values inside a date range:\n",
    "ts['2018-12-15':'2018-12-20']"
   ]
  },
  {
   "cell_type": "code",
   "execution_count": 81,
   "metadata": {},
   "outputs": [
    {
     "name": "stdout",
     "output_type": "stream",
     "text": [
      "Author: Caique Miranda\n",
      "\n",
      "Github username: caiquemiranda\n",
      "\n",
      "numpy : 1.23.0\n",
      "pandas: 1.4.3\n",
      "\n"
     ]
    }
   ],
   "source": [
    "%reload_ext watermark\n",
    "%watermark -a \"Caique Miranda\" -gu \"caiquemiranda\" -iv"
   ]
  },
  {
   "attachments": {},
   "cell_type": "markdown",
   "metadata": {},
   "source": [
    "### End."
   ]
  }
 ],
 "metadata": {
  "kernelspec": {
   "display_name": "Python 3",
   "language": "python",
   "name": "python3"
  },
  "language_info": {
   "codemirror_mode": {
    "name": "ipython",
    "version": 3
   },
   "file_extension": ".py",
   "mimetype": "text/x-python",
   "name": "python",
   "nbconvert_exporter": "python",
   "pygments_lexer": "ipython3",
   "version": "3.10.5"
  },
  "orig_nbformat": 4,
  "vscode": {
   "interpreter": {
    "hash": "74af3d2f25f1e46ebd2903d59225d79e4675ec224d56c01fc30cd168c2010d53"
   }
  }
 },
 "nbformat": 4,
 "nbformat_minor": 2
}
